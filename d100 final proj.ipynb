{
 "cells": [
  {
   "cell_type": "markdown",
   "metadata": {},
   "source": [
    "## Data 100 Final Project - COVID19 Dataset"
   ]
  },
  {
   "cell_type": "markdown",
   "metadata": {},
   "source": [
    "Aislin Liu, Anand Chandra"
   ]
  },
  {
   "cell_type": "code",
   "execution_count": 96,
   "metadata": {},
   "outputs": [],
   "source": [
    "import math\n",
    "import pandas as pd\n",
    "import numpy as np\n",
    "import matplotlib.pyplot as plt\n",
    "import matplotlib.gridspec as gridspec\n",
    "from matplotlib.colors import ListedColormap \n",
    "import seaborn as sns\n",
    "#sklearn imports\n",
    "from sklearn import tree\n",
    "from sklearn.model_selection import train_test_split\n",
    "from sklearn import ensemble\n",
    "from sklearn.metrics import accuracy_score\n",
    "from sklearn.linear_model import LinearRegression\n",
    "from sklearn.metrics import mean_squared_error\n",
    "from sklearn.pipeline import Pipeline\n",
    "from sklearn.compose import ColumnTransformer"
   ]
  },
  {
   "cell_type": "markdown",
   "metadata": {},
   "source": [
    "Our overarching question we are hoping to model is how many days from the start of data collection (1/22/20) does it take a county to reach an established threshold of \"dangerous\"? We defined this \"dangerous\" threshold as 2% infection of the county's population."
   ]
  },
  {
   "cell_type": "code",
   "execution_count": 97,
   "metadata": {},
   "outputs": [
    {
     "name": "stdout",
     "output_type": "stream",
     "text": [
      "Index(['countyFIPS', 'STATEFP', 'COUNTYFP', 'CountyName', 'StateName', 'State',\n",
      "       'Rural-UrbanContinuumCode2013', 'PopulationEstimate2018',\n",
      "       'PopTotalMale2017', 'PopTotalFemale2017', 'FracMale2017',\n",
      "       'PopulationEstimate65+2017', 'PopulationDensityperSqMile2010',\n",
      "       'CensusPopulation2010', 'MedianAge2010', '#EligibleforMedicare2018',\n",
      "       'MedicareEnrollment,AgedTot2017', '3-YrDiabetes2015-17',\n",
      "       'DiabetesPercentage', 'HeartDiseaseMortality', 'StrokeMortality',\n",
      "       'Smokers_Percentage', 'RespMortalityRate2014', '#FTEHospitalTotal2017',\n",
      "       'TotalM.D.'s,TotNon-FedandFed2017', '#HospParticipatinginNetwork2017',\n",
      "       '#Hospitals', '#ICU_beds', 'dem_to_rep_ratio', 'PopMale<52010',\n",
      "       'PopFmle<52010', 'PopMale5-92010', 'PopFmle5-92010', 'PopMale10-142010',\n",
      "       'PopFmle10-142010', 'PopMale15-192010', 'PopFmle15-192010',\n",
      "       'PopMale20-242010', 'PopFmle20-242010', 'PopMale25-292010',\n",
      "       'PopFmle25-292010', 'PopMale30-342010', 'PopFmle30-342010',\n",
      "       'PopMale35-442010', 'PopFmle35-442010', 'PopMale45-542010',\n",
      "       'PopFmle45-542010', 'PopMale55-592010', 'PopFmle55-592010',\n",
      "       'PopMale60-642010', 'PopFmle60-642010', 'PopMale65-742010',\n",
      "       'PopFmle65-742010', 'PopMale75-842010', 'PopFmle75-842010',\n",
      "       'PopMale>842010', 'PopFmle>842010', '3-YrMortalityAge<1Year2015-17',\n",
      "       '3-YrMortalityAge1-4Years2015-17', '3-YrMortalityAge5-14Years2015-17',\n",
      "       '3-YrMortalityAge15-24Years2015-17',\n",
      "       '3-YrMortalityAge25-34Years2015-17',\n",
      "       '3-YrMortalityAge35-44Years2015-17',\n",
      "       '3-YrMortalityAge45-54Years2015-17',\n",
      "       '3-YrMortalityAge55-64Years2015-17',\n",
      "       '3-YrMortalityAge65-74Years2015-17',\n",
      "       '3-YrMortalityAge75-84Years2015-17', '3-YrMortalityAge85+Years2015-17',\n",
      "       'mortality2015-17Estimated', 'stay at home', '>50 gatherings',\n",
      "       '>500 gatherings', 'public schools', 'restaurant dine-in',\n",
      "       'entertainment/gym', 'federal guidelines', 'foreign travel ban',\n",
      "       'SVIPercentile', 'HPSAShortage', 'HPSAServedPop', 'HPSAUnderservedPop'],\n",
      "      dtype='object')\n"
     ]
    },
    {
     "data": {
      "text/plain": [
       "0.8000     13\n",
       "0.4700     12\n",
       "0.6300     11\n",
       "0.7100     11\n",
       "0.3600     11\n",
       "           ..\n",
       "14.0500     1\n",
       "3.4100      1\n",
       "1.3815      1\n",
       "23.1202     1\n",
       "2.6000      1\n",
       "Name: HPSAShortage, Length: 910, dtype: int64"
      ]
     },
     "execution_count": 97,
     "metadata": {},
     "output_type": "execute_result"
    }
   ],
   "source": [
    "abridged_counties = pd.read_csv(\"abridged_couties.csv\")\n",
    "abridged_counties.head(30)\n",
    "#FIRST: data cleaning for the Gregorian dates to datetime format\n",
    "#Convert the Gregorian dates to normal readable datetime format\n",
    "#Columns that need this: \"stay at home\", \">50 gatherings\", \">500 gatherings\", \"public schools\", \"restaurant dine-in\", \"entertainment/gym\", \"federal guidelines\", \"foreign travel ban\"\n",
    "#Had to write a method for this since the pd.Timestamp.fromordinal() method only takes in scalars\n",
    "def ordinalToTimeStamp(series):\n",
    "    arr = []\n",
    "    array_form = series.values\n",
    "    for o_date in array_form:\n",
    "        if not math.isnan(o_date):\n",
    "            arr.append(pd.Timestamp.fromordinal(int(o_date)))\n",
    "        else:\n",
    "            arr.append(o_date)\n",
    "    return arr\n",
    "gregorian = [\"stay at home\", \">50 gatherings\", \">500 gatherings\", \"public schools\", \"restaurant dine-in\", \"entertainment/gym\", \"federal guidelines\", \"foreign travel ban\"]\n",
    "for column in gregorian:\n",
    "    abridged_counties[column] = ordinalToTimeStamp(abridged_counties[column])\n",
    "#Dropping some columns that I won't be basing analysis off just to have cleaner tables to look at\n",
    "abridged_counties = abridged_counties.drop([\"lat\", \"lon\", \"POP_LATITUDE\", \"POP_LONGITUDE\", \"CensusRegionName\", \"CensusDivisionName\"], axis=1)\n",
    "abridged_counties\n",
    "print(abridged_counties.columns)\n",
    "#SECOND: normalizing # of hospitals in county so they are compared evenly by representing as hospitals per capita\n",
    "abridged_counties[\"Hospitals Per Capita\"] = abridged_counties[\"#Hospitals\"] / abridged_counties[\"PopulationEstimate2018\"]\n",
    "abridged_counties[\"HPSAShortage\"].value_counts()"
   ]
  },
  {
   "cell_type": "markdown",
   "metadata": {},
   "source": [
    "In the cell below, we did data cleaning for \"confirmed\" dataset. We removed all nulls and replaced it with appropriate values. In the \"Admin2\" column, nulls were replaced with empty string for when the data point had no county name stored. All areas/regions that had NaN for \"FIPS\" column is because they were not an actual county but still a group of people with noteworthy virus infection like correctional facilities. No actual US county has a FIPS of 0 so we filled these nulls in with 0. "
   ]
  },
  {
   "cell_type": "code",
   "execution_count": 98,
   "metadata": {},
   "outputs": [
    {
     "name": "stdout",
     "output_type": "stream",
     "text": [
      "There are currently 11 NaN values in confirmed\n",
      "There are now 0 NaN values in confirmed\n",
      "Index(['UID', 'iso2', 'iso3', 'code3', 'FIPS', 'Admin2', 'Province_State',\n",
      "       'Country_Region', 'Lat', 'Long_', 'Combined_Key', '1/22/20', '1/23/20',\n",
      "       '1/24/20', '1/25/20', '1/26/20', '1/27/20', '1/28/20', '1/29/20',\n",
      "       '1/30/20', '1/31/20', '2/1/20', '2/2/20', '2/3/20', '2/4/20', '2/5/20',\n",
      "       '2/6/20', '2/7/20', '2/8/20', '2/9/20', '2/10/20', '2/11/20', '2/12/20',\n",
      "       '2/13/20', '2/14/20', '2/15/20', '2/16/20', '2/17/20', '2/18/20',\n",
      "       '2/19/20', '2/20/20', '2/21/20', '2/22/20', '2/23/20', '2/24/20',\n",
      "       '2/25/20', '2/26/20', '2/27/20', '2/28/20', '2/29/20', '3/1/20',\n",
      "       '3/2/20', '3/3/20', '3/4/20', '3/5/20', '3/6/20', '3/7/20', '3/8/20',\n",
      "       '3/9/20', '3/10/20', '3/11/20', '3/12/20', '3/13/20', '3/14/20',\n",
      "       '3/15/20', '3/16/20', '3/17/20', '3/18/20', '3/19/20', '3/20/20',\n",
      "       '3/21/20', '3/22/20', '3/23/20', '3/24/20', '3/25/20', '3/26/20',\n",
      "       '3/27/20', '3/28/20', '3/29/20', '3/30/20', '3/31/20', '4/1/20',\n",
      "       '4/2/20', '4/3/20', '4/4/20', '4/5/20', '4/6/20', '4/7/20', '4/8/20',\n",
      "       '4/9/20', '4/10/20', '4/11/20', '4/12/20', '4/13/20', '4/14/20',\n",
      "       '4/15/20', '4/16/20', '4/17/20', '4/18/20'],\n",
      "      dtype='object')\n"
     ]
    }
   ],
   "source": [
    "confirmed = pd.read_csv(\"time_series_covid19_confirmed_US.csv\")\n",
    "print(\"There are currently \" + str(confirmed.isna().sum().sum()) + \" NaN values in confirmed\")\n",
    "confirmed[\"Admin2\"].fillna(\"\", inplace=True)\n",
    "confirmed[\"FIPS\"].fillna(0, inplace=True)\n",
    "print(\"There are now \" + str(confirmed.isna().sum().sum()) + \" NaN values in confirmed\")\n",
    "print(confirmed.columns)\n",
    "# confirmed.shape"
   ]
  },
  {
   "cell_type": "markdown",
   "metadata": {},
   "source": [
    "In the couple cells below, we began with exploring the idea of \"threshold level of dangerous\" and how many days since infection it took a county to reach this threshold. We defined this threshold as a certain proportion of the county's population being confirmed COVID19 cases in order to normalize against variance in the data points caused by counties with higher populations or lower populations. We were hoping to model the idea of taking into account features like SVIPercentile and recent confirmed case counts to predict in how many days a county will reach \"dangerous\" levels of infection. This idea was abandoned because as we lowered this \"threshold\" proportion of the county infected to a level we don't believe is very meaningful, we still had very few counties even pass this threshold in the 87 days since data collection began. This would lead to minimal data to train on and a large proportion of counties to predict on which would make constructing an accurate model for the 3000 counties yet to surpass an unlikely feat."
   ]
  },
  {
   "cell_type": "code",
   "execution_count": 99,
   "metadata": {},
   "outputs": [],
   "source": [
    "#Code that constructs an array 'days' that holds all the days we are tracking over\n",
    "#Done for simplicity purposes to iterate through the dataframe from each day\n",
    "days = []\n",
    "month = 1\n",
    "day = 22\n",
    "while month <= 4:\n",
    "    if month == 1 and day == 32:\n",
    "        month = 2\n",
    "        day = 1\n",
    "        continue\n",
    "    elif month == 2 and day == 30:\n",
    "        month = 3\n",
    "        day = 1\n",
    "        continue\n",
    "    elif month == 3 and day == 32:\n",
    "        month = 4\n",
    "        day = 1\n",
    "        continue\n",
    "    elif month == 4 and day == 19:\n",
    "        break\n",
    "    else:\n",
    "        date = str(month) + \"/\" + str(day) + \"/20\"\n",
    "        days.append(date)\n",
    "        day += 1"
   ]
  },
  {
   "cell_type": "code",
   "execution_count": 154,
   "metadata": {},
   "outputs": [
    {
     "name": "stdout",
     "output_type": "stream",
     "text": [
      "4 counties have already passed your defined threshold of 1e-12\n",
      "2734 counties have yet to pass your threshold\n"
     ]
    },
    {
     "data": {
      "text/plain": [
       "999    2734\n",
       "0         4\n",
       "Name: days_to_surpass, dtype: int64"
      ]
     },
     "execution_count": 154,
     "metadata": {},
     "output_type": "execute_result"
    }
   ],
   "source": [
    "#Creation of county_cases dataframe that has a column for how many days since 1/22/20 it took a county to\n",
    "#surpass a defined threshold, originally 2% of the population, but we began lowering it to see what happens.\n",
    "#NOTE: This was just exploratory as it ended up not working but if it did work I would have changed the column\n",
    "#to be days since first confirmed case the threshold was reached, but I ended up finding this route was not worth \n",
    "#pursuing in general.\n",
    "county_cases = confirmed.join(abridged_counties, how=\"left\", on=\"UID\")\n",
    "#Remove counties with no cases because cannot determine when it will pass a threshold without a first case for growth\n",
    "county_cases = county_cases[county_cases[\"4/18/20\"] != 0]\n",
    "days_to_surpass = []\n",
    "indicator = []\n",
    "first_infection = []\n",
    "threshold = .000000000001\n",
    "for i in range(county_cases.shape[0]):\n",
    "    row = county_cases.iloc[i]\n",
    "    for j in range(len(days)):\n",
    "        day = days[j]\n",
    "        proportion = row[day] / row[\"PopulationEstimate2018\"]\n",
    "        if j == len(days) - 1:\n",
    "            days_to_surpass.append(999)\n",
    "            indicator.append(0)\n",
    "            first_infection.append(j)\n",
    "        if proportion > threshold:\n",
    "            days_to_surpass.append(j)\n",
    "            indicator.append(1)\n",
    "            break\n",
    "county_cases[\"days_to_surpass\"] = days_to_surpass\n",
    "county_cases[\"indicator\"] = indicator\n",
    "#Separating counties that passed the threshold(lowered way further than I was expecting to) and those that haven't\n",
    "already_passed = county_cases[county_cases[\"days_to_surpass\"] != 999]\n",
    "havent_passed = county_cases[county_cases[\"days_to_surpass\"] == 999]\n",
    "print(str(already_passed.shape[0]) + \" counties have already passed your defined threshold of \" + str(threshold))\n",
    "print(str(havent_passed.shape[0]) + \" counties have yet to pass your threshold\")\n",
    "#I realized that even though the set threshold was extremely low now, the large, large majority of counties had\n",
    "#yet to pass the threshold so the size of my set for training was so much smaller than what I had to test on\n",
    "#which would lead to a poor model that couldn't predict accurately\n",
    "county_cases[\"days_to_surpass\"].value_counts()"
   ]
  },
  {
   "cell_type": "code",
   "execution_count": 142,
   "metadata": {},
   "outputs": [
    {
     "data": {
      "text/plain": [
       "<matplotlib.axes._subplots.AxesSubplot at 0x1c22d8c790>"
      ]
     },
     "execution_count": 142,
     "metadata": {},
     "output_type": "execute_result"
    },
    {
     "data": {
      "image/png": "[encoded data removed]",
      "text/plain": [
       "<Figure size 432x288 with 1 Axes>"
      ]
     },
     "metadata": {
      "needs_background": "light"
     },
     "output_type": "display_data"
    }
   ],
   "source": [
    "# no_outlier = county_cases[county_cases[\"dem_to_rep_ratio\"] < 5]\n",
    "# sns.scatterplot(data=no_outlier, x=\"dem_to_rep_ratio\", y='MedicareEnrollment,AgedTot2017', hue=\"indicator\")\n",
    "sns.scatterplot(data=county_cases, x=\"Long_\", y=\"Lat\", hue=\"indicator\", alpha=.1)"
   ]
  },
  {
   "cell_type": "markdown",
   "metadata": {},
   "source": [
    "We realized that using number of days to reach the defined threshold of dangerous to quantify the danger levels was unideal since it seems the threshold would likely need to be super, super low to account for the data we had. We moved on to explore using the variable of the max proportion of the population that is infected/confirmed at a given time to quantify dangerous levels of infection."
   ]
  },
  {
   "cell_type": "code",
   "execution_count": 103,
   "metadata": {},
   "outputs": [
    {
     "data": {
      "text/plain": [
       "(1732.2435320384398, 1226.4360412864269)"
      ]
     },
     "execution_count": 103,
     "metadata": {},
     "output_type": "execute_result"
    }
   ],
   "source": [
    "days = [\"4/16/20\", \"4/17/20\"] #just 4/17/20\n",
    "model = Pipeline([\n",
    "    (\"SelectColumns\", ColumnTransformer([(\"keep\", \"passthrough\", days)])),\n",
    "    (\"DecisionTree\", LinearRegression())\n",
    "])\n",
    "model.fit(train[days], train[\"4/18/20\"])\n",
    "models[\"h+a+svi+dr+hpsa\"] = model\n",
    "test_mse = mean_squared_error(test[\"4/18/20\"], model.predict(test[days]))\n",
    "train_mse = mean_squared_error(train[\"4/18/20\"], model.predict(train[days]))\n",
    "(train_mse, test_mse)"
   ]
  },
  {
   "cell_type": "code",
   "execution_count": 104,
   "metadata": {},
   "outputs": [
    {
     "data": {
      "text/plain": [
       "(1687.016629862062, 1492.0127999796691)"
      ]
     },
     "execution_count": 104,
     "metadata": {},
     "output_type": "execute_result"
    }
   ],
   "source": [
    "days = [\"4/15/20\", \"4/16/20\", \"4/17/20\"] #just 4/17/20\n",
    "model = Pipeline([\n",
    "    (\"SelectColumns\", ColumnTransformer([(\"keep\", \"passthrough\", days)])),\n",
    "    (\"DecisionTree\", LinearRegression())\n",
    "])\n",
    "model.fit(train[days], train[\"4/18/20\"])\n",
    "models[\"h+a+svi+dr+hpsa\"] = model\n",
    "test_mse = mean_squared_error(test[\"4/18/20\"], model.predict(test[days]))\n",
    "train_mse = mean_squared_error(train[\"4/18/20\"], model.predict(train[days]))\n",
    "(train_mse, test_mse)"
   ]
  },
  {
   "cell_type": "code",
   "execution_count": 105,
   "metadata": {},
   "outputs": [
    {
     "data": {
      "text/plain": [
       "2740.479969818207"
      ]
     },
     "execution_count": 105,
     "metadata": {},
     "output_type": "execute_result"
    }
   ],
   "source": [
    "#interestingly, testing from previous days is really good at predicting 4/18 infection so likely we can predict 4/19 infection?\n",
    "decision_tree_model = tree.DecisionTreeRegressor(random_state=42)\n",
    "train, test = train_test_split(confirmed, test_size=.25, random_state=42)\n",
    "decision_tree_model.fit(train[[\"4/16/20\", \"4/17/20\"]], train[\"4/18/20\"])\n",
    "dt_training_accuracy = decision_tree_model.score(train[[\"4/16/20\", \"4/17/20\"]], train[\"4/18/20\"])\n",
    "dt_testing_accuracy = decision_tree_model.score(test[[\"4/16/20\", \"4/17/20\"]], test[\"4/18/20\"])\n",
    "mean_squared_error(test[\"4/18/20\"], decision_tree_model.predict(test[[\"4/16/20\", \"4/17/20\"]]))\n",
    "# y_hat = decision_tree_model.predict(county_cases[[\"4/17/20\", \"4/18/20\"]])\n",
    "# for val in y_hat:\n",
    "#     print(val)"
   ]
  },
  {
   "cell_type": "code",
   "execution_count": 106,
   "metadata": {},
   "outputs": [
    {
     "data": {
      "text/html": [
       "<div>\n",
       "<style scoped>\n",
       "    .dataframe tbody tr th:only-of-type {\n",
       "        vertical-align: middle;\n",
       "    }\n",
       "\n",
       "    .dataframe tbody tr th {\n",
       "        vertical-align: top;\n",
       "    }\n",
       "\n",
       "    .dataframe thead th {\n",
       "        text-align: right;\n",
       "    }\n",
       "</style>\n",
       "<table border=\"1\" class=\"dataframe\">\n",
       "  <thead>\n",
       "    <tr style=\"text-align: right;\">\n",
       "      <th></th>\n",
       "      <th>UID</th>\n",
       "      <th>variable</th>\n",
       "      <th>value</th>\n",
       "    </tr>\n",
       "  </thead>\n",
       "  <tbody>\n",
       "    <tr>\n",
       "      <td>179003</td>\n",
       "      <td>84090036</td>\n",
       "      <td>3/14/20</td>\n",
       "      <td>25.0</td>\n",
       "    </tr>\n",
       "    <tr>\n",
       "      <td>195278</td>\n",
       "      <td>84090036</td>\n",
       "      <td>3/19/20</td>\n",
       "      <td>18.0</td>\n",
       "    </tr>\n",
       "    <tr>\n",
       "      <td>198533</td>\n",
       "      <td>84090036</td>\n",
       "      <td>3/20/20</td>\n",
       "      <td>449.0</td>\n",
       "    </tr>\n",
       "    <tr>\n",
       "      <td>205043</td>\n",
       "      <td>84090036</td>\n",
       "      <td>3/22/20</td>\n",
       "      <td>23.0</td>\n",
       "    </tr>\n",
       "    <tr>\n",
       "      <td>208298</td>\n",
       "      <td>84090036</td>\n",
       "      <td>3/23/20</td>\n",
       "      <td>107.0</td>\n",
       "    </tr>\n",
       "  </tbody>\n",
       "</table>\n",
       "</div>"
      ],
      "text/plain": [
       "             UID variable  value\n",
       "179003  84090036  3/14/20   25.0\n",
       "195278  84090036  3/19/20   18.0\n",
       "198533  84090036  3/20/20  449.0\n",
       "205043  84090036  3/22/20   23.0\n",
       "208298  84090036  3/23/20  107.0"
      ]
     },
     "execution_count": 106,
     "metadata": {},
     "output_type": "execute_result"
    }
   ],
   "source": [
    "populations = confirmed.drop(['iso2', 'iso3', 'code3', 'FIPS', 'Province_State', 'Admin2', 'Country_Region', 'Combined_Key'], axis='columns')\n",
    "dates = populations.columns[1:]\n",
    "populations = populations.melt(id_vars=['UID'])\n",
    "populations = populations.loc[populations['value'] != 0]\n",
    "# sns.barplot(x='variable', y='value', hue='UID', data=populations.head(1000))\n",
    "populations.loc[populations['UID'] == 84090036]"
   ]
  },
  {
   "cell_type": "code",
   "execution_count": 140,
   "metadata": {},
   "outputs": [
    {
     "data": {
      "text/html": [
       "<div>\n",
       "<style scoped>\n",
       "    .dataframe tbody tr th:only-of-type {\n",
       "        vertical-align: middle;\n",
       "    }\n",
       "\n",
       "    .dataframe tbody tr th {\n",
       "        vertical-align: top;\n",
       "    }\n",
       "\n",
       "    .dataframe thead th {\n",
       "        text-align: right;\n",
       "    }\n",
       "</style>\n",
       "<table border=\"1\" class=\"dataframe\">\n",
       "  <thead>\n",
       "    <tr style=\"text-align: right;\">\n",
       "      <th></th>\n",
       "      <th>UID</th>\n",
       "      <th>iso2</th>\n",
       "      <th>iso3</th>\n",
       "      <th>code3</th>\n",
       "      <th>FIPS</th>\n",
       "      <th>Admin2</th>\n",
       "      <th>Province_State</th>\n",
       "      <th>Country_Region</th>\n",
       "      <th>Lat</th>\n",
       "      <th>Long_</th>\n",
       "      <th>...</th>\n",
       "      <th>4/9/20</th>\n",
       "      <th>4/10/20</th>\n",
       "      <th>4/11/20</th>\n",
       "      <th>4/12/20</th>\n",
       "      <th>4/13/20</th>\n",
       "      <th>4/14/20</th>\n",
       "      <th>4/15/20</th>\n",
       "      <th>4/16/20</th>\n",
       "      <th>4/17/20</th>\n",
       "      <th>4/18/20</th>\n",
       "    </tr>\n",
       "  </thead>\n",
       "  <tbody>\n",
       "    <tr>\n",
       "      <td>0</td>\n",
       "      <td>16</td>\n",
       "      <td>AS</td>\n",
       "      <td>ASM</td>\n",
       "      <td>16</td>\n",
       "      <td>60.0</td>\n",
       "      <td></td>\n",
       "      <td>American Samoa</td>\n",
       "      <td>US</td>\n",
       "      <td>-14.2710</td>\n",
       "      <td>-170.1320</td>\n",
       "      <td>...</td>\n",
       "      <td>0</td>\n",
       "      <td>0</td>\n",
       "      <td>0</td>\n",
       "      <td>0</td>\n",
       "      <td>0</td>\n",
       "      <td>0</td>\n",
       "      <td>0</td>\n",
       "      <td>0</td>\n",
       "      <td>0</td>\n",
       "      <td>0</td>\n",
       "    </tr>\n",
       "    <tr>\n",
       "      <td>1</td>\n",
       "      <td>316</td>\n",
       "      <td>GU</td>\n",
       "      <td>GUM</td>\n",
       "      <td>316</td>\n",
       "      <td>66.0</td>\n",
       "      <td></td>\n",
       "      <td>Guam</td>\n",
       "      <td>US</td>\n",
       "      <td>13.4443</td>\n",
       "      <td>144.7937</td>\n",
       "      <td>...</td>\n",
       "      <td>128</td>\n",
       "      <td>130</td>\n",
       "      <td>133</td>\n",
       "      <td>133</td>\n",
       "      <td>133</td>\n",
       "      <td>133</td>\n",
       "      <td>135</td>\n",
       "      <td>135</td>\n",
       "      <td>136</td>\n",
       "      <td>136</td>\n",
       "    </tr>\n",
       "    <tr>\n",
       "      <td>2</td>\n",
       "      <td>580</td>\n",
       "      <td>MP</td>\n",
       "      <td>MNP</td>\n",
       "      <td>580</td>\n",
       "      <td>69.0</td>\n",
       "      <td></td>\n",
       "      <td>Northern Mariana Islands</td>\n",
       "      <td>US</td>\n",
       "      <td>15.0979</td>\n",
       "      <td>145.6739</td>\n",
       "      <td>...</td>\n",
       "      <td>11</td>\n",
       "      <td>11</td>\n",
       "      <td>11</td>\n",
       "      <td>11</td>\n",
       "      <td>11</td>\n",
       "      <td>11</td>\n",
       "      <td>13</td>\n",
       "      <td>13</td>\n",
       "      <td>13</td>\n",
       "      <td>14</td>\n",
       "    </tr>\n",
       "    <tr>\n",
       "      <td>3</td>\n",
       "      <td>630</td>\n",
       "      <td>PR</td>\n",
       "      <td>PRI</td>\n",
       "      <td>630</td>\n",
       "      <td>72.0</td>\n",
       "      <td></td>\n",
       "      <td>Puerto Rico</td>\n",
       "      <td>US</td>\n",
       "      <td>18.2208</td>\n",
       "      <td>-66.5901</td>\n",
       "      <td>...</td>\n",
       "      <td>683</td>\n",
       "      <td>725</td>\n",
       "      <td>788</td>\n",
       "      <td>897</td>\n",
       "      <td>903</td>\n",
       "      <td>923</td>\n",
       "      <td>974</td>\n",
       "      <td>1043</td>\n",
       "      <td>1068</td>\n",
       "      <td>1118</td>\n",
       "    </tr>\n",
       "    <tr>\n",
       "      <td>4</td>\n",
       "      <td>850</td>\n",
       "      <td>VI</td>\n",
       "      <td>VIR</td>\n",
       "      <td>850</td>\n",
       "      <td>78.0</td>\n",
       "      <td></td>\n",
       "      <td>Virgin Islands</td>\n",
       "      <td>US</td>\n",
       "      <td>18.3358</td>\n",
       "      <td>-64.8963</td>\n",
       "      <td>...</td>\n",
       "      <td>45</td>\n",
       "      <td>50</td>\n",
       "      <td>51</td>\n",
       "      <td>51</td>\n",
       "      <td>51</td>\n",
       "      <td>51</td>\n",
       "      <td>51</td>\n",
       "      <td>51</td>\n",
       "      <td>51</td>\n",
       "      <td>53</td>\n",
       "    </tr>\n",
       "    <tr>\n",
       "      <td>...</td>\n",
       "      <td>...</td>\n",
       "      <td>...</td>\n",
       "      <td>...</td>\n",
       "      <td>...</td>\n",
       "      <td>...</td>\n",
       "      <td>...</td>\n",
       "      <td>...</td>\n",
       "      <td>...</td>\n",
       "      <td>...</td>\n",
       "      <td>...</td>\n",
       "      <td>...</td>\n",
       "      <td>...</td>\n",
       "      <td>...</td>\n",
       "      <td>...</td>\n",
       "      <td>...</td>\n",
       "      <td>...</td>\n",
       "      <td>...</td>\n",
       "      <td>...</td>\n",
       "      <td>...</td>\n",
       "      <td>...</td>\n",
       "      <td>...</td>\n",
       "    </tr>\n",
       "    <tr>\n",
       "      <td>3250</td>\n",
       "      <td>84090055</td>\n",
       "      <td>US</td>\n",
       "      <td>USA</td>\n",
       "      <td>840</td>\n",
       "      <td>90055.0</td>\n",
       "      <td>Unassigned</td>\n",
       "      <td>Wisconsin</td>\n",
       "      <td>US</td>\n",
       "      <td>0.0000</td>\n",
       "      <td>0.0000</td>\n",
       "      <td>...</td>\n",
       "      <td>0</td>\n",
       "      <td>0</td>\n",
       "      <td>0</td>\n",
       "      <td>0</td>\n",
       "      <td>0</td>\n",
       "      <td>1</td>\n",
       "      <td>1</td>\n",
       "      <td>0</td>\n",
       "      <td>0</td>\n",
       "      <td>0</td>\n",
       "    </tr>\n",
       "    <tr>\n",
       "      <td>3251</td>\n",
       "      <td>84090056</td>\n",
       "      <td>US</td>\n",
       "      <td>USA</td>\n",
       "      <td>840</td>\n",
       "      <td>90056.0</td>\n",
       "      <td>Unassigned</td>\n",
       "      <td>Wyoming</td>\n",
       "      <td>US</td>\n",
       "      <td>0.0000</td>\n",
       "      <td>0.0000</td>\n",
       "      <td>...</td>\n",
       "      <td>0</td>\n",
       "      <td>0</td>\n",
       "      <td>0</td>\n",
       "      <td>0</td>\n",
       "      <td>0</td>\n",
       "      <td>0</td>\n",
       "      <td>0</td>\n",
       "      <td>0</td>\n",
       "      <td>0</td>\n",
       "      <td>0</td>\n",
       "    </tr>\n",
       "    <tr>\n",
       "      <td>3252</td>\n",
       "      <td>84099999</td>\n",
       "      <td>US</td>\n",
       "      <td>USA</td>\n",
       "      <td>840</td>\n",
       "      <td>99999.0</td>\n",
       "      <td></td>\n",
       "      <td>Grand Princess</td>\n",
       "      <td>US</td>\n",
       "      <td>0.0000</td>\n",
       "      <td>0.0000</td>\n",
       "      <td>...</td>\n",
       "      <td>103</td>\n",
       "      <td>103</td>\n",
       "      <td>103</td>\n",
       "      <td>103</td>\n",
       "      <td>103</td>\n",
       "      <td>103</td>\n",
       "      <td>103</td>\n",
       "      <td>103</td>\n",
       "      <td>103</td>\n",
       "      <td>103</td>\n",
       "    </tr>\n",
       "    <tr>\n",
       "      <td>3253</td>\n",
       "      <td>84070004</td>\n",
       "      <td>US</td>\n",
       "      <td>USA</td>\n",
       "      <td>840</td>\n",
       "      <td>0.0</td>\n",
       "      <td>Michigan Department of Corrections (MDOC)</td>\n",
       "      <td>Michigan</td>\n",
       "      <td>US</td>\n",
       "      <td>0.0000</td>\n",
       "      <td>0.0000</td>\n",
       "      <td>...</td>\n",
       "      <td>0</td>\n",
       "      <td>0</td>\n",
       "      <td>0</td>\n",
       "      <td>0</td>\n",
       "      <td>370</td>\n",
       "      <td>429</td>\n",
       "      <td>472</td>\n",
       "      <td>472</td>\n",
       "      <td>514</td>\n",
       "      <td>550</td>\n",
       "    </tr>\n",
       "    <tr>\n",
       "      <td>3254</td>\n",
       "      <td>84070005</td>\n",
       "      <td>US</td>\n",
       "      <td>USA</td>\n",
       "      <td>840</td>\n",
       "      <td>0.0</td>\n",
       "      <td>Federal Correctional Institution (FCI)</td>\n",
       "      <td>Michigan</td>\n",
       "      <td>US</td>\n",
       "      <td>0.0000</td>\n",
       "      <td>0.0000</td>\n",
       "      <td>...</td>\n",
       "      <td>0</td>\n",
       "      <td>0</td>\n",
       "      <td>0</td>\n",
       "      <td>0</td>\n",
       "      <td>21</td>\n",
       "      <td>23</td>\n",
       "      <td>36</td>\n",
       "      <td>36</td>\n",
       "      <td>44</td>\n",
       "      <td>45</td>\n",
       "    </tr>\n",
       "  </tbody>\n",
       "</table>\n",
       "<p>3255 rows × 99 columns</p>\n",
       "</div>"
      ],
      "text/plain": [
       "           UID iso2 iso3  code3     FIPS  \\\n",
       "0           16   AS  ASM     16     60.0   \n",
       "1          316   GU  GUM    316     66.0   \n",
       "2          580   MP  MNP    580     69.0   \n",
       "3          630   PR  PRI    630     72.0   \n",
       "4          850   VI  VIR    850     78.0   \n",
       "...        ...  ...  ...    ...      ...   \n",
       "3250  84090055   US  USA    840  90055.0   \n",
       "3251  84090056   US  USA    840  90056.0   \n",
       "3252  84099999   US  USA    840  99999.0   \n",
       "3253  84070004   US  USA    840      0.0   \n",
       "3254  84070005   US  USA    840      0.0   \n",
       "\n",
       "                                         Admin2            Province_State  \\\n",
       "0                                                          American Samoa   \n",
       "1                                                                    Guam   \n",
       "2                                                Northern Mariana Islands   \n",
       "3                                                             Puerto Rico   \n",
       "4                                                          Virgin Islands   \n",
       "...                                         ...                       ...   \n",
       "3250                                 Unassigned                 Wisconsin   \n",
       "3251                                 Unassigned                   Wyoming   \n",
       "3252                                                       Grand Princess   \n",
       "3253  Michigan Department of Corrections (MDOC)                  Michigan   \n",
       "3254     Federal Correctional Institution (FCI)                  Michigan   \n",
       "\n",
       "     Country_Region      Lat     Long_  ... 4/9/20  4/10/20  4/11/20  4/12/20  \\\n",
       "0                US -14.2710 -170.1320  ...      0        0        0        0   \n",
       "1                US  13.4443  144.7937  ...    128      130      133      133   \n",
       "2                US  15.0979  145.6739  ...     11       11       11       11   \n",
       "3                US  18.2208  -66.5901  ...    683      725      788      897   \n",
       "4                US  18.3358  -64.8963  ...     45       50       51       51   \n",
       "...             ...      ...       ...  ...    ...      ...      ...      ...   \n",
       "3250             US   0.0000    0.0000  ...      0        0        0        0   \n",
       "3251             US   0.0000    0.0000  ...      0        0        0        0   \n",
       "3252             US   0.0000    0.0000  ...    103      103      103      103   \n",
       "3253             US   0.0000    0.0000  ...      0        0        0        0   \n",
       "3254             US   0.0000    0.0000  ...      0        0        0        0   \n",
       "\n",
       "      4/13/20  4/14/20  4/15/20  4/16/20  4/17/20  4/18/20  \n",
       "0           0        0        0        0        0        0  \n",
       "1         133      133      135      135      136      136  \n",
       "2          11       11       13       13       13       14  \n",
       "3         903      923      974     1043     1068     1118  \n",
       "4          51       51       51       51       51       53  \n",
       "...       ...      ...      ...      ...      ...      ...  \n",
       "3250        0        1        1        0        0        0  \n",
       "3251        0        0        0        0        0        0  \n",
       "3252      103      103      103      103      103      103  \n",
       "3253      370      429      472      472      514      550  \n",
       "3254       21       23       36       36       44       45  \n",
       "\n",
       "[3255 rows x 99 columns]"
      ]
     },
     "execution_count": 140,
     "metadata": {},
     "output_type": "execute_result"
    }
   ],
   "source": [
    "#Finding date of first infection\n"
   ]
  },
  {
   "cell_type": "code",
   "execution_count": 156,
   "metadata": {},
   "outputs": [
    {
     "data": {
      "text/plain": [
       "Text(0.5, 1.0, 'Distribution of the Max Percent of Confirmed Cases')"
      ]
     },
     "execution_count": 156,
     "metadata": {},
     "output_type": "execute_result"
    },
    {
     "data": {
      "image/png": "[encoded data removed]",
      "text/plain": [
       "<Figure size 432x288 with 1 Axes>"
      ]
     },
     "metadata": {
      "needs_background": "light"
     },
     "output_type": "display_data"
    }
   ],
   "source": [
    "population_estimates = abridged_counties[['mortality2015-17Estimated', \"HPSAShortage\", \"Rural-UrbanContinuumCode2013\", \"MedianAge2010\", 'countyFIPS', '#Hospitals', 'PopulationEstimate2018', 'RespMortalityRate2014', 'HeartDiseaseMortality', 'dem_to_rep_ratio', \"SVIPercentile\", \"Hospitals Per Capita\"]]\n",
    "population_estimates[\"PopulationEstimate2018\"].fillna(0).astype('int64', copy=False)\n",
    "confirmed_modified = confirmed.drop(['iso2', 'iso3', 'code3', 'FIPS', 'Province_State', 'Country_Region', 'Combined_Key'], axis='columns')\n",
    "confirmed_modified = confirmed_modified[confirmed_modified['Admin2'] != '']\n",
    "confirmed_modified = confirmed_modified[confirmed_modified['Admin2'] != 'Unassigned']\n",
    "find_max = confirmed_modified.drop(['Admin2'], axis='columns')\n",
    "find_max = find_max.set_index('UID')\n",
    "max_vals = find_max.max(axis=1).to_frame()\n",
    "confirmed_for_thresholds = confirmed[['UID', 'iso2', 'iso3', 'code3', 'FIPS', 'Admin2', 'Province_State', 'Country_Region', 'Combined_Key']].rename(columns={'FIPS': 'countyFIPS'})\n",
    "confirmed_for_thresholds['countyFIPS'] = confirmed_for_thresholds['countyFIPS'].astype('int64').astype('str')\n",
    "thresholds = confirmed_for_thresholds.merge(population_estimates, on='countyFIPS').dropna()\n",
    "thresholds = thresholds.merge(max_vals, on='UID')\n",
    "thresholds = thresholds.rename(columns={0: 'Max_Confirmed'})\n",
    "thresholds['Max_Percent_Confirmed'] = thresholds['Max_Confirmed'] / thresholds['PopulationEstimate2018']\n",
    "thresholds = thresholds[thresholds[\"Max_Percent_Confirmed\"] != 0]\n",
    "sns.distplot(thresholds[\"Max_Percent_Confirmed\"], norm_hist=False)\n",
    "plt.ylabel(\"Prevalence (Count)\")\n",
    "plt.xlabel(\"Max Percent of Population Infected from 1/22 - 4/18/20\")\n",
    "plt.title(\"Distribution of the Max Percent of Confirmed Cases\")"
   ]
  },
  {
   "cell_type": "markdown",
   "metadata": {},
   "source": [
    "The distplot showing the distribution of the \"Max_Percent_Confirmed\" shows that the values are largely centered within 2 ranges, what looks like approximately [.0005, .001] and [.0016, .0021]. This leads me to consider using a DecisionTreeRegressor rather than a LinearRegression model since a linear relationship would not adequately separate and represent the indicator variable, Max_Percent_Confirmed, that mostly resides in two separate ranges."
   ]
  },
  {
   "cell_type": "code",
   "execution_count": 108,
   "metadata": {},
   "outputs": [],
   "source": [
    "train, test = train_test_split(thresholds, test_size=.25, random_state=42)"
   ]
  },
  {
   "cell_type": "code",
   "execution_count": 180,
   "metadata": {},
   "outputs": [
    {
     "data": {
      "text/plain": [
       "<matplotlib.axes._subplots.AxesSubplot at 0x11a01a790>"
      ]
     },
     "execution_count": 180,
     "metadata": {},
     "output_type": "execute_result"
    },
    {
     "data": {
      "image/png": "[encoded data removed]",
      "text/plain": [
       "<Figure size 432x288 with 1 Axes>"
      ]
     },
     "metadata": {
      "needs_background": "light"
     },
     "output_type": "display_data"
    }
   ],
   "source": [
    "sns.scatterplot(data=thresholds, x=\"dem_to_rep_ratio\", y=\"Max_Percent_Confirmed\")\n",
    "# plt.xticks(np.arange(0, .002, step=.0005))\n",
    "# plt.yticks(np.arange(0, .01, step=.001))"
   ]
  },
  {
   "cell_type": "markdown",
   "metadata": {},
   "source": [
    "Below, we use sklearn's Pipeline to compile a lot of different models, both LinearRegression and DecisionTreeRegressors, trained on a different selection of features to predict the max_percent_confirmed. We compare and plot the mean squared errors from each of these models, training and cross-validation, to select the one with the most ideal features as our final model."
   ]
  },
  {
   "cell_type": "code",
   "execution_count": 168,
   "metadata": {},
   "outputs": [
    {
     "data": {
      "text/plain": [
       "(7.127650252757571e-09, 1.7254975132781835e-10)"
      ]
     },
     "execution_count": 168,
     "metadata": {},
     "output_type": "execute_result"
    }
   ],
   "source": [
    "models = {}\n",
    "features = [\"Hospitals Per Capita\", \"MedianAge2010\", \"SVIPercentile\", \"dem_to_rep_ratio\", \"HPSAShortage\"]\n",
    "lin_model = model = Pipeline([\n",
    "    (\"SelectColumns\", ColumnTransformer([(\"keep\", \"passthrough\", features)])),\n",
    "    (\"LinearModel\", LinearRegression())\n",
    "])\n",
    "lin_model.fit(train[features], train[\"Max_Percent_Confirmed\"])\n",
    "models[\"lr_h+a+svi+dr+hpsa\"] = lin_model\n",
    "\n",
    "lin_model = model = Pipeline([\n",
    "    (\"SelectColumns\", ColumnTransformer([(\"keep\", \"passthrough\", features)])),\n",
    "    (\"DecisionTree\", tree.DecisionTreeRegressor(random_state=42))\n",
    "])\n",
    "lin_model.fit(train[features], train[\"Max_Percent_Confirmed\"])\n",
    "models[\"dtree_h+a+svi+dr+hpsa\"] = lin_model\n",
    "test_mse = mean_squared_error(test[\"Max_Percent_Confirmed\"], lin_model.predict(test[features]))\n",
    "train_mse = mean_squared_error(train[\"Max_Percent_Confirmed\"], lin_model.predict(train[features]))\n",
    "(train_mse, test_mse)"
   ]
  },
  {
   "cell_type": "code",
   "execution_count": 169,
   "metadata": {},
   "outputs": [
    {
     "data": {
      "text/plain": [
       "(7.127650252757571e-09, 2.478474838199593e-06)"
      ]
     },
     "execution_count": 169,
     "metadata": {},
     "output_type": "execute_result"
    }
   ],
   "source": [
    "features = [\"MedianAge2010\", \"SVIPercentile\", \"dem_to_rep_ratio\"]\n",
    "lin_model = Pipeline([\n",
    "    (\"SelectColumns\", ColumnTransformer([(\"keep\", \"passthrough\", features)])),\n",
    "    (\"LinearModel\", LinearRegression())\n",
    "])\n",
    "lin_model.fit(train[features], train[\"Max_Percent_Confirmed\"])\n",
    "models[\"lr_a+svi+h\"] = lin_model\n",
    "test_mse = mean_squared_error(test[\"Max_Percent_Confirmed\"], lin_model.predict(test[features]))\n",
    "train_mse = mean_squared_error(train[\"Max_Percent_Confirmed\"], lin_model.predict(train[features]))\n",
    "(train_mse, test_mse)\n",
    "\n",
    "lin_model = Pipeline([\n",
    "    (\"SelectColumns\", ColumnTransformer([(\"keep\", \"passthrough\", features)])),\n",
    "    (\"DecisionTree\", tree.DecisionTreeRegressor(random_state=42))\n",
    "])\n",
    "lin_model.fit(train[features], train[\"Max_Percent_Confirmed\"])\n",
    "models[\"dtree_a+svi+h\"] = lin_model\n",
    "test_mse = mean_squared_error(test[\"Max_Percent_Confirmed\"], lin_model.predict(test[features]))\n",
    "train_mse = mean_squared_error(train[\"Max_Percent_Confirmed\"], lin_model.predict(train[features]))\n",
    "(train_mse, test_mse)\n"
   ]
  },
  {
   "cell_type": "code",
   "execution_count": 170,
   "metadata": {},
   "outputs": [],
   "source": [
    "# features = [\"MedianAge2010\", \"SVIPercentile\", \"dem_to_rep_ratio\", \"Hospitals Per Capita\"]\n",
    "# # train, test = train_test_split(thresholds, test_size=.25, random_state=42)\n",
    "# lin_model = Pipeline([\n",
    "#     (\"SelectColumns\", ColumnTransformer([(\"keep\", \"passthrough\", features)])),\n",
    "#     (\"LinearModel\", LinearRegression())\n",
    "# ])\n",
    "# lin_model.fit(train[features], train[\"Max_Percent_Confirmed\"])\n",
    "# models[\"lr_a+svi+dr+h+m\"] = lin_model\n",
    "# (train_mse, test_mse)"
   ]
  },
  {
   "cell_type": "code",
   "execution_count": 171,
   "metadata": {},
   "outputs": [],
   "source": [
    "from sklearn.model_selection import KFold\n",
    "from sklearn.base import clone\n",
    "\n",
    "def cross_validate_mse(model):\n",
    "    model = clone(model)\n",
    "    five_fold = KFold(n_splits=3)\n",
    "    mse_values = []\n",
    "    for tr_ind, va_ind in five_fold.split(train):\n",
    "        model.fit(train.iloc[tr_ind,:], train['Max_Percent_Confirmed'].iloc[tr_ind])\n",
    "        mse_values.append(mean_squared_error(train['Max_Percent_Confirmed'].iloc[va_ind], model.predict(train.iloc[va_ind,:])))\n",
    "    return np.mean(mse_values)\n"
   ]
  },
  {
   "cell_type": "code",
   "execution_count": 182,
   "metadata": {},
   "outputs": [
    {
     "data": {
      "application/vnd.plotly.v1+json": {
       "config": {
        "plotlyServerURL": "https://plot.ly"
       },
       "data": [
        {
         "name": "Training MSE",
         "type": "bar",
         "x": [
          "lr_h+a+svi+dr+hpsa",
          "dtree_h+a+svi+dr+hpsa",
          "lr_a+svi+h",
          "dtree_a+svi+h"
         ],
         "y": [
          2.674249648120704e-37,
          7.127650252757571e-09,
          1.6946710224354644e-37,
          7.127650252757571e-09
         ]
        },
        {
         "name": "CV MSE",
         "type": "bar",
         "x": [
          "lr_h+a+svi+dr+hpsa",
          "dtree_h+a+svi+dr+hpsa",
          "lr_a+svi+h",
          "dtree_a+svi+h"
         ],
         "y": [
          9.482937355818749e-07,
          8.685130284743738e-07,
          2.0095766418708524e-06,
          1.8072519798496772e-06
         ]
        },
        {
         "name": "Validation RMSE",
         "opacity": 0.2,
         "type": "bar",
         "x": [
          "lr_h+a+svi+dr+hpsa",
          "dtree_h+a+svi+dr+hpsa",
          "lr_a+svi+h",
          "dtree_a+svi+h"
         ],
         "y": [
          1.0885965712803934e-05,
          1.7254975132781835e-10,
          8.289700244817933e-08,
          2.478474838199593e-06
         ]
        }
       ],
       "layout": {
        "template": {
         "data": {
          "bar": [
           {
            "error_x": {
             "color": "#2a3f5f"
            },
            "error_y": {
             "color": "#2a3f5f"
            },
            "marker": {
             "line": {
              "color": "#E5ECF6",
              "width": 0.5
             }
            },
            "type": "bar"
           }
          ],
          "barpolar": [
           {
            "marker": {
             "line": {
              "color": "#E5ECF6",
              "width": 0.5
             }
            },
            "type": "barpolar"
           }
          ],
          "carpet": [
           {
            "aaxis": {
             "endlinecolor": "#2a3f5f",
             "gridcolor": "white",
             "linecolor": "white",
             "minorgridcolor": "white",
             "startlinecolor": "#2a3f5f"
            },
            "baxis": {
             "endlinecolor": "#2a3f5f",
             "gridcolor": "white",
             "linecolor": "white",
             "minorgridcolor": "white",
             "startlinecolor": "#2a3f5f"
            },
            "type": "carpet"
           }
          ],
          "choropleth": [
           {
            "colorbar": {
             "outlinewidth": 0,
             "ticks": ""
            },
            "type": "choropleth"
           }
          ],
          "contour": [
           {
            "colorbar": {
             "outlinewidth": 0,
             "ticks": ""
            },
            "colorscale": [
             [
              0,
              "#0d0887"
             ],
             [
              0.1111111111111111,
              "#46039f"
             ],
             [
              0.2222222222222222,
              "#7201a8"
             ],
             [
              0.3333333333333333,
              "#9c179e"
             ],
             [
              0.4444444444444444,
              "#bd3786"
             ],
             [
              0.5555555555555556,
              "#d8576b"
             ],
             [
              0.6666666666666666,
              "#ed7953"
             ],
             [
              0.7777777777777778,
              "#fb9f3a"
             ],
             [
              0.8888888888888888,
              "#fdca26"
             ],
             [
              1,
              "#f0f921"
             ]
            ],
            "type": "contour"
           }
          ],
          "contourcarpet": [
           {
            "colorbar": {
             "outlinewidth": 0,
             "ticks": ""
            },
            "type": "contourcarpet"
           }
          ],
          "heatmap": [
           {
            "colorbar": {
             "outlinewidth": 0,
             "ticks": ""
            },
            "colorscale": [
             [
              0,
              "#0d0887"
             ],
             [
              0.1111111111111111,
              "#46039f"
             ],
             [
              0.2222222222222222,
              "#7201a8"
             ],
             [
              0.3333333333333333,
              "#9c179e"
             ],
             [
              0.4444444444444444,
              "#bd3786"
             ],
             [
              0.5555555555555556,
              "#d8576b"
             ],
             [
              0.6666666666666666,
              "#ed7953"
             ],
             [
              0.7777777777777778,
              "#fb9f3a"
             ],
             [
              0.8888888888888888,
              "#fdca26"
             ],
             [
              1,
              "#f0f921"
             ]
            ],
            "type": "heatmap"
           }
          ],
          "heatmapgl": [
           {
            "colorbar": {
             "outlinewidth": 0,
             "ticks": ""
            },
            "colorscale": [
             [
              0,
              "#0d0887"
             ],
             [
              0.1111111111111111,
              "#46039f"
             ],
             [
              0.2222222222222222,
              "#7201a8"
             ],
             [
              0.3333333333333333,
              "#9c179e"
             ],
             [
              0.4444444444444444,
              "#bd3786"
             ],
             [
              0.5555555555555556,
              "#d8576b"
             ],
             [
              0.6666666666666666,
              "#ed7953"
             ],
             [
              0.7777777777777778,
              "#fb9f3a"
             ],
             [
              0.8888888888888888,
              "#fdca26"
             ],
             [
              1,
              "#f0f921"
             ]
            ],
            "type": "heatmapgl"
           }
          ],
          "histogram": [
           {
            "marker": {
             "colorbar": {
              "outlinewidth": 0,
              "ticks": ""
             }
            },
            "type": "histogram"
           }
          ],
          "histogram2d": [
           {
            "colorbar": {
             "outlinewidth": 0,
             "ticks": ""
            },
            "colorscale": [
             [
              0,
              "#0d0887"
             ],
             [
              0.1111111111111111,
              "#46039f"
             ],
             [
              0.2222222222222222,
              "#7201a8"
             ],
             [
              0.3333333333333333,
              "#9c179e"
             ],
             [
              0.4444444444444444,
              "#bd3786"
             ],
             [
              0.5555555555555556,
              "#d8576b"
             ],
             [
              0.6666666666666666,
              "#ed7953"
             ],
             [
              0.7777777777777778,
              "#fb9f3a"
             ],
             [
              0.8888888888888888,
              "#fdca26"
             ],
             [
              1,
              "#f0f921"
             ]
            ],
            "type": "histogram2d"
           }
          ],
          "histogram2dcontour": [
           {
            "colorbar": {
             "outlinewidth": 0,
             "ticks": ""
            },
            "colorscale": [
             [
              0,
              "#0d0887"
             ],
             [
              0.1111111111111111,
              "#46039f"
             ],
             [
              0.2222222222222222,
              "#7201a8"
             ],
             [
              0.3333333333333333,
              "#9c179e"
             ],
             [
              0.4444444444444444,
              "#bd3786"
             ],
             [
              0.5555555555555556,
              "#d8576b"
             ],
             [
              0.6666666666666666,
              "#ed7953"
             ],
             [
              0.7777777777777778,
              "#fb9f3a"
             ],
             [
              0.8888888888888888,
              "#fdca26"
             ],
             [
              1,
              "#f0f921"
             ]
            ],
            "type": "histogram2dcontour"
           }
          ],
          "mesh3d": [
           {
            "colorbar": {
             "outlinewidth": 0,
             "ticks": ""
            },
            "type": "mesh3d"
           }
          ],
          "parcoords": [
           {
            "line": {
             "colorbar": {
              "outlinewidth": 0,
              "ticks": ""
             }
            },
            "type": "parcoords"
           }
          ],
          "pie": [
           {
            "automargin": true,
            "type": "pie"
           }
          ],
          "scatter": [
           {
            "marker": {
             "colorbar": {
              "outlinewidth": 0,
              "ticks": ""
             }
            },
            "type": "scatter"
           }
          ],
          "scatter3d": [
           {
            "line": {
             "colorbar": {
              "outlinewidth": 0,
              "ticks": ""
             }
            },
            "marker": {
             "colorbar": {
              "outlinewidth": 0,
              "ticks": ""
             }
            },
            "type": "scatter3d"
           }
          ],
          "scattercarpet": [
           {
            "marker": {
             "colorbar": {
              "outlinewidth": 0,
              "ticks": ""
             }
            },
            "type": "scattercarpet"
           }
          ],
          "scattergeo": [
           {
            "marker": {
             "colorbar": {
              "outlinewidth": 0,
              "ticks": ""
             }
            },
            "type": "scattergeo"
           }
          ],
          "scattergl": [
           {
            "marker": {
             "colorbar": {
              "outlinewidth": 0,
              "ticks": ""
             }
            },
            "type": "scattergl"
           }
          ],
          "scattermapbox": [
           {
            "marker": {
             "colorbar": {
              "outlinewidth": 0,
              "ticks": ""
             }
            },
            "type": "scattermapbox"
           }
          ],
          "scatterpolar": [
           {
            "marker": {
             "colorbar": {
              "outlinewidth": 0,
              "ticks": ""
             }
            },
            "type": "scatterpolar"
           }
          ],
          "scatterpolargl": [
           {
            "marker": {
             "colorbar": {
              "outlinewidth": 0,
              "ticks": ""
             }
            },
            "type": "scatterpolargl"
           }
          ],
          "scatterternary": [
           {
            "marker": {
             "colorbar": {
              "outlinewidth": 0,
              "ticks": ""
             }
            },
            "type": "scatterternary"
           }
          ],
          "surface": [
           {
            "colorbar": {
             "outlinewidth": 0,
             "ticks": ""
            },
            "colorscale": [
             [
              0,
              "#0d0887"
             ],
             [
              0.1111111111111111,
              "#46039f"
             ],
             [
              0.2222222222222222,
              "#7201a8"
             ],
             [
              0.3333333333333333,
              "#9c179e"
             ],
             [
              0.4444444444444444,
              "#bd3786"
             ],
             [
              0.5555555555555556,
              "#d8576b"
             ],
             [
              0.6666666666666666,
              "#ed7953"
             ],
             [
              0.7777777777777778,
              "#fb9f3a"
             ],
             [
              0.8888888888888888,
              "#fdca26"
             ],
             [
              1,
              "#f0f921"
             ]
            ],
            "type": "surface"
           }
          ],
          "table": [
           {
            "cells": {
             "fill": {
              "color": "#EBF0F8"
             },
             "line": {
              "color": "white"
             }
            },
            "header": {
             "fill": {
              "color": "#C8D4E3"
             },
             "line": {
              "color": "white"
             }
            },
            "type": "table"
           }
          ]
         },
         "layout": {
          "annotationdefaults": {
           "arrowcolor": "#2a3f5f",
           "arrowhead": 0,
           "arrowwidth": 1
          },
          "coloraxis": {
           "colorbar": {
            "outlinewidth": 0,
            "ticks": ""
           }
          },
          "colorscale": {
           "diverging": [
            [
             0,
             "#8e0152"
            ],
            [
             0.1,
             "#c51b7d"
            ],
            [
             0.2,
             "#de77ae"
            ],
            [
             0.3,
             "#f1b6da"
            ],
            [
             0.4,
             "#fde0ef"
            ],
            [
             0.5,
             "#f7f7f7"
            ],
            [
             0.6,
             "#e6f5d0"
            ],
            [
             0.7,
             "#b8e186"
            ],
            [
             0.8,
             "#7fbc41"
            ],
            [
             0.9,
             "#4d9221"
            ],
            [
             1,
             "#276419"
            ]
           ],
           "sequential": [
            [
             0,
             "#0d0887"
            ],
            [
             0.1111111111111111,
             "#46039f"
            ],
            [
             0.2222222222222222,
             "#7201a8"
            ],
            [
             0.3333333333333333,
             "#9c179e"
            ],
            [
             0.4444444444444444,
             "#bd3786"
            ],
            [
             0.5555555555555556,
             "#d8576b"
            ],
            [
             0.6666666666666666,
             "#ed7953"
            ],
            [
             0.7777777777777778,
             "#fb9f3a"
            ],
            [
             0.8888888888888888,
             "#fdca26"
            ],
            [
             1,
             "#f0f921"
            ]
           ],
           "sequentialminus": [
            [
             0,
             "#0d0887"
            ],
            [
             0.1111111111111111,
             "#46039f"
            ],
            [
             0.2222222222222222,
             "#7201a8"
            ],
            [
             0.3333333333333333,
             "#9c179e"
            ],
            [
             0.4444444444444444,
             "#bd3786"
            ],
            [
             0.5555555555555556,
             "#d8576b"
            ],
            [
             0.6666666666666666,
             "#ed7953"
            ],
            [
             0.7777777777777778,
             "#fb9f3a"
            ],
            [
             0.8888888888888888,
             "#fdca26"
            ],
            [
             1,
             "#f0f921"
            ]
           ]
          },
          "colorway": [
           "#636efa",
           "#EF553B",
           "#00cc96",
           "#ab63fa",
           "#FFA15A",
           "#19d3f3",
           "#FF6692",
           "#B6E880",
           "#FF97FF",
           "#FECB52"
          ],
          "font": {
           "color": "#2a3f5f"
          },
          "geo": {
           "bgcolor": "white",
           "lakecolor": "white",
           "landcolor": "#E5ECF6",
           "showlakes": true,
           "showland": true,
           "subunitcolor": "white"
          },
          "hoverlabel": {
           "align": "left"
          },
          "hovermode": "closest",
          "mapbox": {
           "style": "light"
          },
          "paper_bgcolor": "white",
          "plot_bgcolor": "#E5ECF6",
          "polar": {
           "angularaxis": {
            "gridcolor": "white",
            "linecolor": "white",
            "ticks": ""
           },
           "bgcolor": "#E5ECF6",
           "radialaxis": {
            "gridcolor": "white",
            "linecolor": "white",
            "ticks": ""
           }
          },
          "scene": {
           "xaxis": {
            "backgroundcolor": "#E5ECF6",
            "gridcolor": "white",
            "gridwidth": 2,
            "linecolor": "white",
            "showbackground": true,
            "ticks": "",
            "zerolinecolor": "white"
           },
           "yaxis": {
            "backgroundcolor": "#E5ECF6",
            "gridcolor": "white",
            "gridwidth": 2,
            "linecolor": "white",
            "showbackground": true,
            "ticks": "",
            "zerolinecolor": "white"
           },
           "zaxis": {
            "backgroundcolor": "#E5ECF6",
            "gridcolor": "white",
            "gridwidth": 2,
            "linecolor": "white",
            "showbackground": true,
            "ticks": "",
            "zerolinecolor": "white"
           }
          },
          "shapedefaults": {
           "line": {
            "color": "#2a3f5f"
           }
          },
          "ternary": {
           "aaxis": {
            "gridcolor": "white",
            "linecolor": "white",
            "ticks": ""
           },
           "baxis": {
            "gridcolor": "white",
            "linecolor": "white",
            "ticks": ""
           },
           "bgcolor": "#E5ECF6",
           "caxis": {
            "gridcolor": "white",
            "linecolor": "white",
            "ticks": ""
           }
          },
          "title": {
           "x": 0.05
          },
          "xaxis": {
           "automargin": true,
           "gridcolor": "white",
           "linecolor": "white",
           "ticks": "",
           "title": {
            "standoff": 15
           },
           "zerolinecolor": "white",
           "zerolinewidth": 2
          },
          "yaxis": {
           "automargin": true,
           "gridcolor": "white",
           "linecolor": "white",
           "ticks": "",
           "title": {
            "standoff": 15
           },
           "zerolinecolor": "white",
           "zerolinewidth": 2
          }
         }
        }
       }
      },
      "text/html": [
       "<div>\n",
       "        \n",
       "        \n",
       "            <div id=\"b989df6d-5c23-48b9-bf9b-65380a419e4d\" class=\"plotly-graph-div\" style=\"height:525px; width:100%;\"></div>\n",
       "            <script type=\"text/javascript\">\n",
       "                require([\"plotly\"], function(Plotly) {\n",
       "                    window.PLOTLYENV=window.PLOTLYENV || {};\n",
       "                    \n",
       "                if (document.getElementById(\"b989df6d-5c23-48b9-bf9b-65380a419e4d\")) {\n",
       "                    Plotly.newPlot(\n",
       "                        'b989df6d-5c23-48b9-bf9b-65380a419e4d',\n",
       "                        [{\"name\": \"Training MSE\", \"type\": \"bar\", \"x\": [\"lr_h+a+svi+dr+hpsa\", \"dtree_h+a+svi+dr+hpsa\", \"lr_a+svi+h\", \"dtree_a+svi+h\"], \"y\": [2.674249648120704e-37, 7.127650252757571e-09, 1.6946710224354644e-37, 7.127650252757571e-09]}, {\"name\": \"CV MSE\", \"type\": \"bar\", \"x\": [\"lr_h+a+svi+dr+hpsa\", \"dtree_h+a+svi+dr+hpsa\", \"lr_a+svi+h\", \"dtree_a+svi+h\"], \"y\": [9.482937355818749e-07, 8.685130284743738e-07, 2.0095766418708524e-06, 1.8072519798496772e-06]}, {\"name\": \"Validation RMSE\", \"opacity\": 0.2, \"type\": \"bar\", \"x\": [\"lr_h+a+svi+dr+hpsa\", \"dtree_h+a+svi+dr+hpsa\", \"lr_a+svi+h\", \"dtree_a+svi+h\"], \"y\": [1.0885965712803934e-05, 1.7254975132781835e-10, 8.289700244817933e-08, 2.478474838199593e-06]}],\n",
       "                        {\"template\": {\"data\": {\"bar\": [{\"error_x\": {\"color\": \"#2a3f5f\"}, \"error_y\": {\"color\": \"#2a3f5f\"}, \"marker\": {\"line\": {\"color\": \"#E5ECF6\", \"width\": 0.5}}, \"type\": \"bar\"}], \"barpolar\": [{\"marker\": {\"line\": {\"color\": \"#E5ECF6\", \"width\": 0.5}}, \"type\": \"barpolar\"}], \"carpet\": [{\"aaxis\": {\"endlinecolor\": \"#2a3f5f\", \"gridcolor\": \"white\", \"linecolor\": \"white\", \"minorgridcolor\": \"white\", \"startlinecolor\": \"#2a3f5f\"}, \"baxis\": {\"endlinecolor\": \"#2a3f5f\", \"gridcolor\": \"white\", \"linecolor\": \"white\", \"minorgridcolor\": \"white\", \"startlinecolor\": \"#2a3f5f\"}, \"type\": \"carpet\"}], \"choropleth\": [{\"colorbar\": {\"outlinewidth\": 0, \"ticks\": \"\"}, \"type\": \"choropleth\"}], \"contour\": [{\"colorbar\": {\"outlinewidth\": 0, \"ticks\": \"\"}, \"colorscale\": [[0.0, \"#0d0887\"], [0.1111111111111111, \"#46039f\"], [0.2222222222222222, \"#7201a8\"], [0.3333333333333333, \"#9c179e\"], [0.4444444444444444, \"#bd3786\"], [0.5555555555555556, \"#d8576b\"], [0.6666666666666666, \"#ed7953\"], [0.7777777777777778, \"#fb9f3a\"], [0.8888888888888888, \"#fdca26\"], [1.0, \"#f0f921\"]], \"type\": \"contour\"}], \"contourcarpet\": [{\"colorbar\": {\"outlinewidth\": 0, \"ticks\": \"\"}, \"type\": \"contourcarpet\"}], \"heatmap\": [{\"colorbar\": {\"outlinewidth\": 0, \"ticks\": \"\"}, \"colorscale\": [[0.0, \"#0d0887\"], [0.1111111111111111, \"#46039f\"], [0.2222222222222222, \"#7201a8\"], [0.3333333333333333, \"#9c179e\"], [0.4444444444444444, \"#bd3786\"], [0.5555555555555556, \"#d8576b\"], [0.6666666666666666, \"#ed7953\"], [0.7777777777777778, \"#fb9f3a\"], [0.8888888888888888, \"#fdca26\"], [1.0, \"#f0f921\"]], \"type\": \"heatmap\"}], \"heatmapgl\": [{\"colorbar\": {\"outlinewidth\": 0, \"ticks\": \"\"}, \"colorscale\": [[0.0, \"#0d0887\"], [0.1111111111111111, \"#46039f\"], [0.2222222222222222, \"#7201a8\"], [0.3333333333333333, \"#9c179e\"], [0.4444444444444444, \"#bd3786\"], [0.5555555555555556, \"#d8576b\"], [0.6666666666666666, \"#ed7953\"], [0.7777777777777778, \"#fb9f3a\"], [0.8888888888888888, \"#fdca26\"], [1.0, \"#f0f921\"]], \"type\": \"heatmapgl\"}], \"histogram\": [{\"marker\": {\"colorbar\": {\"outlinewidth\": 0, \"ticks\": \"\"}}, \"type\": \"histogram\"}], \"histogram2d\": [{\"colorbar\": {\"outlinewidth\": 0, \"ticks\": \"\"}, \"colorscale\": [[0.0, \"#0d0887\"], [0.1111111111111111, \"#46039f\"], [0.2222222222222222, \"#7201a8\"], [0.3333333333333333, \"#9c179e\"], [0.4444444444444444, \"#bd3786\"], [0.5555555555555556, \"#d8576b\"], [0.6666666666666666, \"#ed7953\"], [0.7777777777777778, \"#fb9f3a\"], [0.8888888888888888, \"#fdca26\"], [1.0, \"#f0f921\"]], \"type\": \"histogram2d\"}], \"histogram2dcontour\": [{\"colorbar\": {\"outlinewidth\": 0, \"ticks\": \"\"}, \"colorscale\": [[0.0, \"#0d0887\"], [0.1111111111111111, \"#46039f\"], [0.2222222222222222, \"#7201a8\"], [0.3333333333333333, \"#9c179e\"], [0.4444444444444444, \"#bd3786\"], [0.5555555555555556, \"#d8576b\"], [0.6666666666666666, \"#ed7953\"], [0.7777777777777778, \"#fb9f3a\"], [0.8888888888888888, \"#fdca26\"], [1.0, \"#f0f921\"]], \"type\": \"histogram2dcontour\"}], \"mesh3d\": [{\"colorbar\": {\"outlinewidth\": 0, \"ticks\": \"\"}, \"type\": \"mesh3d\"}], \"parcoords\": [{\"line\": {\"colorbar\": {\"outlinewidth\": 0, \"ticks\": \"\"}}, \"type\": \"parcoords\"}], \"pie\": [{\"automargin\": true, \"type\": \"pie\"}], \"scatter\": [{\"marker\": {\"colorbar\": {\"outlinewidth\": 0, \"ticks\": \"\"}}, \"type\": \"scatter\"}], \"scatter3d\": [{\"line\": {\"colorbar\": {\"outlinewidth\": 0, \"ticks\": \"\"}}, \"marker\": {\"colorbar\": {\"outlinewidth\": 0, \"ticks\": \"\"}}, \"type\": \"scatter3d\"}], \"scattercarpet\": [{\"marker\": {\"colorbar\": {\"outlinewidth\": 0, \"ticks\": \"\"}}, \"type\": \"scattercarpet\"}], \"scattergeo\": [{\"marker\": {\"colorbar\": {\"outlinewidth\": 0, \"ticks\": \"\"}}, \"type\": \"scattergeo\"}], \"scattergl\": [{\"marker\": {\"colorbar\": {\"outlinewidth\": 0, \"ticks\": \"\"}}, \"type\": \"scattergl\"}], \"scattermapbox\": [{\"marker\": {\"colorbar\": {\"outlinewidth\": 0, \"ticks\": \"\"}}, \"type\": \"scattermapbox\"}], \"scatterpolar\": [{\"marker\": {\"colorbar\": {\"outlinewidth\": 0, \"ticks\": \"\"}}, \"type\": \"scatterpolar\"}], \"scatterpolargl\": [{\"marker\": {\"colorbar\": {\"outlinewidth\": 0, \"ticks\": \"\"}}, \"type\": \"scatterpolargl\"}], \"scatterternary\": [{\"marker\": {\"colorbar\": {\"outlinewidth\": 0, \"ticks\": \"\"}}, \"type\": \"scatterternary\"}], \"surface\": [{\"colorbar\": {\"outlinewidth\": 0, \"ticks\": \"\"}, \"colorscale\": [[0.0, \"#0d0887\"], [0.1111111111111111, \"#46039f\"], [0.2222222222222222, \"#7201a8\"], [0.3333333333333333, \"#9c179e\"], [0.4444444444444444, \"#bd3786\"], [0.5555555555555556, \"#d8576b\"], [0.6666666666666666, \"#ed7953\"], [0.7777777777777778, \"#fb9f3a\"], [0.8888888888888888, \"#fdca26\"], [1.0, \"#f0f921\"]], \"type\": \"surface\"}], \"table\": [{\"cells\": {\"fill\": {\"color\": \"#EBF0F8\"}, \"line\": {\"color\": \"white\"}}, \"header\": {\"fill\": {\"color\": \"#C8D4E3\"}, \"line\": {\"color\": \"white\"}}, \"type\": \"table\"}]}, \"layout\": {\"annotationdefaults\": {\"arrowcolor\": \"#2a3f5f\", \"arrowhead\": 0, \"arrowwidth\": 1}, \"coloraxis\": {\"colorbar\": {\"outlinewidth\": 0, \"ticks\": \"\"}}, \"colorscale\": {\"diverging\": [[0, \"#8e0152\"], [0.1, \"#c51b7d\"], [0.2, \"#de77ae\"], [0.3, \"#f1b6da\"], [0.4, \"#fde0ef\"], [0.5, \"#f7f7f7\"], [0.6, \"#e6f5d0\"], [0.7, \"#b8e186\"], [0.8, \"#7fbc41\"], [0.9, \"#4d9221\"], [1, \"#276419\"]], \"sequential\": [[0.0, \"#0d0887\"], [0.1111111111111111, \"#46039f\"], [0.2222222222222222, \"#7201a8\"], [0.3333333333333333, \"#9c179e\"], [0.4444444444444444, \"#bd3786\"], [0.5555555555555556, \"#d8576b\"], [0.6666666666666666, \"#ed7953\"], [0.7777777777777778, \"#fb9f3a\"], [0.8888888888888888, \"#fdca26\"], [1.0, \"#f0f921\"]], \"sequentialminus\": [[0.0, \"#0d0887\"], [0.1111111111111111, \"#46039f\"], [0.2222222222222222, \"#7201a8\"], [0.3333333333333333, \"#9c179e\"], [0.4444444444444444, \"#bd3786\"], [0.5555555555555556, \"#d8576b\"], [0.6666666666666666, \"#ed7953\"], [0.7777777777777778, \"#fb9f3a\"], [0.8888888888888888, \"#fdca26\"], [1.0, \"#f0f921\"]]}, \"colorway\": [\"#636efa\", \"#EF553B\", \"#00cc96\", \"#ab63fa\", \"#FFA15A\", \"#19d3f3\", \"#FF6692\", \"#B6E880\", \"#FF97FF\", \"#FECB52\"], \"font\": {\"color\": \"#2a3f5f\"}, \"geo\": {\"bgcolor\": \"white\", \"lakecolor\": \"white\", \"landcolor\": \"#E5ECF6\", \"showlakes\": true, \"showland\": true, \"subunitcolor\": \"white\"}, \"hoverlabel\": {\"align\": \"left\"}, \"hovermode\": \"closest\", \"mapbox\": {\"style\": \"light\"}, \"paper_bgcolor\": \"white\", \"plot_bgcolor\": \"#E5ECF6\", \"polar\": {\"angularaxis\": {\"gridcolor\": \"white\", \"linecolor\": \"white\", \"ticks\": \"\"}, \"bgcolor\": \"#E5ECF6\", \"radialaxis\": {\"gridcolor\": \"white\", \"linecolor\": \"white\", \"ticks\": \"\"}}, \"scene\": {\"xaxis\": {\"backgroundcolor\": \"#E5ECF6\", \"gridcolor\": \"white\", \"gridwidth\": 2, \"linecolor\": \"white\", \"showbackground\": true, \"ticks\": \"\", \"zerolinecolor\": \"white\"}, \"yaxis\": {\"backgroundcolor\": \"#E5ECF6\", \"gridcolor\": \"white\", \"gridwidth\": 2, \"linecolor\": \"white\", \"showbackground\": true, \"ticks\": \"\", \"zerolinecolor\": \"white\"}, \"zaxis\": {\"backgroundcolor\": \"#E5ECF6\", \"gridcolor\": \"white\", \"gridwidth\": 2, \"linecolor\": \"white\", \"showbackground\": true, \"ticks\": \"\", \"zerolinecolor\": \"white\"}}, \"shapedefaults\": {\"line\": {\"color\": \"#2a3f5f\"}}, \"ternary\": {\"aaxis\": {\"gridcolor\": \"white\", \"linecolor\": \"white\", \"ticks\": \"\"}, \"baxis\": {\"gridcolor\": \"white\", \"linecolor\": \"white\", \"ticks\": \"\"}, \"bgcolor\": \"#E5ECF6\", \"caxis\": {\"gridcolor\": \"white\", \"linecolor\": \"white\", \"ticks\": \"\"}}, \"title\": {\"x\": 0.05}, \"xaxis\": {\"automargin\": true, \"gridcolor\": \"white\", \"linecolor\": \"white\", \"ticks\": \"\", \"title\": {\"standoff\": 15}, \"zerolinecolor\": \"white\", \"zerolinewidth\": 2}, \"yaxis\": {\"automargin\": true, \"gridcolor\": \"white\", \"linecolor\": \"white\", \"ticks\": \"\", \"title\": {\"standoff\": 15}, \"zerolinecolor\": \"white\", \"zerolinewidth\": 2}}}},\n",
       "                        {\"responsive\": true}\n",
       "                    ).then(function(){\n",
       "                            \n",
       "var gd = document.getElementById('b989df6d-5c23-48b9-bf9b-65380a419e4d');\n",
       "var x = new MutationObserver(function (mutations, observer) {{\n",
       "        var display = window.getComputedStyle(gd).display;\n",
       "        if (!display || display === 'none') {{\n",
       "            console.log([gd, 'removed!']);\n",
       "            Plotly.purge(gd);\n",
       "            observer.disconnect();\n",
       "        }}\n",
       "}});\n",
       "\n",
       "// Listen for the removal of the full notebook cells\n",
       "var notebookContainer = gd.closest('#notebook-container');\n",
       "if (notebookContainer) {{\n",
       "    x.observe(notebookContainer, {childList: true});\n",
       "}}\n",
       "\n",
       "// Listen for the clearing of the current output cell\n",
       "var outputEl = gd.closest('.output');\n",
       "if (outputEl) {{\n",
       "    x.observe(outputEl, {childList: true});\n",
       "}}\n",
       "\n",
       "                        })\n",
       "                };\n",
       "                });\n",
       "            </script>\n",
       "        </div>"
      ]
     },
     "metadata": {},
     "output_type": "display_data"
    }
   ],
   "source": [
    "import plotly.graph_objects as go\n",
    "from plotly.subplots import make_subplots\n",
    "import plotly.figure_factory as ff\n",
    "def compare_models(models):\n",
    "    training_mse = [mean_squared_error(train['Max_Percent_Confirmed'], model.predict(train)) for model in models.values()]\n",
    "    validation_mse = [cross_validate_mse(model) for model in models.values()]\n",
    "    test_mse = [mean_squared_error(test['Max_Percent_Confirmed'], model.predict(test)) for model in models.values()]\n",
    "    names = list(models.keys())\n",
    "    fig = go.Figure([\n",
    "        go.Bar(x = names, y = training_mse, name=\"Training MSE\"),\n",
    "        go.Bar(x = names, y = validation_mse, name=\"CV MSE\"),\n",
    "        go.Bar(x = names, y = test_mse, name=\"Validation RMSE\", opacity=.2)\n",
    "    ])\n",
    "    return fig\n",
    "fig = compare_models(models)\n",
    "fig.show()"
   ]
  },
  {
   "cell_type": "code",
   "execution_count": 173,
   "metadata": {},
   "outputs": [
    {
     "name": "stderr",
     "output_type": "stream",
     "text": [
      "/Users/jianlin/opt/anaconda3/lib/python3.7/site-packages/ipykernel_launcher.py:2: SettingWithCopyWarning: \n",
      "A value is trying to be set on a copy of a slice from a DataFrame.\n",
      "Try using .loc[row_indexer,col_indexer] = value instead\n",
      "\n",
      "See the caveats in the documentation: http://pandas.pydata.org/pandas-docs/stable/user_guide/indexing.html#returning-a-view-versus-a-copy\n",
      "  \n"
     ]
    },
    {
     "data": {
      "text/plain": [
       "<matplotlib.axes._subplots.AxesSubplot at 0x1a29280b50>"
      ]
     },
     "execution_count": 173,
     "metadata": {},
     "output_type": "execute_result"
    },
    {
     "data": {
      "image/png": "[encoded data removed]",
      "text/plain": [
       "<Figure size 432x288 with 1 Axes>"
      ]
     },
     "metadata": {
      "needs_background": "light"
     },
     "output_type": "display_data"
    }
   ],
   "source": [
    "temp = thresholds[thresholds[\"dem_to_rep_ratio\"] < 5]\n",
    "temp[\"log_dr\"] = np.log10(temp[\"dem_to_rep_ratio\"])\n",
    "sns.scatterplot(data=temp, x=\"log_dr\", y=\"Max_Percent_Confirmed\")"
   ]
  },
  {
   "cell_type": "code",
   "execution_count": 133,
   "metadata": {},
   "outputs": [
    {
     "name": "stderr",
     "output_type": "stream",
     "text": [
      "/Users/jianlin/opt/anaconda3/lib/python3.7/site-packages/pandas/core/series.py:853: RuntimeWarning: divide by zero encountered in log10\n",
      "  result = getattr(ufunc, method)(*inputs, **kwargs)\n"
     ]
    },
    {
     "data": {
      "text/plain": [
       "<matplotlib.axes._subplots.AxesSubplot at 0x1a27c0db10>"
      ]
     },
     "execution_count": 133,
     "metadata": {},
     "output_type": "execute_result"
    },
    {
     "data": {
      "image/png": "[encoded data removed]",
      "text/plain": [
       "<Figure size 432x288 with 1 Axes>"
      ]
     },
     "metadata": {
      "needs_background": "light"
     },
     "output_type": "display_data"
    }
   ],
   "source": [
    "thresholds[\"log_SVIP\"] = np.log10(thresholds[\"SVIPercentile\"])\n",
    "thresholds[\"log_%\"] = np.log10(thresholds[\"Max_Percent_Confirmed\"])\n",
    "sns.scatterplot(data=thresholds, x=\"log_SVIP\", y=\"log_%\")"
   ]
  },
  {
   "cell_type": "code",
   "execution_count": 128,
   "metadata": {},
   "outputs": [
    {
     "data": {
      "text/plain": [
       "46.0"
      ]
     },
     "execution_count": 128,
     "metadata": {},
     "output_type": "execute_result"
    },
    {
     "data": {
      "image/png": "[encoded data removed]",
      "text/plain": [
       "<Figure size 432x288 with 1 Axes>"
      ]
     },
     "metadata": {
      "needs_background": "light"
     },
     "output_type": "display_data"
    }
   ],
   "source": [
    "sns.scatterplot(data=thresholds, x=\"#Hospitals\", y=\"Max_Percent_Confirmed\")"
   ]
  },
  {
   "cell_type": "code",
   "execution_count": 130,
   "metadata": {},
   "outputs": [
    {
     "data": {
      "text/plain": [
       "<matplotlib.axes._subplots.AxesSubplot at 0x1a278c3850>"
      ]
     },
     "execution_count": 130,
     "metadata": {},
     "output_type": "execute_result"
    },
    {
     "data": {
      "image/png": "[encoded data removed]",
      "text/plain": [
       "<Figure size 432x288 with 1 Axes>"
      ]
     },
     "metadata": {
      "needs_background": "light"
     },
     "output_type": "display_data"
    }
   ],
   "source": [
    "thresholds[thresholds[\"Max_Percent_Confirmed\"] == max(thresholds[\"Max_Percent_Confirmed\"])]\n",
    "temp = thresholds[thresholds[\"UID\"] != 84036061]\n",
    "sns.scatterplot(data=temp, x=\"#Hospitals\", y=\"Max_Percent_Confirmed\")"
   ]
  },
  {
   "cell_type": "code",
   "execution_count": 139,
   "metadata": {},
   "outputs": [
    {
     "data": {
      "text/plain": [
       "6.340652443751142e-06"
      ]
     },
     "execution_count": 139,
     "metadata": {},
     "output_type": "execute_result"
    }
   ],
   "source": [
    "train, test = train_test_split(thresholds, test_size=.25, random_state=42)\n",
    "decision_tree_model = tree.DecisionTreeRegressor(random_state=42) \n",
    "decision_tree_model.fit(train[[\"SVIPercentile\", 'HeartDiseaseMortality', 'dem_to_rep_ratio']], train[\"Max_Percent_Confirmed\"])\n",
    "dt_training_accuracy = decision_tree_model.score(train[[\"SVIPercentile\", 'HeartDiseaseMortality', 'dem_to_rep_ratio']], train[\"Max_Percent_Confirmed\"])\n",
    "# dt_testing_accuracy = accuracy_score(test[\"Max_Percent_Confirmed\"], decision_tree_model.predict(test[[\"dem_to_rep_ratio\", \"SVIPercentile\"]]))\n",
    "dt_testing_accuracy = decision_tree_model.score(test[[\"SVIPercentile\", 'HeartDiseaseMortality', 'dem_to_rep_ratio']], test[\"Max_Percent_Confirmed\"])\n",
    "dt_testing_accuracy\n",
    "y_hat = decision_tree_model.predict(test[[\"SVIPercentile\", 'HeartDiseaseMortality', 'dem_to_rep_ratio']])\n",
    "mse = mean_squared_error(test[\"Max_Percent_Confirmed\"], y_hat)\n",
    "mse"
   ]
  },
  {
   "cell_type": "code",
   "execution_count": 194,
   "metadata": {},
   "outputs": [
    {
     "data": {
      "text/plain": [
       "<matplotlib.axes._subplots.AxesSubplot at 0x1a2848f6d0>"
      ]
     },
     "execution_count": 194,
     "metadata": {},
     "output_type": "execute_result"
    },
    {
     "data": {
      "image/png": "[encoded data removed]",
      "text/plain": [
       "<Figure size 432x288 with 1 Axes>"
      ]
     },
     "metadata": {
      "needs_background": "light"
     },
     "output_type": "display_data"
    }
   ],
   "source": [
    "temp = thresholds[thresholds[\"Max_Percent_Confirmed\"] != 0]\n",
    "temp = temp[temp[\"Max_Percent_Confirmed\"] < 0.04]\n",
    "sns.distplot(temp[\"Max_Percent_Confirmed\"], rug=True)"
   ]
  },
  {
   "cell_type": "code",
   "execution_count": null,
   "metadata": {},
   "outputs": [],
   "source": []
  },
  {
   "cell_type": "code",
   "execution_count": 102,
   "metadata": {},
   "outputs": [
    {
     "ename": "ValueError",
     "evalue": "Input contains NaN, infinity or a value too large for dtype('float64').",
     "output_type": "error",
     "traceback": [
      "\u001b[0;31m---------------------------------------------------------------------------\u001b[0m",
      "\u001b[0;31mValueError\u001b[0m                                Traceback (most recent call last)",
      "\u001b[0;32m<ipython-input-102-81b24f07c36c>\u001b[0m in \u001b[0;36m<module>\u001b[0;34m\u001b[0m\n\u001b[1;32m      7\u001b[0m     \u001b[0;34m(\u001b[0m\u001b[0;34m\"DecisionTree\"\u001b[0m\u001b[0;34m,\u001b[0m \u001b[0mLinearRegression\u001b[0m\u001b[0;34m(\u001b[0m\u001b[0;34m)\u001b[0m\u001b[0;34m)\u001b[0m\u001b[0;34m\u001b[0m\u001b[0;34m\u001b[0m\u001b[0m\n\u001b[1;32m      8\u001b[0m ])\n\u001b[0;32m----> 9\u001b[0;31m \u001b[0mmodel\u001b[0m\u001b[0;34m.\u001b[0m\u001b[0mfit\u001b[0m\u001b[0;34m(\u001b[0m\u001b[0mtrain\u001b[0m\u001b[0;34m[\u001b[0m\u001b[0mdays\u001b[0m\u001b[0;34m]\u001b[0m\u001b[0;34m,\u001b[0m \u001b[0mtrain\u001b[0m\u001b[0;34m[\u001b[0m\u001b[0;34m\"4/18/20\"\u001b[0m\u001b[0;34m]\u001b[0m\u001b[0;34m)\u001b[0m\u001b[0;34m\u001b[0m\u001b[0;34m\u001b[0m\u001b[0m\n\u001b[0m\u001b[1;32m     10\u001b[0m \u001b[0mmodels\u001b[0m\u001b[0;34m[\u001b[0m\u001b[0;34m\"h+a+svi+dr+hpsa\"\u001b[0m\u001b[0;34m]\u001b[0m \u001b[0;34m=\u001b[0m \u001b[0mmodel\u001b[0m\u001b[0;34m\u001b[0m\u001b[0;34m\u001b[0m\u001b[0m\n\u001b[1;32m     11\u001b[0m \u001b[0mtest_mse\u001b[0m \u001b[0;34m=\u001b[0m \u001b[0mmean_squared_error\u001b[0m\u001b[0;34m(\u001b[0m\u001b[0mtest\u001b[0m\u001b[0;34m[\u001b[0m\u001b[0;34m\"4/18/20\"\u001b[0m\u001b[0;34m]\u001b[0m\u001b[0;34m,\u001b[0m \u001b[0mmodel\u001b[0m\u001b[0;34m.\u001b[0m\u001b[0mpredict\u001b[0m\u001b[0;34m(\u001b[0m\u001b[0mtest\u001b[0m\u001b[0;34m[\u001b[0m\u001b[0mdays\u001b[0m\u001b[0;34m]\u001b[0m\u001b[0;34m)\u001b[0m\u001b[0;34m)\u001b[0m\u001b[0;34m\u001b[0m\u001b[0;34m\u001b[0m\u001b[0m\n",
      "\u001b[0;32m~/opt/anaconda3/lib/python3.7/site-packages/sklearn/pipeline.py\u001b[0m in \u001b[0;36mfit\u001b[0;34m(self, X, y, **fit_params)\u001b[0m\n\u001b[1;32m    354\u001b[0m                                  self._log_message(len(self.steps) - 1)):\n\u001b[1;32m    355\u001b[0m             \u001b[0;32mif\u001b[0m \u001b[0mself\u001b[0m\u001b[0;34m.\u001b[0m\u001b[0m_final_estimator\u001b[0m \u001b[0;34m!=\u001b[0m \u001b[0;34m'passthrough'\u001b[0m\u001b[0;34m:\u001b[0m\u001b[0;34m\u001b[0m\u001b[0;34m\u001b[0m\u001b[0m\n\u001b[0;32m--> 356\u001b[0;31m                 \u001b[0mself\u001b[0m\u001b[0;34m.\u001b[0m\u001b[0m_final_estimator\u001b[0m\u001b[0;34m.\u001b[0m\u001b[0mfit\u001b[0m\u001b[0;34m(\u001b[0m\u001b[0mXt\u001b[0m\u001b[0;34m,\u001b[0m \u001b[0my\u001b[0m\u001b[0;34m,\u001b[0m \u001b[0;34m**\u001b[0m\u001b[0mfit_params\u001b[0m\u001b[0;34m)\u001b[0m\u001b[0;34m\u001b[0m\u001b[0;34m\u001b[0m\u001b[0m\n\u001b[0m\u001b[1;32m    357\u001b[0m         \u001b[0;32mreturn\u001b[0m \u001b[0mself\u001b[0m\u001b[0;34m\u001b[0m\u001b[0;34m\u001b[0m\u001b[0m\n\u001b[1;32m    358\u001b[0m \u001b[0;34m\u001b[0m\u001b[0m\n",
      "\u001b[0;32m~/opt/anaconda3/lib/python3.7/site-packages/sklearn/linear_model/base.py\u001b[0m in \u001b[0;36mfit\u001b[0;34m(self, X, y, sample_weight)\u001b[0m\n\u001b[1;32m    461\u001b[0m         \u001b[0mn_jobs_\u001b[0m \u001b[0;34m=\u001b[0m \u001b[0mself\u001b[0m\u001b[0;34m.\u001b[0m\u001b[0mn_jobs\u001b[0m\u001b[0;34m\u001b[0m\u001b[0;34m\u001b[0m\u001b[0m\n\u001b[1;32m    462\u001b[0m         X, y = check_X_y(X, y, accept_sparse=['csr', 'csc', 'coo'],\n\u001b[0;32m--> 463\u001b[0;31m                          y_numeric=True, multi_output=True)\n\u001b[0m\u001b[1;32m    464\u001b[0m \u001b[0;34m\u001b[0m\u001b[0m\n\u001b[1;32m    465\u001b[0m         \u001b[0;32mif\u001b[0m \u001b[0msample_weight\u001b[0m \u001b[0;32mis\u001b[0m \u001b[0;32mnot\u001b[0m \u001b[0;32mNone\u001b[0m \u001b[0;32mand\u001b[0m \u001b[0mnp\u001b[0m\u001b[0;34m.\u001b[0m\u001b[0matleast_1d\u001b[0m\u001b[0;34m(\u001b[0m\u001b[0msample_weight\u001b[0m\u001b[0;34m)\u001b[0m\u001b[0;34m.\u001b[0m\u001b[0mndim\u001b[0m \u001b[0;34m>\u001b[0m \u001b[0;36m1\u001b[0m\u001b[0;34m:\u001b[0m\u001b[0;34m\u001b[0m\u001b[0;34m\u001b[0m\u001b[0m\n",
      "\u001b[0;32m~/opt/anaconda3/lib/python3.7/site-packages/sklearn/utils/validation.py\u001b[0m in \u001b[0;36mcheck_X_y\u001b[0;34m(X, y, accept_sparse, accept_large_sparse, dtype, order, copy, force_all_finite, ensure_2d, allow_nd, multi_output, ensure_min_samples, ensure_min_features, y_numeric, warn_on_dtype, estimator)\u001b[0m\n\u001b[1;32m    717\u001b[0m                     \u001b[0mensure_min_features\u001b[0m\u001b[0;34m=\u001b[0m\u001b[0mensure_min_features\u001b[0m\u001b[0;34m,\u001b[0m\u001b[0;34m\u001b[0m\u001b[0;34m\u001b[0m\u001b[0m\n\u001b[1;32m    718\u001b[0m                     \u001b[0mwarn_on_dtype\u001b[0m\u001b[0;34m=\u001b[0m\u001b[0mwarn_on_dtype\u001b[0m\u001b[0;34m,\u001b[0m\u001b[0;34m\u001b[0m\u001b[0;34m\u001b[0m\u001b[0m\n\u001b[0;32m--> 719\u001b[0;31m                     estimator=estimator)\n\u001b[0m\u001b[1;32m    720\u001b[0m     \u001b[0;32mif\u001b[0m \u001b[0mmulti_output\u001b[0m\u001b[0;34m:\u001b[0m\u001b[0;34m\u001b[0m\u001b[0;34m\u001b[0m\u001b[0m\n\u001b[1;32m    721\u001b[0m         y = check_array(y, 'csr', force_all_finite=True, ensure_2d=False,\n",
      "\u001b[0;32m~/opt/anaconda3/lib/python3.7/site-packages/sklearn/utils/validation.py\u001b[0m in \u001b[0;36mcheck_array\u001b[0;34m(array, accept_sparse, accept_large_sparse, dtype, order, copy, force_all_finite, ensure_2d, allow_nd, ensure_min_samples, ensure_min_features, warn_on_dtype, estimator)\u001b[0m\n\u001b[1;32m    540\u001b[0m         \u001b[0;32mif\u001b[0m \u001b[0mforce_all_finite\u001b[0m\u001b[0;34m:\u001b[0m\u001b[0;34m\u001b[0m\u001b[0;34m\u001b[0m\u001b[0m\n\u001b[1;32m    541\u001b[0m             _assert_all_finite(array,\n\u001b[0;32m--> 542\u001b[0;31m                                allow_nan=force_all_finite == 'allow-nan')\n\u001b[0m\u001b[1;32m    543\u001b[0m \u001b[0;34m\u001b[0m\u001b[0m\n\u001b[1;32m    544\u001b[0m     \u001b[0;32mif\u001b[0m \u001b[0mensure_min_samples\u001b[0m \u001b[0;34m>\u001b[0m \u001b[0;36m0\u001b[0m\u001b[0;34m:\u001b[0m\u001b[0;34m\u001b[0m\u001b[0;34m\u001b[0m\u001b[0m\n",
      "\u001b[0;32m~/opt/anaconda3/lib/python3.7/site-packages/sklearn/utils/validation.py\u001b[0m in \u001b[0;36m_assert_all_finite\u001b[0;34m(X, allow_nan)\u001b[0m\n\u001b[1;32m     54\u001b[0m                 not allow_nan and not np.isfinite(X).all()):\n\u001b[1;32m     55\u001b[0m             \u001b[0mtype_err\u001b[0m \u001b[0;34m=\u001b[0m \u001b[0;34m'infinity'\u001b[0m \u001b[0;32mif\u001b[0m \u001b[0mallow_nan\u001b[0m \u001b[0;32melse\u001b[0m \u001b[0;34m'NaN, infinity'\u001b[0m\u001b[0;34m\u001b[0m\u001b[0;34m\u001b[0m\u001b[0m\n\u001b[0;32m---> 56\u001b[0;31m             \u001b[0;32mraise\u001b[0m \u001b[0mValueError\u001b[0m\u001b[0;34m(\u001b[0m\u001b[0mmsg_err\u001b[0m\u001b[0;34m.\u001b[0m\u001b[0mformat\u001b[0m\u001b[0;34m(\u001b[0m\u001b[0mtype_err\u001b[0m\u001b[0;34m,\u001b[0m \u001b[0mX\u001b[0m\u001b[0;34m.\u001b[0m\u001b[0mdtype\u001b[0m\u001b[0;34m)\u001b[0m\u001b[0;34m)\u001b[0m\u001b[0;34m\u001b[0m\u001b[0;34m\u001b[0m\u001b[0m\n\u001b[0m\u001b[1;32m     57\u001b[0m     \u001b[0;31m# for object dtype data, we only check for NaNs (GH-13254)\u001b[0m\u001b[0;34m\u001b[0m\u001b[0;34m\u001b[0m\u001b[0;34m\u001b[0m\u001b[0m\n\u001b[1;32m     58\u001b[0m     \u001b[0;32melif\u001b[0m \u001b[0mX\u001b[0m\u001b[0;34m.\u001b[0m\u001b[0mdtype\u001b[0m \u001b[0;34m==\u001b[0m \u001b[0mnp\u001b[0m\u001b[0;34m.\u001b[0m\u001b[0mdtype\u001b[0m\u001b[0;34m(\u001b[0m\u001b[0;34m'object'\u001b[0m\u001b[0;34m)\u001b[0m \u001b[0;32mand\u001b[0m \u001b[0;32mnot\u001b[0m \u001b[0mallow_nan\u001b[0m\u001b[0;34m:\u001b[0m\u001b[0;34m\u001b[0m\u001b[0;34m\u001b[0m\u001b[0m\n",
      "\u001b[0;31mValueError\u001b[0m: Input contains NaN, infinity or a value too large for dtype('float64')."
     ]
    }
   ],
   "source": [
    "temp = county_cases[county_cases[\"4/18/20\"] != 0]\n",
    "train, test = train_test_split(temp, test_size=.25, random_state=42)\n",
    "models = {}\n",
    "days = [\"4/17/20\"] #just 4/17/20\n",
    "model = Pipeline([\n",
    "    (\"SelectColumns\", ColumnTransformer([(\"keep\", \"passthrough\", days)])),\n",
    "    (\"DecisionTree\", LinearRegression())\n",
    "])\n",
    "model.fit(train[days], train[\"4/18/20\"])\n",
    "models[\"h+a+svi+dr+hpsa\"] = model\n",
    "test_mse = mean_squared_error(test[\"4/18/20\"], model.predict(test[days]))\n",
    "train_mse = mean_squared_error(train[\"4/18/20\"], model.predict(train[days]))\n",
    "(train_mse, test_mse)"
   ]
  }
 ],
 "metadata": {
  "kernelspec": {
   "display_name": "Python 3",
   "language": "python",
   "name": "python3"
  },
  "language_info": {
   "codemirror_mode": {
    "name": "ipython",
    "version": 3
   },
   "file_extension": ".py",
   "mimetype": "text/x-python",
   "name": "python",
   "nbconvert_exporter": "python",
   "pygments_lexer": "ipython3",
   "version": "3.7.4"
  }
 },
 "nbformat": 4,
 "nbformat_minor": 2
}
