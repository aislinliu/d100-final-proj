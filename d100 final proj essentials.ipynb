{
 "cells": [
  {
   "cell_type": "markdown",
   "metadata": {},
   "source": [
    "## Data 100 Final Project - COVID19 Dataset"
   ]
  },
  {
   "cell_type": "markdown",
   "metadata": {},
   "source": [
    "Aislin Liu, Anand Chandra"
   ]
  },
  {
   "cell_type": "markdown",
   "metadata": {},
   "source": [
    "### Imports"
   ]
  },
  {
   "cell_type": "code",
   "execution_count": 31,
   "metadata": {},
   "outputs": [],
   "source": [
    "import math\n",
    "from datetime import datetime\n",
    "import pandas as pd\n",
    "import numpy as np\n",
    "import matplotlib.pyplot as plt\n",
    "import matplotlib.gridspec as gridspec\n",
    "from matplotlib.colors import ListedColormap \n",
    "import seaborn as sns\n",
    "from sklearn import tree\n",
    "from sklearn.model_selection import train_test_split\n",
    "from sklearn import ensemble\n",
    "from sklearn.metrics import accuracy_score\n",
    "from sklearn.linear_model import LinearRegression\n",
    "from sklearn.metrics import mean_squared_error\n",
    "from sklearn.pipeline import Pipeline\n",
    "from sklearn.compose import ColumnTransformer\n",
    "from sklearn.model_selection import KFold\n",
    "from sklearn.base import clone\n",
    "import plotly.graph_objects as go\n",
    "from plotly.subplots import make_subplots\n",
    "import plotly.figure_factory as ff"
   ]
  },
  {
   "cell_type": "markdown",
   "metadata": {},
   "source": [
    "### The Question"
   ]
  },
  {
   "cell_type": "markdown",
   "metadata": {},
   "source": [
    "What factors contribute to high numbers per capita of confirmed cases? Which factors are more important to determining per capita confirmed cases and what combination of them provide the best prediction for per capita confirmed cases?"
   ]
  },
  {
   "cell_type": "markdown",
   "metadata": {},
   "source": [
    "# Data"
   ]
  },
  {
   "cell_type": "markdown",
   "metadata": {},
   "source": [
    "### Data Processing: Abridged Counties"
   ]
  },
  {
   "cell_type": "markdown",
   "metadata": {},
   "source": [
    "In this cell, we reformat dates, drop fields we don't find important, and add the field `Hospitals Per Capita`"
   ]
  },
  {
   "cell_type": "code",
   "execution_count": 35,
   "metadata": {},
   "outputs": [
    {
     "data": {
      "text/html": [
       "<div>\n",
       "<style scoped>\n",
       "    .dataframe tbody tr th:only-of-type {\n",
       "        vertical-align: middle;\n",
       "    }\n",
       "\n",
       "    .dataframe tbody tr th {\n",
       "        vertical-align: top;\n",
       "    }\n",
       "\n",
       "    .dataframe thead th {\n",
       "        text-align: right;\n",
       "    }\n",
       "</style>\n",
       "<table border=\"1\" class=\"dataframe\">\n",
       "  <thead>\n",
       "    <tr style=\"text-align: right;\">\n",
       "      <th></th>\n",
       "      <th>countyFIPS</th>\n",
       "      <th>STATEFP</th>\n",
       "      <th>COUNTYFP</th>\n",
       "      <th>CountyName</th>\n",
       "      <th>StateName</th>\n",
       "      <th>State</th>\n",
       "      <th>Rural-UrbanContinuumCode2013</th>\n",
       "      <th>PopulationEstimate2018</th>\n",
       "      <th>PopTotalMale2017</th>\n",
       "      <th>PopTotalFemale2017</th>\n",
       "      <th>...</th>\n",
       "      <th>public schools</th>\n",
       "      <th>restaurant dine-in</th>\n",
       "      <th>entertainment/gym</th>\n",
       "      <th>federal guidelines</th>\n",
       "      <th>foreign travel ban</th>\n",
       "      <th>SVIPercentile</th>\n",
       "      <th>HPSAShortage</th>\n",
       "      <th>HPSAServedPop</th>\n",
       "      <th>HPSAUnderservedPop</th>\n",
       "      <th>Hospitals Per Capita</th>\n",
       "    </tr>\n",
       "  </thead>\n",
       "  <tbody>\n",
       "    <tr>\n",
       "      <th>0</th>\n",
       "      <td>01001</td>\n",
       "      <td>1.0</td>\n",
       "      <td>1.0</td>\n",
       "      <td>Autauga</td>\n",
       "      <td>AL</td>\n",
       "      <td>Alabama</td>\n",
       "      <td>2.0</td>\n",
       "      <td>55601.0</td>\n",
       "      <td>27007.0</td>\n",
       "      <td>28497.0</td>\n",
       "      <td>...</td>\n",
       "      <td>1.584317e+09</td>\n",
       "      <td>1.584576e+09</td>\n",
       "      <td>1.585354e+09</td>\n",
       "      <td>1.584317e+09</td>\n",
       "      <td>1.583885e+09</td>\n",
       "      <td>0.4354</td>\n",
       "      <td>NaN</td>\n",
       "      <td>NaN</td>\n",
       "      <td>NaN</td>\n",
       "      <td>0.000018</td>\n",
       "    </tr>\n",
       "    <tr>\n",
       "      <th>1</th>\n",
       "      <td>01003</td>\n",
       "      <td>1.0</td>\n",
       "      <td>3.0</td>\n",
       "      <td>Baldwin</td>\n",
       "      <td>AL</td>\n",
       "      <td>Alabama</td>\n",
       "      <td>3.0</td>\n",
       "      <td>218022.0</td>\n",
       "      <td>103225.0</td>\n",
       "      <td>109403.0</td>\n",
       "      <td>...</td>\n",
       "      <td>1.584317e+09</td>\n",
       "      <td>1.584576e+09</td>\n",
       "      <td>1.585354e+09</td>\n",
       "      <td>1.584317e+09</td>\n",
       "      <td>1.583885e+09</td>\n",
       "      <td>0.2162</td>\n",
       "      <td>NaN</td>\n",
       "      <td>NaN</td>\n",
       "      <td>NaN</td>\n",
       "      <td>0.000014</td>\n",
       "    </tr>\n",
       "    <tr>\n",
       "      <th>2</th>\n",
       "      <td>01005</td>\n",
       "      <td>1.0</td>\n",
       "      <td>5.0</td>\n",
       "      <td>Barbour</td>\n",
       "      <td>AL</td>\n",
       "      <td>Alabama</td>\n",
       "      <td>6.0</td>\n",
       "      <td>24881.0</td>\n",
       "      <td>13335.0</td>\n",
       "      <td>11935.0</td>\n",
       "      <td>...</td>\n",
       "      <td>1.584317e+09</td>\n",
       "      <td>1.584576e+09</td>\n",
       "      <td>1.585354e+09</td>\n",
       "      <td>1.584317e+09</td>\n",
       "      <td>1.583885e+09</td>\n",
       "      <td>0.9959</td>\n",
       "      <td>6.08</td>\n",
       "      <td>5400.0</td>\n",
       "      <td>18241.0</td>\n",
       "      <td>0.000040</td>\n",
       "    </tr>\n",
       "    <tr>\n",
       "      <th>3</th>\n",
       "      <td>01007</td>\n",
       "      <td>1.0</td>\n",
       "      <td>7.0</td>\n",
       "      <td>Bibb</td>\n",
       "      <td>AL</td>\n",
       "      <td>Alabama</td>\n",
       "      <td>1.0</td>\n",
       "      <td>22400.0</td>\n",
       "      <td>12138.0</td>\n",
       "      <td>10530.0</td>\n",
       "      <td>...</td>\n",
       "      <td>1.584317e+09</td>\n",
       "      <td>1.584576e+09</td>\n",
       "      <td>1.585354e+09</td>\n",
       "      <td>1.584317e+09</td>\n",
       "      <td>1.583885e+09</td>\n",
       "      <td>0.6003</td>\n",
       "      <td>2.75</td>\n",
       "      <td>14980.0</td>\n",
       "      <td>6120.0</td>\n",
       "      <td>0.000045</td>\n",
       "    </tr>\n",
       "    <tr>\n",
       "      <th>4</th>\n",
       "      <td>01009</td>\n",
       "      <td>1.0</td>\n",
       "      <td>9.0</td>\n",
       "      <td>Blount</td>\n",
       "      <td>AL</td>\n",
       "      <td>Alabama</td>\n",
       "      <td>1.0</td>\n",
       "      <td>57840.0</td>\n",
       "      <td>28607.0</td>\n",
       "      <td>29406.0</td>\n",
       "      <td>...</td>\n",
       "      <td>1.584317e+09</td>\n",
       "      <td>1.584576e+09</td>\n",
       "      <td>1.585354e+09</td>\n",
       "      <td>1.584317e+09</td>\n",
       "      <td>1.583885e+09</td>\n",
       "      <td>0.4242</td>\n",
       "      <td>7.21</td>\n",
       "      <td>31850.0</td>\n",
       "      <td>25233.0</td>\n",
       "      <td>0.000017</td>\n",
       "    </tr>\n",
       "    <tr>\n",
       "      <th>5</th>\n",
       "      <td>01011</td>\n",
       "      <td>1.0</td>\n",
       "      <td>11.0</td>\n",
       "      <td>Bullock</td>\n",
       "      <td>AL</td>\n",
       "      <td>Alabama</td>\n",
       "      <td>6.0</td>\n",
       "      <td>10138.0</td>\n",
       "      <td>5615.0</td>\n",
       "      <td>4694.0</td>\n",
       "      <td>...</td>\n",
       "      <td>1.584317e+09</td>\n",
       "      <td>1.584576e+09</td>\n",
       "      <td>1.585354e+09</td>\n",
       "      <td>1.584317e+09</td>\n",
       "      <td>1.583885e+09</td>\n",
       "      <td>0.8898</td>\n",
       "      <td>2.38</td>\n",
       "      <td>3000.0</td>\n",
       "      <td>7153.0</td>\n",
       "      <td>0.000099</td>\n",
       "    </tr>\n",
       "    <tr>\n",
       "      <th>6</th>\n",
       "      <td>01013</td>\n",
       "      <td>1.0</td>\n",
       "      <td>13.0</td>\n",
       "      <td>Butler</td>\n",
       "      <td>AL</td>\n",
       "      <td>Alabama</td>\n",
       "      <td>6.0</td>\n",
       "      <td>19680.0</td>\n",
       "      <td>9232.0</td>\n",
       "      <td>10593.0</td>\n",
       "      <td>...</td>\n",
       "      <td>1.584317e+09</td>\n",
       "      <td>1.584576e+09</td>\n",
       "      <td>1.585354e+09</td>\n",
       "      <td>1.584317e+09</td>\n",
       "      <td>1.583885e+09</td>\n",
       "      <td>0.8653</td>\n",
       "      <td>1.31</td>\n",
       "      <td>16290.0</td>\n",
       "      <td>3918.0</td>\n",
       "      <td>0.000051</td>\n",
       "    </tr>\n",
       "    <tr>\n",
       "      <th>7</th>\n",
       "      <td>01015</td>\n",
       "      <td>1.0</td>\n",
       "      <td>15.0</td>\n",
       "      <td>Calhoun</td>\n",
       "      <td>AL</td>\n",
       "      <td>Alabama</td>\n",
       "      <td>3.0</td>\n",
       "      <td>114277.0</td>\n",
       "      <td>55149.0</td>\n",
       "      <td>59579.0</td>\n",
       "      <td>...</td>\n",
       "      <td>1.584317e+09</td>\n",
       "      <td>1.584576e+09</td>\n",
       "      <td>1.585354e+09</td>\n",
       "      <td>1.584317e+09</td>\n",
       "      <td>1.583885e+09</td>\n",
       "      <td>0.8252</td>\n",
       "      <td>4.24</td>\n",
       "      <td>35160.0</td>\n",
       "      <td>12712.0</td>\n",
       "      <td>0.000018</td>\n",
       "    </tr>\n",
       "    <tr>\n",
       "      <th>8</th>\n",
       "      <td>01017</td>\n",
       "      <td>1.0</td>\n",
       "      <td>17.0</td>\n",
       "      <td>Chambers</td>\n",
       "      <td>AL</td>\n",
       "      <td>Alabama</td>\n",
       "      <td>6.0</td>\n",
       "      <td>33615.0</td>\n",
       "      <td>16140.0</td>\n",
       "      <td>17573.0</td>\n",
       "      <td>...</td>\n",
       "      <td>1.584317e+09</td>\n",
       "      <td>1.584576e+09</td>\n",
       "      <td>1.585354e+09</td>\n",
       "      <td>1.584317e+09</td>\n",
       "      <td>1.583885e+09</td>\n",
       "      <td>0.7382</td>\n",
       "      <td>NaN</td>\n",
       "      <td>NaN</td>\n",
       "      <td>NaN</td>\n",
       "      <td>0.000000</td>\n",
       "    </tr>\n",
       "    <tr>\n",
       "      <th>9</th>\n",
       "      <td>01019</td>\n",
       "      <td>1.0</td>\n",
       "      <td>19.0</td>\n",
       "      <td>Cherokee</td>\n",
       "      <td>AL</td>\n",
       "      <td>Alabama</td>\n",
       "      <td>6.0</td>\n",
       "      <td>26032.0</td>\n",
       "      <td>12846.0</td>\n",
       "      <td>13011.0</td>\n",
       "      <td>...</td>\n",
       "      <td>1.584317e+09</td>\n",
       "      <td>1.584576e+09</td>\n",
       "      <td>1.585354e+09</td>\n",
       "      <td>1.584317e+09</td>\n",
       "      <td>1.583885e+09</td>\n",
       "      <td>0.4516</td>\n",
       "      <td>2.75</td>\n",
       "      <td>15855.0</td>\n",
       "      <td>9610.0</td>\n",
       "      <td>0.000038</td>\n",
       "    </tr>\n",
       "  </tbody>\n",
       "</table>\n",
       "<p>10 rows × 82 columns</p>\n",
       "</div>"
      ],
      "text/plain": [
       "  countyFIPS  STATEFP  COUNTYFP CountyName StateName    State  \\\n",
       "0      01001      1.0       1.0    Autauga        AL  Alabama   \n",
       "1      01003      1.0       3.0    Baldwin        AL  Alabama   \n",
       "2      01005      1.0       5.0    Barbour        AL  Alabama   \n",
       "3      01007      1.0       7.0       Bibb        AL  Alabama   \n",
       "4      01009      1.0       9.0     Blount        AL  Alabama   \n",
       "5      01011      1.0      11.0    Bullock        AL  Alabama   \n",
       "6      01013      1.0      13.0     Butler        AL  Alabama   \n",
       "7      01015      1.0      15.0    Calhoun        AL  Alabama   \n",
       "8      01017      1.0      17.0   Chambers        AL  Alabama   \n",
       "9      01019      1.0      19.0   Cherokee        AL  Alabama   \n",
       "\n",
       "   Rural-UrbanContinuumCode2013  PopulationEstimate2018  PopTotalMale2017  \\\n",
       "0                           2.0                 55601.0           27007.0   \n",
       "1                           3.0                218022.0          103225.0   \n",
       "2                           6.0                 24881.0           13335.0   \n",
       "3                           1.0                 22400.0           12138.0   \n",
       "4                           1.0                 57840.0           28607.0   \n",
       "5                           6.0                 10138.0            5615.0   \n",
       "6                           6.0                 19680.0            9232.0   \n",
       "7                           3.0                114277.0           55149.0   \n",
       "8                           6.0                 33615.0           16140.0   \n",
       "9                           6.0                 26032.0           12846.0   \n",
       "\n",
       "   PopTotalFemale2017          ...           public schools  \\\n",
       "0             28497.0          ...             1.584317e+09   \n",
       "1            109403.0          ...             1.584317e+09   \n",
       "2             11935.0          ...             1.584317e+09   \n",
       "3             10530.0          ...             1.584317e+09   \n",
       "4             29406.0          ...             1.584317e+09   \n",
       "5              4694.0          ...             1.584317e+09   \n",
       "6             10593.0          ...             1.584317e+09   \n",
       "7             59579.0          ...             1.584317e+09   \n",
       "8             17573.0          ...             1.584317e+09   \n",
       "9             13011.0          ...             1.584317e+09   \n",
       "\n",
       "   restaurant dine-in  entertainment/gym  federal guidelines  \\\n",
       "0        1.584576e+09       1.585354e+09        1.584317e+09   \n",
       "1        1.584576e+09       1.585354e+09        1.584317e+09   \n",
       "2        1.584576e+09       1.585354e+09        1.584317e+09   \n",
       "3        1.584576e+09       1.585354e+09        1.584317e+09   \n",
       "4        1.584576e+09       1.585354e+09        1.584317e+09   \n",
       "5        1.584576e+09       1.585354e+09        1.584317e+09   \n",
       "6        1.584576e+09       1.585354e+09        1.584317e+09   \n",
       "7        1.584576e+09       1.585354e+09        1.584317e+09   \n",
       "8        1.584576e+09       1.585354e+09        1.584317e+09   \n",
       "9        1.584576e+09       1.585354e+09        1.584317e+09   \n",
       "\n",
       "   foreign travel ban  SVIPercentile  HPSAShortage  HPSAServedPop  \\\n",
       "0        1.583885e+09         0.4354           NaN            NaN   \n",
       "1        1.583885e+09         0.2162           NaN            NaN   \n",
       "2        1.583885e+09         0.9959          6.08         5400.0   \n",
       "3        1.583885e+09         0.6003          2.75        14980.0   \n",
       "4        1.583885e+09         0.4242          7.21        31850.0   \n",
       "5        1.583885e+09         0.8898          2.38         3000.0   \n",
       "6        1.583885e+09         0.8653          1.31        16290.0   \n",
       "7        1.583885e+09         0.8252          4.24        35160.0   \n",
       "8        1.583885e+09         0.7382           NaN            NaN   \n",
       "9        1.583885e+09         0.4516          2.75        15855.0   \n",
       "\n",
       "   HPSAUnderservedPop  Hospitals Per Capita  \n",
       "0                 NaN              0.000018  \n",
       "1                 NaN              0.000014  \n",
       "2             18241.0              0.000040  \n",
       "3              6120.0              0.000045  \n",
       "4             25233.0              0.000017  \n",
       "5              7153.0              0.000099  \n",
       "6              3918.0              0.000051  \n",
       "7             12712.0              0.000018  \n",
       "8                 NaN              0.000000  \n",
       "9              9610.0              0.000038  \n",
       "\n",
       "[10 rows x 82 columns]"
      ]
     },
     "execution_count": 35,
     "metadata": {},
     "output_type": "execute_result"
    }
   ],
   "source": [
    "# Import counties data\n",
    "abridged_counties = pd.read_csv(\"abridged_couties.csv\")\n",
    "\n",
    "# Convert the Gregorian dates to UTC timestamp\n",
    "# Columns that need this: \"Stay Home UTC\", \">50 gatherings\", \">500 gatherings\", \"public schools\", \"restaurant dine-in\", \"entertainment/gym\", \"federal guidelines\", \"foreign travel ban\"\n",
    "def ordinalToTimeStamp(series):\n",
    "    arr = []\n",
    "    array_form = series.values\n",
    "    for o_date in array_form:\n",
    "        if not math.isnan(o_date):\n",
    "            timestamp = pd.Timestamp.fromordinal(int(o_date)).timestamp()\n",
    "            arr.append(timestamp)\n",
    "        else:\n",
    "            arr.append(0)\n",
    "    return arr\n",
    "gregorian = [\"stay at home\", \">50 gatherings\", \">500 gatherings\", \"public schools\", \"restaurant dine-in\", \"entertainment/gym\", \"federal guidelines\", \"foreign travel ban\"]\n",
    "for column in gregorian:\n",
    "    abridged_counties[column] = ordinalToTimeStamp(abridged_counties[column])\n",
    "    \n",
    "# Drop columns\n",
    "abridged_counties = abridged_counties.drop([\"lat\", \"lon\", \"POP_LATITUDE\", \"POP_LONGITUDE\", \"CensusRegionName\", \"CensusDivisionName\"], axis=1)\n",
    "\n",
    "# Hospitals Per Capita\n",
    "abridged_counties[\"Hospitals Per Capita\"] = abridged_counties[\"#Hospitals\"] / abridged_counties[\"PopulationEstimate2018\"]\n",
    "abridged_counties = abridged_counties.rename(columns={'stay at home': 'Stay Home UTC'})\n",
    "abridged_counties.head(10)"
   ]
  },
  {
   "cell_type": "markdown",
   "metadata": {},
   "source": [
    "### Data Processing: Confirmed"
   ]
  },
  {
   "cell_type": "markdown",
   "metadata": {},
   "source": [
    "We address null values. In the \"Admin2\" column, nulls were replaced with empty string for when the data point had no county name stored. All areas/regions that had NaN for \"FIPS\" column is because they were not an actual county but still a group of people with noteworthy virus infection like correctional facilities. No actual US county has a FIPS of 0 so we filled these nulls in with 0. "
   ]
  },
  {
   "cell_type": "code",
   "execution_count": 36,
   "metadata": {},
   "outputs": [
    {
     "name": "stdout",
     "output_type": "stream",
     "text": [
      "There are currently 11 NaN values in confirmed\n",
      "There are now 0 NaN values in confirmed\n"
     ]
    }
   ],
   "source": [
    "confirmed = pd.read_csv(\"time_series_covid19_confirmed_US.csv\")\n",
    "print(\"There are currently \" + str(confirmed.isna().sum().sum()) + \" NaN values in confirmed\")\n",
    "confirmed[\"Admin2\"].fillna(\"\", inplace=True)\n",
    "confirmed[\"FIPS\"].fillna(0, inplace=True)\n",
    "print(\"There are now \" + str(confirmed.isna().sum().sum()) + \" NaN values in confirmed\")"
   ]
  },
  {
   "cell_type": "markdown",
   "metadata": {},
   "source": [
    "### New Dataframe: Thresholds"
   ]
  },
  {
   "cell_type": "markdown",
   "metadata": {},
   "source": [
    "We create a new dataframe that, for each county, contains all features and our y-value: the peak proportion of confirmed cases"
   ]
  },
  {
   "cell_type": "code",
   "execution_count": 40,
   "metadata": {},
   "outputs": [
    {
     "data": {
      "text/html": [
       "<div>\n",
       "<style scoped>\n",
       "    .dataframe tbody tr th:only-of-type {\n",
       "        vertical-align: middle;\n",
       "    }\n",
       "\n",
       "    .dataframe tbody tr th {\n",
       "        vertical-align: top;\n",
       "    }\n",
       "\n",
       "    .dataframe thead th {\n",
       "        text-align: right;\n",
       "    }\n",
       "</style>\n",
       "<table border=\"1\" class=\"dataframe\">\n",
       "  <thead>\n",
       "    <tr style=\"text-align: right;\">\n",
       "      <th></th>\n",
       "      <th>UID</th>\n",
       "      <th>iso2</th>\n",
       "      <th>iso3</th>\n",
       "      <th>code3</th>\n",
       "      <th>countyFIPS</th>\n",
       "      <th>Admin2</th>\n",
       "      <th>Province_State</th>\n",
       "      <th>Country_Region</th>\n",
       "      <th>Combined_Key</th>\n",
       "      <th>Stay Home UTC</th>\n",
       "      <th>...</th>\n",
       "      <th>#Hospitals</th>\n",
       "      <th>PopulationEstimate2018</th>\n",
       "      <th>RespMortalityRate2014</th>\n",
       "      <th>dem_to_rep_ratio</th>\n",
       "      <th>SVIPercentile</th>\n",
       "      <th>Hospitals Per Capita</th>\n",
       "      <th>Max_Confirmed</th>\n",
       "      <th>Max_Percent_Confirmed</th>\n",
       "      <th>First Confirmed Case UTC</th>\n",
       "      <th>Stay Home Confirmed Diff</th>\n",
       "    </tr>\n",
       "  </thead>\n",
       "  <tbody>\n",
       "    <tr>\n",
       "      <th>0</th>\n",
       "      <td>84010001</td>\n",
       "      <td>US</td>\n",
       "      <td>USA</td>\n",
       "      <td>840</td>\n",
       "      <td>10001</td>\n",
       "      <td>Kent</td>\n",
       "      <td>Delaware</td>\n",
       "      <td>US</td>\n",
       "      <td>Kent, Delaware, US</td>\n",
       "      <td>85.0080</td>\n",
       "      <td>...</td>\n",
       "      <td>1.0</td>\n",
       "      <td>178550.0</td>\n",
       "      <td>62.05</td>\n",
       "      <td>0.901598</td>\n",
       "      <td>0.7268</td>\n",
       "      <td>0.000006</td>\n",
       "      <td>417</td>\n",
       "      <td>0.002335</td>\n",
       "      <td>84.5148</td>\n",
       "      <td>0.4932</td>\n",
       "    </tr>\n",
       "    <tr>\n",
       "      <th>1</th>\n",
       "      <td>84010003</td>\n",
       "      <td>US</td>\n",
       "      <td>USA</td>\n",
       "      <td>840</td>\n",
       "      <td>10003</td>\n",
       "      <td>New Castle</td>\n",
       "      <td>Delaware</td>\n",
       "      <td>US</td>\n",
       "      <td>New Castle, Delaware, US</td>\n",
       "      <td>85.0080</td>\n",
       "      <td>...</td>\n",
       "      <td>2.0</td>\n",
       "      <td>559335.0</td>\n",
       "      <td>49.38</td>\n",
       "      <td>1.904928</td>\n",
       "      <td>0.3761</td>\n",
       "      <td>0.000004</td>\n",
       "      <td>1205</td>\n",
       "      <td>0.002154</td>\n",
       "      <td>83.9100</td>\n",
       "      <td>1.0980</td>\n",
       "    </tr>\n",
       "    <tr>\n",
       "      <th>2</th>\n",
       "      <td>84010005</td>\n",
       "      <td>US</td>\n",
       "      <td>USA</td>\n",
       "      <td>840</td>\n",
       "      <td>10005</td>\n",
       "      <td>Sussex</td>\n",
       "      <td>Delaware</td>\n",
       "      <td>US</td>\n",
       "      <td>Sussex, Delaware, US</td>\n",
       "      <td>85.0080</td>\n",
       "      <td>...</td>\n",
       "      <td>3.0</td>\n",
       "      <td>229286.0</td>\n",
       "      <td>50.21</td>\n",
       "      <td>0.628212</td>\n",
       "      <td>0.4019</td>\n",
       "      <td>0.000013</td>\n",
       "      <td>886</td>\n",
       "      <td>0.003864</td>\n",
       "      <td>84.4284</td>\n",
       "      <td>0.5796</td>\n",
       "    </tr>\n",
       "    <tr>\n",
       "      <th>3</th>\n",
       "      <td>84011001</td>\n",
       "      <td>US</td>\n",
       "      <td>USA</td>\n",
       "      <td>840</td>\n",
       "      <td>11001</td>\n",
       "      <td>District of Columbia</td>\n",
       "      <td>District of Columbia</td>\n",
       "      <td>US</td>\n",
       "      <td>District of Columbia,District of Columbia,US</td>\n",
       "      <td>85.6992</td>\n",
       "      <td>...</td>\n",
       "      <td>6.0</td>\n",
       "      <td>702455.0</td>\n",
       "      <td>30.21</td>\n",
       "      <td>22.229820</td>\n",
       "      <td>0.5965</td>\n",
       "      <td>0.000009</td>\n",
       "      <td>2666</td>\n",
       "      <td>0.003795</td>\n",
       "      <td>84.3420</td>\n",
       "      <td>1.3572</td>\n",
       "    </tr>\n",
       "    <tr>\n",
       "      <th>4</th>\n",
       "      <td>84012001</td>\n",
       "      <td>US</td>\n",
       "      <td>USA</td>\n",
       "      <td>840</td>\n",
       "      <td>12001</td>\n",
       "      <td>Alachua</td>\n",
       "      <td>Florida</td>\n",
       "      <td>US</td>\n",
       "      <td>Alachua, Florida, US</td>\n",
       "      <td>85.0944</td>\n",
       "      <td>...</td>\n",
       "      <td>2.0</td>\n",
       "      <td>269956.0</td>\n",
       "      <td>52.85</td>\n",
       "      <td>1.618909</td>\n",
       "      <td>0.4729</td>\n",
       "      <td>0.000007</td>\n",
       "      <td>215</td>\n",
       "      <td>0.000796</td>\n",
       "      <td>83.9100</td>\n",
       "      <td>1.1844</td>\n",
       "    </tr>\n",
       "    <tr>\n",
       "      <th>5</th>\n",
       "      <td>84012003</td>\n",
       "      <td>US</td>\n",
       "      <td>USA</td>\n",
       "      <td>840</td>\n",
       "      <td>12003</td>\n",
       "      <td>Baker</td>\n",
       "      <td>Florida</td>\n",
       "      <td>US</td>\n",
       "      <td>Baker, Florida, US</td>\n",
       "      <td>85.8720</td>\n",
       "      <td>...</td>\n",
       "      <td>1.0</td>\n",
       "      <td>28355.0</td>\n",
       "      <td>97.07</td>\n",
       "      <td>0.205168</td>\n",
       "      <td>0.6803</td>\n",
       "      <td>0.000035</td>\n",
       "      <td>17</td>\n",
       "      <td>0.000600</td>\n",
       "      <td>84.7740</td>\n",
       "      <td>1.0980</td>\n",
       "    </tr>\n",
       "    <tr>\n",
       "      <th>6</th>\n",
       "      <td>84012005</td>\n",
       "      <td>US</td>\n",
       "      <td>USA</td>\n",
       "      <td>840</td>\n",
       "      <td>12005</td>\n",
       "      <td>Bay</td>\n",
       "      <td>Florida</td>\n",
       "      <td>US</td>\n",
       "      <td>Bay, Florida, US</td>\n",
       "      <td>85.8720</td>\n",
       "      <td>...</td>\n",
       "      <td>2.0</td>\n",
       "      <td>185287.0</td>\n",
       "      <td>79.48</td>\n",
       "      <td>0.350468</td>\n",
       "      <td>0.6076</td>\n",
       "      <td>0.000011</td>\n",
       "      <td>48</td>\n",
       "      <td>0.000259</td>\n",
       "      <td>84.7740</td>\n",
       "      <td>1.0980</td>\n",
       "    </tr>\n",
       "    <tr>\n",
       "      <th>7</th>\n",
       "      <td>84012007</td>\n",
       "      <td>US</td>\n",
       "      <td>USA</td>\n",
       "      <td>840</td>\n",
       "      <td>12007</td>\n",
       "      <td>Bradford</td>\n",
       "      <td>Florida</td>\n",
       "      <td>US</td>\n",
       "      <td>Bradford, Florida, US</td>\n",
       "      <td>85.8720</td>\n",
       "      <td>...</td>\n",
       "      <td>1.0</td>\n",
       "      <td>27732.0</td>\n",
       "      <td>76.84</td>\n",
       "      <td>0.328060</td>\n",
       "      <td>0.9264</td>\n",
       "      <td>0.000036</td>\n",
       "      <td>42</td>\n",
       "      <td>0.001514</td>\n",
       "      <td>84.8604</td>\n",
       "      <td>1.0116</td>\n",
       "    </tr>\n",
       "    <tr>\n",
       "      <th>8</th>\n",
       "      <td>84012009</td>\n",
       "      <td>US</td>\n",
       "      <td>USA</td>\n",
       "      <td>840</td>\n",
       "      <td>12009</td>\n",
       "      <td>Brevard</td>\n",
       "      <td>Florida</td>\n",
       "      <td>US</td>\n",
       "      <td>Brevard, Florida, US</td>\n",
       "      <td>85.8720</td>\n",
       "      <td>...</td>\n",
       "      <td>7.0</td>\n",
       "      <td>596849.0</td>\n",
       "      <td>57.16</td>\n",
       "      <td>0.658127</td>\n",
       "      <td>0.3713</td>\n",
       "      <td>0.000012</td>\n",
       "      <td>210</td>\n",
       "      <td>0.000352</td>\n",
       "      <td>84.4284</td>\n",
       "      <td>1.4436</td>\n",
       "    </tr>\n",
       "    <tr>\n",
       "      <th>9</th>\n",
       "      <td>84012011</td>\n",
       "      <td>US</td>\n",
       "      <td>USA</td>\n",
       "      <td>840</td>\n",
       "      <td>12011</td>\n",
       "      <td>Broward</td>\n",
       "      <td>Florida</td>\n",
       "      <td>US</td>\n",
       "      <td>Broward, Florida, US</td>\n",
       "      <td>85.2672</td>\n",
       "      <td>...</td>\n",
       "      <td>14.0</td>\n",
       "      <td>1951260.0</td>\n",
       "      <td>39.77</td>\n",
       "      <td>2.120398</td>\n",
       "      <td>0.5844</td>\n",
       "      <td>0.000007</td>\n",
       "      <td>3838</td>\n",
       "      <td>0.001967</td>\n",
       "      <td>83.5680</td>\n",
       "      <td>1.6992</td>\n",
       "    </tr>\n",
       "  </tbody>\n",
       "</table>\n",
       "<p>10 rows × 22 columns</p>\n",
       "</div>"
      ],
      "text/plain": [
       "        UID iso2 iso3  code3 countyFIPS                Admin2  \\\n",
       "0  84010001   US  USA    840      10001                  Kent   \n",
       "1  84010003   US  USA    840      10003            New Castle   \n",
       "2  84010005   US  USA    840      10005                Sussex   \n",
       "3  84011001   US  USA    840      11001  District of Columbia   \n",
       "4  84012001   US  USA    840      12001               Alachua   \n",
       "5  84012003   US  USA    840      12003                 Baker   \n",
       "6  84012005   US  USA    840      12005                   Bay   \n",
       "7  84012007   US  USA    840      12007              Bradford   \n",
       "8  84012009   US  USA    840      12009               Brevard   \n",
       "9  84012011   US  USA    840      12011               Broward   \n",
       "\n",
       "         Province_State Country_Region  \\\n",
       "0              Delaware             US   \n",
       "1              Delaware             US   \n",
       "2              Delaware             US   \n",
       "3  District of Columbia             US   \n",
       "4               Florida             US   \n",
       "5               Florida             US   \n",
       "6               Florida             US   \n",
       "7               Florida             US   \n",
       "8               Florida             US   \n",
       "9               Florida             US   \n",
       "\n",
       "                                   Combined_Key  Stay Home UTC  \\\n",
       "0                            Kent, Delaware, US        85.0080   \n",
       "1                      New Castle, Delaware, US        85.0080   \n",
       "2                          Sussex, Delaware, US        85.0080   \n",
       "3  District of Columbia,District of Columbia,US        85.6992   \n",
       "4                          Alachua, Florida, US        85.0944   \n",
       "5                            Baker, Florida, US        85.8720   \n",
       "6                              Bay, Florida, US        85.8720   \n",
       "7                         Bradford, Florida, US        85.8720   \n",
       "8                          Brevard, Florida, US        85.8720   \n",
       "9                          Broward, Florida, US        85.2672   \n",
       "\n",
       "             ...             #Hospitals  PopulationEstimate2018  \\\n",
       "0            ...                    1.0                178550.0   \n",
       "1            ...                    2.0                559335.0   \n",
       "2            ...                    3.0                229286.0   \n",
       "3            ...                    6.0                702455.0   \n",
       "4            ...                    2.0                269956.0   \n",
       "5            ...                    1.0                 28355.0   \n",
       "6            ...                    2.0                185287.0   \n",
       "7            ...                    1.0                 27732.0   \n",
       "8            ...                    7.0                596849.0   \n",
       "9            ...                   14.0               1951260.0   \n",
       "\n",
       "   RespMortalityRate2014  dem_to_rep_ratio  SVIPercentile  \\\n",
       "0                  62.05          0.901598         0.7268   \n",
       "1                  49.38          1.904928         0.3761   \n",
       "2                  50.21          0.628212         0.4019   \n",
       "3                  30.21         22.229820         0.5965   \n",
       "4                  52.85          1.618909         0.4729   \n",
       "5                  97.07          0.205168         0.6803   \n",
       "6                  79.48          0.350468         0.6076   \n",
       "7                  76.84          0.328060         0.9264   \n",
       "8                  57.16          0.658127         0.3713   \n",
       "9                  39.77          2.120398         0.5844   \n",
       "\n",
       "   Hospitals Per Capita  Max_Confirmed  Max_Percent_Confirmed  \\\n",
       "0              0.000006            417               0.002335   \n",
       "1              0.000004           1205               0.002154   \n",
       "2              0.000013            886               0.003864   \n",
       "3              0.000009           2666               0.003795   \n",
       "4              0.000007            215               0.000796   \n",
       "5              0.000035             17               0.000600   \n",
       "6              0.000011             48               0.000259   \n",
       "7              0.000036             42               0.001514   \n",
       "8              0.000012            210               0.000352   \n",
       "9              0.000007           3838               0.001967   \n",
       "\n",
       "   First Confirmed Case UTC  Stay Home Confirmed Diff  \n",
       "0                   84.5148                    0.4932  \n",
       "1                   83.9100                    1.0980  \n",
       "2                   84.4284                    0.5796  \n",
       "3                   84.3420                    1.3572  \n",
       "4                   83.9100                    1.1844  \n",
       "5                   84.7740                    1.0980  \n",
       "6                   84.7740                    1.0980  \n",
       "7                   84.8604                    1.0116  \n",
       "8                   84.4284                    1.4436  \n",
       "9                   83.5680                    1.6992  \n",
       "\n",
       "[10 rows x 22 columns]"
      ]
     },
     "execution_count": 40,
     "metadata": {},
     "output_type": "execute_result"
    }
   ],
   "source": [
    "# Add some features\n",
    "population_estimates = abridged_counties[[\"Stay Home UTC\", \"Smokers_Percentage\", 'MedianAge2010', 'countyFIPS', '#Hospitals', 'PopulationEstimate2018', 'RespMortalityRate2014', 'dem_to_rep_ratio', \"SVIPercentile\", \"Hospitals Per Capita\"]]\n",
    "\n",
    "# Drop others\n",
    "confirmed_modified = confirmed.drop(['iso2', 'iso3', 'code3', 'FIPS', 'Province_State', 'Country_Region', 'Combined_Key', 'Lat', 'Long_'], axis='columns')\n",
    "confirmed_modified = confirmed_modified[confirmed_modified['Admin2'] != '']\n",
    "confirmed_modified = confirmed_modified[confirmed_modified['Admin2'] != 'Unassigned']\n",
    "\n",
    "# Find max percentage\n",
    "find_max = confirmed_modified.drop(['Admin2'], axis='columns')\n",
    "find_max = find_max.set_index('UID')\n",
    "max_vals = find_max.max(axis=1).to_frame()\n",
    "confirmed_for_thresholds = confirmed[['UID', 'iso2', 'iso3', 'code3', 'FIPS', 'Admin2', 'Province_State', 'Country_Region', 'Combined_Key']].rename(columns={'FIPS': 'countyFIPS'})\n",
    "confirmed_for_thresholds['countyFIPS'] = confirmed_for_thresholds['countyFIPS'].astype('int64').astype('str')\n",
    "\n",
    "# Add field: First confirmed case timestamp\n",
    "all_date_strings = list(confirmed_modified.drop(['UID', 'Admin2'], axis='columns').columns)\n",
    "def findFirstTimestamp(data):\n",
    "    for date_string in all_date_strings:\n",
    "        if data[date_string] > 0:\n",
    "            return (datetime.strptime(date_string, '%m/%d/%y').timestamp() / 1000000 - 1500) # recenter\n",
    "confirmed_modified['First Confirmed Case UTC'] = confirmed_modified.apply(lambda data: findFirstTimestamp(data), axis=1)\n",
    "timestamps = confirmed_modified[['UID', 'First Confirmed Case UTC']]\n",
    "timestamps = timestamps.set_index('UID')\n",
    "\n",
    "# Create thresholds\n",
    "thresholds = confirmed_for_thresholds.merge(population_estimates, on='countyFIPS').dropna()\n",
    "thresholds = thresholds.merge(max_vals, on='UID')\n",
    "thresholds = thresholds.rename(columns={0: 'Max_Confirmed'})\n",
    "thresholds['Max_Percent_Confirmed'] = thresholds['Max_Confirmed'] / thresholds['PopulationEstimate2018']\n",
    "thresholds = thresholds[thresholds[\"Max_Percent_Confirmed\"] != 0]\n",
    "thresholds = thresholds.merge(timestamps, on='UID')\n",
    "thresholds['Stay Home UTC'] = (thresholds['Stay Home UTC'] / 1000000) - 1500\n",
    "thresholds['Stay Home Confirmed Diff'] = thresholds['Stay Home UTC'] - thresholds['First Confirmed Case UTC']\n",
    "thresholds.head(10)"
   ]
  },
  {
   "cell_type": "markdown",
   "metadata": {},
   "source": [
    "### Plot Distribution of Peak Confirmed Cases"
   ]
  },
  {
   "cell_type": "code",
   "execution_count": 41,
   "metadata": {},
   "outputs": [
    {
     "data": {
      "text/plain": [
       "Text(0.5, 1.0, 'Distribution of the Max Percent of Confirmed Cases')"
      ]
     },
     "execution_count": 41,
     "metadata": {},
     "output_type": "execute_result"
    },
    {
     "data": {
      "image/png": "[encoded data removed]",
      "text/plain": [
       "<Figure size 432x288 with 1 Axes>"
      ]
     },
     "metadata": {
      "needs_background": "light"
     },
     "output_type": "display_data"
    }
   ],
   "source": [
    "sns.distplot(thresholds[\"Max_Percent_Confirmed\"], norm_hist=False)\n",
    "plt.ylabel(\"Prevalence (Count)\")\n",
    "plt.xlabel(\"Max Percent of Population Infected from 1/22 - 4/18/20\")\n",
    "plt.title(\"Distribution of the Max Percent of Confirmed Cases\")"
   ]
  },
  {
   "cell_type": "markdown",
   "metadata": {},
   "source": [
    "From this distribution plot of the Max Percent of Population Infected during our time period of interest, 1/22 - 4/18/20, we see a large majority of the values cluster near 0 and are generally very low. This signifies that in calculating error, the values will be numerically low just because of the data values we are working with. We need to evaluate errors from our models while keeping this in mind."
   ]
  },
  {
   "cell_type": "markdown",
   "metadata": {},
   "source": [
    "# Feature Selection"
   ]
  },
  {
   "cell_type": "markdown",
   "metadata": {},
   "source": [
    "### Create Test/Train Sets"
   ]
  },
  {
   "cell_type": "code",
   "execution_count": 42,
   "metadata": {},
   "outputs": [],
   "source": [
    "train, test = train_test_split(thresholds, test_size=.20, random_state=42)"
   ]
  },
  {
   "cell_type": "markdown",
   "metadata": {},
   "source": [
    "### Cross Validation Set-Up"
   ]
  },
  {
   "cell_type": "markdown",
   "metadata": {},
   "source": [
    "This function takes in training data (we will be passing in training data with different features) and calculates the loss"
   ]
  },
  {
   "cell_type": "code",
   "execution_count": 43,
   "metadata": {},
   "outputs": [],
   "source": [
    "def crossValidateMSE(model, train, y):\n",
    "    five_fold = KFold(n_splits=5)\n",
    "    mse_values = []\n",
    "    for tr_ind, va_ind in five_fold.split(train):\n",
    "        model.fit(train.iloc[tr_ind, :], y.iloc[tr_ind])\n",
    "        mse_values.append(mean_squared_error(y.iloc[va_ind], model.predict(train.iloc[va_ind,:])))\n",
    "    return np.mean(mse_values)\n"
   ]
  },
  {
   "cell_type": "markdown",
   "metadata": {},
   "source": [
    "### Import Features"
   ]
  },
  {
   "cell_type": "markdown",
   "metadata": {},
   "source": [
    "We define the features we plan to use, and exclude the ones that we cannot use (for example, UID or county name)"
   ]
  },
  {
   "cell_type": "code",
   "execution_count": 44,
   "metadata": {},
   "outputs": [
    {
     "name": "stdout",
     "output_type": "stream",
     "text": [
      "['UID', 'iso2', 'iso3', 'code3', 'countyFIPS', 'Admin2', 'Province_State', 'Country_Region', 'Combined_Key', 'Stay Home UTC', 'Smokers_Percentage', 'MedianAge2010', '#Hospitals', 'PopulationEstimate2018', 'RespMortalityRate2014', 'dem_to_rep_ratio', 'SVIPercentile', 'Hospitals Per Capita', 'Max_Confirmed', 'Max_Percent_Confirmed', 'First Confirmed Case UTC', 'Stay Home Confirmed Diff']\n"
     ]
    },
    {
     "data": {
      "text/plain": [
       "['Stay Home UTC',\n",
       " 'Smokers_Percentage',\n",
       " 'MedianAge2010',\n",
       " 'RespMortalityRate2014',\n",
       " 'dem_to_rep_ratio',\n",
       " 'SVIPercentile',\n",
       " 'Hospitals Per Capita',\n",
       " 'First Confirmed Case UTC',\n",
       " 'Stay Home Confirmed Diff']"
      ]
     },
     "execution_count": 44,
     "metadata": {},
     "output_type": "execute_result"
    }
   ],
   "source": [
    "all_features = list(thresholds.columns)\n",
    "print(all_features)\n",
    "usable_features = [\"Stay Home UTC\", \"Smokers_Percentage\", 'MedianAge2010', 'RespMortalityRate2014', 'dem_to_rep_ratio', 'SVIPercentile', 'Hospitals Per Capita', 'First Confirmed Case UTC', 'Stay Home Confirmed Diff']\n",
    "usable_features"
   ]
  },
  {
   "cell_type": "markdown",
   "metadata": {},
   "source": [
    "Below we create some visualizations to get a general overview of the relationships between different features and our Y variable, \"Max_Percent_Confirmed\". "
   ]
  },
  {
   "cell_type": "code",
   "execution_count": 45,
   "metadata": {},
   "outputs": [
    {
     "data": {
      "image/png": "[encoded data removed]",
      "text/plain": [
       "<Figure size 576x576 with 2 Axes>"
      ]
     },
     "metadata": {
      "needs_background": "light"
     },
     "output_type": "display_data"
    }
   ],
   "source": [
    "visualization_df = train[usable_features]\n",
    "visualization_df[\"Max_Percent_Confirmed\"] = train[\"Max_Percent_Confirmed\"]\n",
    "fig, ax = plt.subplots(figsize=(8, 8))\n",
    "sns.heatmap(visualization_df.corr(), annot=True)\n",
    "plt.title(\"Correlation between Features and Max_Percent_Confirmed\")\n",
    "plt.show()"
   ]
  },
  {
   "cell_type": "markdown",
   "metadata": {},
   "source": [
    "It appears the features `dem_to_rep_ratio` and `First Confirmed Case UTC` both have strong correlations magnitude-wise and could be good potential indicators for `Max_Percent_Confirmed`. The other features have lower correlations directly with `Max_Percent_Confirmed` but have a high correlation with one of the stronger correlation features like `First Confirmed Case UTC`. "
   ]
  },
  {
   "cell_type": "code",
   "execution_count": 47,
   "metadata": {},
   "outputs": [
    {
     "data": {
      "application/vnd.plotly.v1+json": {
       "config": {
        "plotlyServerURL": "https://plot.ly"
       },
       "data": [
        {
         "name": "dTree CV MSE",
         "type": "bar",
         "x": [
          0,
          1,
          2
         ],
         "y": [
          7.405394846290575e-06,
          8.856854132834875e-06,
          9.08840312019012e-06
         ]
        },
        {
         "name": "LinReg CV MSE",
         "type": "bar",
         "x": [
          0,
          1,
          2
         ],
         "y": [
          6.9919856550755065e-06,
          7.292744269947609e-06,
          6.9280826535126255e-06
         ]
        }
       ],
       "layout": {
        "template": {
         "data": {
          "bar": [
           {
            "error_x": {
             "color": "#2a3f5f"
            },
            "error_y": {
             "color": "#2a3f5f"
            },
            "marker": {
             "line": {
              "color": "#E5ECF6",
              "width": 0.5
             }
            },
            "type": "bar"
           }
          ],
          "barpolar": [
           {
            "marker": {
             "line": {
              "color": "#E5ECF6",
              "width": 0.5
             }
            },
            "type": "barpolar"
           }
          ],
          "carpet": [
           {
            "aaxis": {
             "endlinecolor": "#2a3f5f",
             "gridcolor": "white",
             "linecolor": "white",
             "minorgridcolor": "white",
             "startlinecolor": "#2a3f5f"
            },
            "baxis": {
             "endlinecolor": "#2a3f5f",
             "gridcolor": "white",
             "linecolor": "white",
             "minorgridcolor": "white",
             "startlinecolor": "#2a3f5f"
            },
            "type": "carpet"
           }
          ],
          "choropleth": [
           {
            "colorbar": {
             "outlinewidth": 0,
             "ticks": ""
            },
            "type": "choropleth"
           }
          ],
          "contour": [
           {
            "colorbar": {
             "outlinewidth": 0,
             "ticks": ""
            },
            "colorscale": [
             [
              0,
              "#0d0887"
             ],
             [
              0.1111111111111111,
              "#46039f"
             ],
             [
              0.2222222222222222,
              "#7201a8"
             ],
             [
              0.3333333333333333,
              "#9c179e"
             ],
             [
              0.4444444444444444,
              "#bd3786"
             ],
             [
              0.5555555555555556,
              "#d8576b"
             ],
             [
              0.6666666666666666,
              "#ed7953"
             ],
             [
              0.7777777777777778,
              "#fb9f3a"
             ],
             [
              0.8888888888888888,
              "#fdca26"
             ],
             [
              1,
              "#f0f921"
             ]
            ],
            "type": "contour"
           }
          ],
          "contourcarpet": [
           {
            "colorbar": {
             "outlinewidth": 0,
             "ticks": ""
            },
            "type": "contourcarpet"
           }
          ],
          "heatmap": [
           {
            "colorbar": {
             "outlinewidth": 0,
             "ticks": ""
            },
            "colorscale": [
             [
              0,
              "#0d0887"
             ],
             [
              0.1111111111111111,
              "#46039f"
             ],
             [
              0.2222222222222222,
              "#7201a8"
             ],
             [
              0.3333333333333333,
              "#9c179e"
             ],
             [
              0.4444444444444444,
              "#bd3786"
             ],
             [
              0.5555555555555556,
              "#d8576b"
             ],
             [
              0.6666666666666666,
              "#ed7953"
             ],
             [
              0.7777777777777778,
              "#fb9f3a"
             ],
             [
              0.8888888888888888,
              "#fdca26"
             ],
             [
              1,
              "#f0f921"
             ]
            ],
            "type": "heatmap"
           }
          ],
          "heatmapgl": [
           {
            "colorbar": {
             "outlinewidth": 0,
             "ticks": ""
            },
            "colorscale": [
             [
              0,
              "#0d0887"
             ],
             [
              0.1111111111111111,
              "#46039f"
             ],
             [
              0.2222222222222222,
              "#7201a8"
             ],
             [
              0.3333333333333333,
              "#9c179e"
             ],
             [
              0.4444444444444444,
              "#bd3786"
             ],
             [
              0.5555555555555556,
              "#d8576b"
             ],
             [
              0.6666666666666666,
              "#ed7953"
             ],
             [
              0.7777777777777778,
              "#fb9f3a"
             ],
             [
              0.8888888888888888,
              "#fdca26"
             ],
             [
              1,
              "#f0f921"
             ]
            ],
            "type": "heatmapgl"
           }
          ],
          "histogram": [
           {
            "marker": {
             "colorbar": {
              "outlinewidth": 0,
              "ticks": ""
             }
            },
            "type": "histogram"
           }
          ],
          "histogram2d": [
           {
            "colorbar": {
             "outlinewidth": 0,
             "ticks": ""
            },
            "colorscale": [
             [
              0,
              "#0d0887"
             ],
             [
              0.1111111111111111,
              "#46039f"
             ],
             [
              0.2222222222222222,
              "#7201a8"
             ],
             [
              0.3333333333333333,
              "#9c179e"
             ],
             [
              0.4444444444444444,
              "#bd3786"
             ],
             [
              0.5555555555555556,
              "#d8576b"
             ],
             [
              0.6666666666666666,
              "#ed7953"
             ],
             [
              0.7777777777777778,
              "#fb9f3a"
             ],
             [
              0.8888888888888888,
              "#fdca26"
             ],
             [
              1,
              "#f0f921"
             ]
            ],
            "type": "histogram2d"
           }
          ],
          "histogram2dcontour": [
           {
            "colorbar": {
             "outlinewidth": 0,
             "ticks": ""
            },
            "colorscale": [
             [
              0,
              "#0d0887"
             ],
             [
              0.1111111111111111,
              "#46039f"
             ],
             [
              0.2222222222222222,
              "#7201a8"
             ],
             [
              0.3333333333333333,
              "#9c179e"
             ],
             [
              0.4444444444444444,
              "#bd3786"
             ],
             [
              0.5555555555555556,
              "#d8576b"
             ],
             [
              0.6666666666666666,
              "#ed7953"
             ],
             [
              0.7777777777777778,
              "#fb9f3a"
             ],
             [
              0.8888888888888888,
              "#fdca26"
             ],
             [
              1,
              "#f0f921"
             ]
            ],
            "type": "histogram2dcontour"
           }
          ],
          "mesh3d": [
           {
            "colorbar": {
             "outlinewidth": 0,
             "ticks": ""
            },
            "type": "mesh3d"
           }
          ],
          "parcoords": [
           {
            "line": {
             "colorbar": {
              "outlinewidth": 0,
              "ticks": ""
             }
            },
            "type": "parcoords"
           }
          ],
          "scatter": [
           {
            "marker": {
             "colorbar": {
              "outlinewidth": 0,
              "ticks": ""
             }
            },
            "type": "scatter"
           }
          ],
          "scatter3d": [
           {
            "line": {
             "colorbar": {
              "outlinewidth": 0,
              "ticks": ""
             }
            },
            "marker": {
             "colorbar": {
              "outlinewidth": 0,
              "ticks": ""
             }
            },
            "type": "scatter3d"
           }
          ],
          "scattercarpet": [
           {
            "marker": {
             "colorbar": {
              "outlinewidth": 0,
              "ticks": ""
             }
            },
            "type": "scattercarpet"
           }
          ],
          "scattergeo": [
           {
            "marker": {
             "colorbar": {
              "outlinewidth": 0,
              "ticks": ""
             }
            },
            "type": "scattergeo"
           }
          ],
          "scattergl": [
           {
            "marker": {
             "colorbar": {
              "outlinewidth": 0,
              "ticks": ""
             }
            },
            "type": "scattergl"
           }
          ],
          "scattermapbox": [
           {
            "marker": {
             "colorbar": {
              "outlinewidth": 0,
              "ticks": ""
             }
            },
            "type": "scattermapbox"
           }
          ],
          "scatterpolar": [
           {
            "marker": {
             "colorbar": {
              "outlinewidth": 0,
              "ticks": ""
             }
            },
            "type": "scatterpolar"
           }
          ],
          "scatterpolargl": [
           {
            "marker": {
             "colorbar": {
              "outlinewidth": 0,
              "ticks": ""
             }
            },
            "type": "scatterpolargl"
           }
          ],
          "scatterternary": [
           {
            "marker": {
             "colorbar": {
              "outlinewidth": 0,
              "ticks": ""
             }
            },
            "type": "scatterternary"
           }
          ],
          "surface": [
           {
            "colorbar": {
             "outlinewidth": 0,
             "ticks": ""
            },
            "colorscale": [
             [
              0,
              "#0d0887"
             ],
             [
              0.1111111111111111,
              "#46039f"
             ],
             [
              0.2222222222222222,
              "#7201a8"
             ],
             [
              0.3333333333333333,
              "#9c179e"
             ],
             [
              0.4444444444444444,
              "#bd3786"
             ],
             [
              0.5555555555555556,
              "#d8576b"
             ],
             [
              0.6666666666666666,
              "#ed7953"
             ],
             [
              0.7777777777777778,
              "#fb9f3a"
             ],
             [
              0.8888888888888888,
              "#fdca26"
             ],
             [
              1,
              "#f0f921"
             ]
            ],
            "type": "surface"
           }
          ],
          "table": [
           {
            "cells": {
             "fill": {
              "color": "#EBF0F8"
             },
             "line": {
              "color": "white"
             }
            },
            "header": {
             "fill": {
              "color": "#C8D4E3"
             },
             "line": {
              "color": "white"
             }
            },
            "type": "table"
           }
          ]
         },
         "layout": {
          "annotationdefaults": {
           "arrowcolor": "#2a3f5f",
           "arrowhead": 0,
           "arrowwidth": 1
          },
          "colorscale": {
           "diverging": [
            [
             0,
             "#8e0152"
            ],
            [
             0.1,
             "#c51b7d"
            ],
            [
             0.2,
             "#de77ae"
            ],
            [
             0.3,
             "#f1b6da"
            ],
            [
             0.4,
             "#fde0ef"
            ],
            [
             0.5,
             "#f7f7f7"
            ],
            [
             0.6,
             "#e6f5d0"
            ],
            [
             0.7,
             "#b8e186"
            ],
            [
             0.8,
             "#7fbc41"
            ],
            [
             0.9,
             "#4d9221"
            ],
            [
             1,
             "#276419"
            ]
           ],
           "sequential": [
            [
             0,
             "#0d0887"
            ],
            [
             0.1111111111111111,
             "#46039f"
            ],
            [
             0.2222222222222222,
             "#7201a8"
            ],
            [
             0.3333333333333333,
             "#9c179e"
            ],
            [
             0.4444444444444444,
             "#bd3786"
            ],
            [
             0.5555555555555556,
             "#d8576b"
            ],
            [
             0.6666666666666666,
             "#ed7953"
            ],
            [
             0.7777777777777778,
             "#fb9f3a"
            ],
            [
             0.8888888888888888,
             "#fdca26"
            ],
            [
             1,
             "#f0f921"
            ]
           ],
           "sequentialminus": [
            [
             0,
             "#0d0887"
            ],
            [
             0.1111111111111111,
             "#46039f"
            ],
            [
             0.2222222222222222,
             "#7201a8"
            ],
            [
             0.3333333333333333,
             "#9c179e"
            ],
            [
             0.4444444444444444,
             "#bd3786"
            ],
            [
             0.5555555555555556,
             "#d8576b"
            ],
            [
             0.6666666666666666,
             "#ed7953"
            ],
            [
             0.7777777777777778,
             "#fb9f3a"
            ],
            [
             0.8888888888888888,
             "#fdca26"
            ],
            [
             1,
             "#f0f921"
            ]
           ]
          },
          "colorway": [
           "#636efa",
           "#EF553B",
           "#00cc96",
           "#ab63fa",
           "#FFA15A",
           "#19d3f3",
           "#FF6692",
           "#B6E880",
           "#FF97FF",
           "#FECB52"
          ],
          "font": {
           "color": "#2a3f5f"
          },
          "geo": {
           "bgcolor": "white",
           "lakecolor": "white",
           "landcolor": "#E5ECF6",
           "showlakes": true,
           "showland": true,
           "subunitcolor": "white"
          },
          "hoverlabel": {
           "align": "left"
          },
          "hovermode": "closest",
          "mapbox": {
           "style": "light"
          },
          "paper_bgcolor": "white",
          "plot_bgcolor": "#E5ECF6",
          "polar": {
           "angularaxis": {
            "gridcolor": "white",
            "linecolor": "white",
            "ticks": ""
           },
           "bgcolor": "#E5ECF6",
           "radialaxis": {
            "gridcolor": "white",
            "linecolor": "white",
            "ticks": ""
           }
          },
          "scene": {
           "xaxis": {
            "backgroundcolor": "#E5ECF6",
            "gridcolor": "white",
            "gridwidth": 2,
            "linecolor": "white",
            "showbackground": true,
            "ticks": "",
            "zerolinecolor": "white"
           },
           "yaxis": {
            "backgroundcolor": "#E5ECF6",
            "gridcolor": "white",
            "gridwidth": 2,
            "linecolor": "white",
            "showbackground": true,
            "ticks": "",
            "zerolinecolor": "white"
           },
           "zaxis": {
            "backgroundcolor": "#E5ECF6",
            "gridcolor": "white",
            "gridwidth": 2,
            "linecolor": "white",
            "showbackground": true,
            "ticks": "",
            "zerolinecolor": "white"
           }
          },
          "shapedefaults": {
           "line": {
            "color": "#2a3f5f"
           }
          },
          "ternary": {
           "aaxis": {
            "gridcolor": "white",
            "linecolor": "white",
            "ticks": ""
           },
           "baxis": {
            "gridcolor": "white",
            "linecolor": "white",
            "ticks": ""
           },
           "bgcolor": "#E5ECF6",
           "caxis": {
            "gridcolor": "white",
            "linecolor": "white",
            "ticks": ""
           }
          },
          "title": {
           "x": 0.05
          },
          "xaxis": {
           "automargin": true,
           "gridcolor": "white",
           "linecolor": "white",
           "ticks": "",
           "zerolinecolor": "white",
           "zerolinewidth": 2
          },
          "yaxis": {
           "automargin": true,
           "gridcolor": "white",
           "linecolor": "white",
           "ticks": "",
           "zerolinecolor": "white",
           "zerolinewidth": 2
          }
         }
        },
        "title": {
         "text": "Comparison of CV MSE of DecisionTreeRegressor and LinearRegression Models"
        },
        "xaxis": {
         "title": {
          "text": "Feature Combo"
         }
        },
        "yaxis": {
         "title": {
          "text": "CV MSE"
         }
        }
       }
      },
      "text/html": [
       "<div>\n",
       "        \n",
       "        \n",
       "            <div id=\"dd3a4f01-eedc-4b95-876c-6159544a1402\" class=\"plotly-graph-div\" style=\"height:525px; width:100%;\"></div>\n",
       "            <script type=\"text/javascript\">\n",
       "                require([\"plotly\"], function(Plotly) {\n",
       "                    window.PLOTLYENV=window.PLOTLYENV || {};\n",
       "                    \n",
       "                if (document.getElementById(\"dd3a4f01-eedc-4b95-876c-6159544a1402\")) {\n",
       "                    Plotly.newPlot(\n",
       "                        'dd3a4f01-eedc-4b95-876c-6159544a1402',\n",
       "                        [{\"name\": \"dTree CV MSE\", \"type\": \"bar\", \"x\": [0, 1, 2], \"y\": [7.405394846290575e-06, 8.856854132834875e-06, 9.08840312019012e-06]}, {\"name\": \"LinReg CV MSE\", \"type\": \"bar\", \"x\": [0, 1, 2], \"y\": [6.9919856550755065e-06, 7.292744269947609e-06, 6.9280826535126255e-06]}],\n",
       "                        {\"template\": {\"data\": {\"bar\": [{\"error_x\": {\"color\": \"#2a3f5f\"}, \"error_y\": {\"color\": \"#2a3f5f\"}, \"marker\": {\"line\": {\"color\": \"#E5ECF6\", \"width\": 0.5}}, \"type\": \"bar\"}], \"barpolar\": [{\"marker\": {\"line\": {\"color\": \"#E5ECF6\", \"width\": 0.5}}, \"type\": \"barpolar\"}], \"carpet\": [{\"aaxis\": {\"endlinecolor\": \"#2a3f5f\", \"gridcolor\": \"white\", \"linecolor\": \"white\", \"minorgridcolor\": \"white\", \"startlinecolor\": \"#2a3f5f\"}, \"baxis\": {\"endlinecolor\": \"#2a3f5f\", \"gridcolor\": \"white\", \"linecolor\": \"white\", \"minorgridcolor\": \"white\", \"startlinecolor\": \"#2a3f5f\"}, \"type\": \"carpet\"}], \"choropleth\": [{\"colorbar\": {\"outlinewidth\": 0, \"ticks\": \"\"}, \"type\": \"choropleth\"}], \"contour\": [{\"colorbar\": {\"outlinewidth\": 0, \"ticks\": \"\"}, \"colorscale\": [[0.0, \"#0d0887\"], [0.1111111111111111, \"#46039f\"], [0.2222222222222222, \"#7201a8\"], [0.3333333333333333, \"#9c179e\"], [0.4444444444444444, \"#bd3786\"], [0.5555555555555556, \"#d8576b\"], [0.6666666666666666, \"#ed7953\"], [0.7777777777777778, \"#fb9f3a\"], [0.8888888888888888, \"#fdca26\"], [1.0, \"#f0f921\"]], \"type\": \"contour\"}], \"contourcarpet\": [{\"colorbar\": {\"outlinewidth\": 0, \"ticks\": \"\"}, \"type\": \"contourcarpet\"}], \"heatmap\": [{\"colorbar\": {\"outlinewidth\": 0, \"ticks\": \"\"}, \"colorscale\": [[0.0, \"#0d0887\"], [0.1111111111111111, \"#46039f\"], [0.2222222222222222, \"#7201a8\"], [0.3333333333333333, \"#9c179e\"], [0.4444444444444444, \"#bd3786\"], [0.5555555555555556, \"#d8576b\"], [0.6666666666666666, \"#ed7953\"], [0.7777777777777778, \"#fb9f3a\"], [0.8888888888888888, \"#fdca26\"], [1.0, \"#f0f921\"]], \"type\": \"heatmap\"}], \"heatmapgl\": [{\"colorbar\": {\"outlinewidth\": 0, \"ticks\": \"\"}, \"colorscale\": [[0.0, \"#0d0887\"], [0.1111111111111111, \"#46039f\"], [0.2222222222222222, \"#7201a8\"], [0.3333333333333333, \"#9c179e\"], [0.4444444444444444, \"#bd3786\"], [0.5555555555555556, \"#d8576b\"], [0.6666666666666666, \"#ed7953\"], [0.7777777777777778, \"#fb9f3a\"], [0.8888888888888888, \"#fdca26\"], [1.0, \"#f0f921\"]], \"type\": \"heatmapgl\"}], \"histogram\": [{\"marker\": {\"colorbar\": {\"outlinewidth\": 0, \"ticks\": \"\"}}, \"type\": \"histogram\"}], \"histogram2d\": [{\"colorbar\": {\"outlinewidth\": 0, \"ticks\": \"\"}, \"colorscale\": [[0.0, \"#0d0887\"], [0.1111111111111111, \"#46039f\"], [0.2222222222222222, \"#7201a8\"], [0.3333333333333333, \"#9c179e\"], [0.4444444444444444, \"#bd3786\"], [0.5555555555555556, \"#d8576b\"], [0.6666666666666666, \"#ed7953\"], [0.7777777777777778, \"#fb9f3a\"], [0.8888888888888888, \"#fdca26\"], [1.0, \"#f0f921\"]], \"type\": \"histogram2d\"}], \"histogram2dcontour\": [{\"colorbar\": {\"outlinewidth\": 0, \"ticks\": \"\"}, \"colorscale\": [[0.0, \"#0d0887\"], [0.1111111111111111, \"#46039f\"], [0.2222222222222222, \"#7201a8\"], [0.3333333333333333, \"#9c179e\"], [0.4444444444444444, \"#bd3786\"], [0.5555555555555556, \"#d8576b\"], [0.6666666666666666, \"#ed7953\"], [0.7777777777777778, \"#fb9f3a\"], [0.8888888888888888, \"#fdca26\"], [1.0, \"#f0f921\"]], \"type\": \"histogram2dcontour\"}], \"mesh3d\": [{\"colorbar\": {\"outlinewidth\": 0, \"ticks\": \"\"}, \"type\": \"mesh3d\"}], \"parcoords\": [{\"line\": {\"colorbar\": {\"outlinewidth\": 0, \"ticks\": \"\"}}, \"type\": \"parcoords\"}], \"scatter\": [{\"marker\": {\"colorbar\": {\"outlinewidth\": 0, \"ticks\": \"\"}}, \"type\": \"scatter\"}], \"scatter3d\": [{\"line\": {\"colorbar\": {\"outlinewidth\": 0, \"ticks\": \"\"}}, \"marker\": {\"colorbar\": {\"outlinewidth\": 0, \"ticks\": \"\"}}, \"type\": \"scatter3d\"}], \"scattercarpet\": [{\"marker\": {\"colorbar\": {\"outlinewidth\": 0, \"ticks\": \"\"}}, \"type\": \"scattercarpet\"}], \"scattergeo\": [{\"marker\": {\"colorbar\": {\"outlinewidth\": 0, \"ticks\": \"\"}}, \"type\": \"scattergeo\"}], \"scattergl\": [{\"marker\": {\"colorbar\": {\"outlinewidth\": 0, \"ticks\": \"\"}}, \"type\": \"scattergl\"}], \"scattermapbox\": [{\"marker\": {\"colorbar\": {\"outlinewidth\": 0, \"ticks\": \"\"}}, \"type\": \"scattermapbox\"}], \"scatterpolar\": [{\"marker\": {\"colorbar\": {\"outlinewidth\": 0, \"ticks\": \"\"}}, \"type\": \"scatterpolar\"}], \"scatterpolargl\": [{\"marker\": {\"colorbar\": {\"outlinewidth\": 0, \"ticks\": \"\"}}, \"type\": \"scatterpolargl\"}], \"scatterternary\": [{\"marker\": {\"colorbar\": {\"outlinewidth\": 0, \"ticks\": \"\"}}, \"type\": \"scatterternary\"}], \"surface\": [{\"colorbar\": {\"outlinewidth\": 0, \"ticks\": \"\"}, \"colorscale\": [[0.0, \"#0d0887\"], [0.1111111111111111, \"#46039f\"], [0.2222222222222222, \"#7201a8\"], [0.3333333333333333, \"#9c179e\"], [0.4444444444444444, \"#bd3786\"], [0.5555555555555556, \"#d8576b\"], [0.6666666666666666, \"#ed7953\"], [0.7777777777777778, \"#fb9f3a\"], [0.8888888888888888, \"#fdca26\"], [1.0, \"#f0f921\"]], \"type\": \"surface\"}], \"table\": [{\"cells\": {\"fill\": {\"color\": \"#EBF0F8\"}, \"line\": {\"color\": \"white\"}}, \"header\": {\"fill\": {\"color\": \"#C8D4E3\"}, \"line\": {\"color\": \"white\"}}, \"type\": \"table\"}]}, \"layout\": {\"annotationdefaults\": {\"arrowcolor\": \"#2a3f5f\", \"arrowhead\": 0, \"arrowwidth\": 1}, \"colorscale\": {\"diverging\": [[0, \"#8e0152\"], [0.1, \"#c51b7d\"], [0.2, \"#de77ae\"], [0.3, \"#f1b6da\"], [0.4, \"#fde0ef\"], [0.5, \"#f7f7f7\"], [0.6, \"#e6f5d0\"], [0.7, \"#b8e186\"], [0.8, \"#7fbc41\"], [0.9, \"#4d9221\"], [1, \"#276419\"]], \"sequential\": [[0.0, \"#0d0887\"], [0.1111111111111111, \"#46039f\"], [0.2222222222222222, \"#7201a8\"], [0.3333333333333333, \"#9c179e\"], [0.4444444444444444, \"#bd3786\"], [0.5555555555555556, \"#d8576b\"], [0.6666666666666666, \"#ed7953\"], [0.7777777777777778, \"#fb9f3a\"], [0.8888888888888888, \"#fdca26\"], [1.0, \"#f0f921\"]], \"sequentialminus\": [[0.0, \"#0d0887\"], [0.1111111111111111, \"#46039f\"], [0.2222222222222222, \"#7201a8\"], [0.3333333333333333, \"#9c179e\"], [0.4444444444444444, \"#bd3786\"], [0.5555555555555556, \"#d8576b\"], [0.6666666666666666, \"#ed7953\"], [0.7777777777777778, \"#fb9f3a\"], [0.8888888888888888, \"#fdca26\"], [1.0, \"#f0f921\"]]}, \"colorway\": [\"#636efa\", \"#EF553B\", \"#00cc96\", \"#ab63fa\", \"#FFA15A\", \"#19d3f3\", \"#FF6692\", \"#B6E880\", \"#FF97FF\", \"#FECB52\"], \"font\": {\"color\": \"#2a3f5f\"}, \"geo\": {\"bgcolor\": \"white\", \"lakecolor\": \"white\", \"landcolor\": \"#E5ECF6\", \"showlakes\": true, \"showland\": true, \"subunitcolor\": \"white\"}, \"hoverlabel\": {\"align\": \"left\"}, \"hovermode\": \"closest\", \"mapbox\": {\"style\": \"light\"}, \"paper_bgcolor\": \"white\", \"plot_bgcolor\": \"#E5ECF6\", \"polar\": {\"angularaxis\": {\"gridcolor\": \"white\", \"linecolor\": \"white\", \"ticks\": \"\"}, \"bgcolor\": \"#E5ECF6\", \"radialaxis\": {\"gridcolor\": \"white\", \"linecolor\": \"white\", \"ticks\": \"\"}}, \"scene\": {\"xaxis\": {\"backgroundcolor\": \"#E5ECF6\", \"gridcolor\": \"white\", \"gridwidth\": 2, \"linecolor\": \"white\", \"showbackground\": true, \"ticks\": \"\", \"zerolinecolor\": \"white\"}, \"yaxis\": {\"backgroundcolor\": \"#E5ECF6\", \"gridcolor\": \"white\", \"gridwidth\": 2, \"linecolor\": \"white\", \"showbackground\": true, \"ticks\": \"\", \"zerolinecolor\": \"white\"}, \"zaxis\": {\"backgroundcolor\": \"#E5ECF6\", \"gridcolor\": \"white\", \"gridwidth\": 2, \"linecolor\": \"white\", \"showbackground\": true, \"ticks\": \"\", \"zerolinecolor\": \"white\"}}, \"shapedefaults\": {\"line\": {\"color\": \"#2a3f5f\"}}, \"ternary\": {\"aaxis\": {\"gridcolor\": \"white\", \"linecolor\": \"white\", \"ticks\": \"\"}, \"baxis\": {\"gridcolor\": \"white\", \"linecolor\": \"white\", \"ticks\": \"\"}, \"bgcolor\": \"#E5ECF6\", \"caxis\": {\"gridcolor\": \"white\", \"linecolor\": \"white\", \"ticks\": \"\"}}, \"title\": {\"x\": 0.05}, \"xaxis\": {\"automargin\": true, \"gridcolor\": \"white\", \"linecolor\": \"white\", \"ticks\": \"\", \"zerolinecolor\": \"white\", \"zerolinewidth\": 2}, \"yaxis\": {\"automargin\": true, \"gridcolor\": \"white\", \"linecolor\": \"white\", \"ticks\": \"\", \"zerolinecolor\": \"white\", \"zerolinewidth\": 2}}}, \"title\": {\"text\": \"Comparison of CV MSE of DecisionTreeRegressor and LinearRegression Models\"}, \"xaxis\": {\"title\": {\"text\": \"Feature Combo\"}}, \"yaxis\": {\"title\": {\"text\": \"CV MSE\"}}},\n",
       "                        {\"responsive\": true}\n",
       "                    ).then(function(){\n",
       "                            \n",
       "var gd = document.getElementById('dd3a4f01-eedc-4b95-876c-6159544a1402');\n",
       "var x = new MutationObserver(function (mutations, observer) {{\n",
       "        var display = window.getComputedStyle(gd).display;\n",
       "        if (!display || display === 'none') {{\n",
       "            console.log([gd, 'removed!']);\n",
       "            Plotly.purge(gd);\n",
       "            observer.disconnect();\n",
       "        }}\n",
       "}});\n",
       "\n",
       "// Listen for the removal of the full notebook cells\n",
       "var notebookContainer = gd.closest('#notebook-container');\n",
       "if (notebookContainer) {{\n",
       "    x.observe(notebookContainer, {childList: true});\n",
       "}}\n",
       "\n",
       "// Listen for the clearing of the current output cell\n",
       "var outputEl = gd.closest('.output');\n",
       "if (outputEl) {{\n",
       "    x.observe(outputEl, {childList: true});\n",
       "}}\n",
       "\n",
       "                        })\n",
       "                };\n",
       "                });\n",
       "            </script>\n",
       "        </div>"
      ]
     },
     "metadata": {},
     "output_type": "display_data"
    }
   ],
   "source": [
    "#Function that takes in 2 dictionaries of losses --> loss1, loss2 and names to label plot\n",
    "def compareModels(loss1, name1, loss2, name2):\n",
    "    names = list(loss1.keys())\n",
    "    fig = go.Figure([\n",
    "        go.Bar(x = names, y = list(loss1.values()), name=name1), \n",
    "        go.Bar(x = names, y = list(loss2.values()), name=name2)])\n",
    "    return fig\n",
    "\n",
    "fig = compareModels(tree_losses, \"dTree CV MSE\", lin_losses, \"LinReg CV MSE\")\n",
    "fig.update_layout(\n",
    "    title=\"Comparison of CV MSE of DecisionTreeRegressor and LinearRegression Models\",\n",
    "    xaxis_title=\"Feature Combo\",\n",
    "    yaxis_title=\"CV MSE\")\n",
    "fig.show()"
   ]
  },
  {
   "cell_type": "markdown",
   "metadata": {},
   "source": [
    "Across different combinations of features we see lower cross-validation error for `LinearRegression` model compared to `DecisionTreeRegressor` model so we proceed to explore optimal feature selection for our `LinearRegression` model."
   ]
  },
  {
   "cell_type": "markdown",
   "metadata": {},
   "source": [
    "### Testing Different Feature Combinations"
   ]
  },
  {
   "cell_type": "markdown",
   "metadata": {},
   "source": [
    "In the cells below we manually sample a combination of (n - 1) features where n = number of usable features we have. We compare their cross validation MSE against cross validation MSE of a model with features used to see which features are more valuable than others."
   ]
  },
  {
   "cell_type": "code",
   "execution_count": 48,
   "metadata": {},
   "outputs": [
    {
     "name": "stdout",
     "output_type": "stream",
     "text": [
      "BEST COMBINATION: LEAVING OUT dem_to_rep_ratio WITH LOSS OF 6.4617698578228865e-06\n"
     ]
    }
   ],
   "source": [
    "#dictionaries being filled with key = feature left out, value = resulting mse on this model \n",
    "def leastUsefulFeature(usable_features):\n",
    "    losses_cv = {}\n",
    "    for feature in usable_features:\n",
    "        copy = usable_features.copy()\n",
    "        copy.remove(feature)\n",
    "        training_data = train[copy]\n",
    "        cv_linear_error = crossValidateMSE(LinearRegression(), training_data, y)\n",
    "        losses_cv[feature] = cv_linear_error\n",
    "    return losses_cv\n",
    "\n",
    "#Save best CV Loss with one feature missing\n",
    "losses_cv = leastUsefulFeature(usable_features)\n",
    "best_loss = (min(losses_cv, key=losses_cv.get), min(list(losses_cv.values())))\n",
    "print('BEST COMBINATION: LEAVING OUT {} WITH LOSS OF {}'.format(best_loss[0], best_loss[1]))"
   ]
  },
  {
   "cell_type": "code",
   "execution_count": 49,
   "metadata": {
    "scrolled": true
   },
   "outputs": [
    {
     "data": {
      "application/vnd.plotly.v1+json": {
       "config": {
        "plotlyServerURL": "https://plot.ly"
       },
       "data": [
        {
         "name": "Left Out Feature",
         "type": "bar",
         "x": [
          "Stay Home UTC",
          "Smokers_Percentage",
          "MedianAge2010",
          "RespMortalityRate2014",
          "dem_to_rep_ratio",
          "SVIPercentile",
          "Hospitals Per Capita",
          "First Confirmed Case UTC",
          "Stay Home Confirmed Diff"
         ],
         "y": [
          6.991985655075685e-06,
          6.981439456500111e-06,
          6.955165829791508e-06,
          7.013676477132989e-06,
          6.4617698578228865e-06,
          7.054804885658868e-06,
          6.984083747627618e-06,
          6.99198565507558e-06,
          6.9919856550755065e-06
         ]
        },
        {
         "name": "All Features",
         "type": "bar",
         "x": [
          "Stay Home UTC",
          "Smokers_Percentage",
          "MedianAge2010",
          "RespMortalityRate2014",
          "dem_to_rep_ratio",
          "SVIPercentile",
          "Hospitals Per Capita",
          "First Confirmed Case UTC",
          "Stay Home Confirmed Diff"
         ],
         "y": [
          6.991985655093228e-06,
          6.991985655093228e-06,
          6.991985655093228e-06,
          6.991985655093228e-06,
          6.991985655093228e-06,
          6.991985655093228e-06,
          6.991985655093228e-06,
          6.991985655093228e-06,
          6.991985655093228e-06
         ]
        }
       ],
       "layout": {
        "template": {
         "data": {
          "bar": [
           {
            "error_x": {
             "color": "#2a3f5f"
            },
            "error_y": {
             "color": "#2a3f5f"
            },
            "marker": {
             "line": {
              "color": "#E5ECF6",
              "width": 0.5
             }
            },
            "type": "bar"
           }
          ],
          "barpolar": [
           {
            "marker": {
             "line": {
              "color": "#E5ECF6",
              "width": 0.5
             }
            },
            "type": "barpolar"
           }
          ],
          "carpet": [
           {
            "aaxis": {
             "endlinecolor": "#2a3f5f",
             "gridcolor": "white",
             "linecolor": "white",
             "minorgridcolor": "white",
             "startlinecolor": "#2a3f5f"
            },
            "baxis": {
             "endlinecolor": "#2a3f5f",
             "gridcolor": "white",
             "linecolor": "white",
             "minorgridcolor": "white",
             "startlinecolor": "#2a3f5f"
            },
            "type": "carpet"
           }
          ],
          "choropleth": [
           {
            "colorbar": {
             "outlinewidth": 0,
             "ticks": ""
            },
            "type": "choropleth"
           }
          ],
          "contour": [
           {
            "colorbar": {
             "outlinewidth": 0,
             "ticks": ""
            },
            "colorscale": [
             [
              0,
              "#0d0887"
             ],
             [
              0.1111111111111111,
              "#46039f"
             ],
             [
              0.2222222222222222,
              "#7201a8"
             ],
             [
              0.3333333333333333,
              "#9c179e"
             ],
             [
              0.4444444444444444,
              "#bd3786"
             ],
             [
              0.5555555555555556,
              "#d8576b"
             ],
             [
              0.6666666666666666,
              "#ed7953"
             ],
             [
              0.7777777777777778,
              "#fb9f3a"
             ],
             [
              0.8888888888888888,
              "#fdca26"
             ],
             [
              1,
              "#f0f921"
             ]
            ],
            "type": "contour"
           }
          ],
          "contourcarpet": [
           {
            "colorbar": {
             "outlinewidth": 0,
             "ticks": ""
            },
            "type": "contourcarpet"
           }
          ],
          "heatmap": [
           {
            "colorbar": {
             "outlinewidth": 0,
             "ticks": ""
            },
            "colorscale": [
             [
              0,
              "#0d0887"
             ],
             [
              0.1111111111111111,
              "#46039f"
             ],
             [
              0.2222222222222222,
              "#7201a8"
             ],
             [
              0.3333333333333333,
              "#9c179e"
             ],
             [
              0.4444444444444444,
              "#bd3786"
             ],
             [
              0.5555555555555556,
              "#d8576b"
             ],
             [
              0.6666666666666666,
              "#ed7953"
             ],
             [
              0.7777777777777778,
              "#fb9f3a"
             ],
             [
              0.8888888888888888,
              "#fdca26"
             ],
             [
              1,
              "#f0f921"
             ]
            ],
            "type": "heatmap"
           }
          ],
          "heatmapgl": [
           {
            "colorbar": {
             "outlinewidth": 0,
             "ticks": ""
            },
            "colorscale": [
             [
              0,
              "#0d0887"
             ],
             [
              0.1111111111111111,
              "#46039f"
             ],
             [
              0.2222222222222222,
              "#7201a8"
             ],
             [
              0.3333333333333333,
              "#9c179e"
             ],
             [
              0.4444444444444444,
              "#bd3786"
             ],
             [
              0.5555555555555556,
              "#d8576b"
             ],
             [
              0.6666666666666666,
              "#ed7953"
             ],
             [
              0.7777777777777778,
              "#fb9f3a"
             ],
             [
              0.8888888888888888,
              "#fdca26"
             ],
             [
              1,
              "#f0f921"
             ]
            ],
            "type": "heatmapgl"
           }
          ],
          "histogram": [
           {
            "marker": {
             "colorbar": {
              "outlinewidth": 0,
              "ticks": ""
             }
            },
            "type": "histogram"
           }
          ],
          "histogram2d": [
           {
            "colorbar": {
             "outlinewidth": 0,
             "ticks": ""
            },
            "colorscale": [
             [
              0,
              "#0d0887"
             ],
             [
              0.1111111111111111,
              "#46039f"
             ],
             [
              0.2222222222222222,
              "#7201a8"
             ],
             [
              0.3333333333333333,
              "#9c179e"
             ],
             [
              0.4444444444444444,
              "#bd3786"
             ],
             [
              0.5555555555555556,
              "#d8576b"
             ],
             [
              0.6666666666666666,
              "#ed7953"
             ],
             [
              0.7777777777777778,
              "#fb9f3a"
             ],
             [
              0.8888888888888888,
              "#fdca26"
             ],
             [
              1,
              "#f0f921"
             ]
            ],
            "type": "histogram2d"
           }
          ],
          "histogram2dcontour": [
           {
            "colorbar": {
             "outlinewidth": 0,
             "ticks": ""
            },
            "colorscale": [
             [
              0,
              "#0d0887"
             ],
             [
              0.1111111111111111,
              "#46039f"
             ],
             [
              0.2222222222222222,
              "#7201a8"
             ],
             [
              0.3333333333333333,
              "#9c179e"
             ],
             [
              0.4444444444444444,
              "#bd3786"
             ],
             [
              0.5555555555555556,
              "#d8576b"
             ],
             [
              0.6666666666666666,
              "#ed7953"
             ],
             [
              0.7777777777777778,
              "#fb9f3a"
             ],
             [
              0.8888888888888888,
              "#fdca26"
             ],
             [
              1,
              "#f0f921"
             ]
            ],
            "type": "histogram2dcontour"
           }
          ],
          "mesh3d": [
           {
            "colorbar": {
             "outlinewidth": 0,
             "ticks": ""
            },
            "type": "mesh3d"
           }
          ],
          "parcoords": [
           {
            "line": {
             "colorbar": {
              "outlinewidth": 0,
              "ticks": ""
             }
            },
            "type": "parcoords"
           }
          ],
          "scatter": [
           {
            "marker": {
             "colorbar": {
              "outlinewidth": 0,
              "ticks": ""
             }
            },
            "type": "scatter"
           }
          ],
          "scatter3d": [
           {
            "line": {
             "colorbar": {
              "outlinewidth": 0,
              "ticks": ""
             }
            },
            "marker": {
             "colorbar": {
              "outlinewidth": 0,
              "ticks": ""
             }
            },
            "type": "scatter3d"
           }
          ],
          "scattercarpet": [
           {
            "marker": {
             "colorbar": {
              "outlinewidth": 0,
              "ticks": ""
             }
            },
            "type": "scattercarpet"
           }
          ],
          "scattergeo": [
           {
            "marker": {
             "colorbar": {
              "outlinewidth": 0,
              "ticks": ""
             }
            },
            "type": "scattergeo"
           }
          ],
          "scattergl": [
           {
            "marker": {
             "colorbar": {
              "outlinewidth": 0,
              "ticks": ""
             }
            },
            "type": "scattergl"
           }
          ],
          "scattermapbox": [
           {
            "marker": {
             "colorbar": {
              "outlinewidth": 0,
              "ticks": ""
             }
            },
            "type": "scattermapbox"
           }
          ],
          "scatterpolar": [
           {
            "marker": {
             "colorbar": {
              "outlinewidth": 0,
              "ticks": ""
             }
            },
            "type": "scatterpolar"
           }
          ],
          "scatterpolargl": [
           {
            "marker": {
             "colorbar": {
              "outlinewidth": 0,
              "ticks": ""
             }
            },
            "type": "scatterpolargl"
           }
          ],
          "scatterternary": [
           {
            "marker": {
             "colorbar": {
              "outlinewidth": 0,
              "ticks": ""
             }
            },
            "type": "scatterternary"
           }
          ],
          "surface": [
           {
            "colorbar": {
             "outlinewidth": 0,
             "ticks": ""
            },
            "colorscale": [
             [
              0,
              "#0d0887"
             ],
             [
              0.1111111111111111,
              "#46039f"
             ],
             [
              0.2222222222222222,
              "#7201a8"
             ],
             [
              0.3333333333333333,
              "#9c179e"
             ],
             [
              0.4444444444444444,
              "#bd3786"
             ],
             [
              0.5555555555555556,
              "#d8576b"
             ],
             [
              0.6666666666666666,
              "#ed7953"
             ],
             [
              0.7777777777777778,
              "#fb9f3a"
             ],
             [
              0.8888888888888888,
              "#fdca26"
             ],
             [
              1,
              "#f0f921"
             ]
            ],
            "type": "surface"
           }
          ],
          "table": [
           {
            "cells": {
             "fill": {
              "color": "#EBF0F8"
             },
             "line": {
              "color": "white"
             }
            },
            "header": {
             "fill": {
              "color": "#C8D4E3"
             },
             "line": {
              "color": "white"
             }
            },
            "type": "table"
           }
          ]
         },
         "layout": {
          "annotationdefaults": {
           "arrowcolor": "#2a3f5f",
           "arrowhead": 0,
           "arrowwidth": 1
          },
          "colorscale": {
           "diverging": [
            [
             0,
             "#8e0152"
            ],
            [
             0.1,
             "#c51b7d"
            ],
            [
             0.2,
             "#de77ae"
            ],
            [
             0.3,
             "#f1b6da"
            ],
            [
             0.4,
             "#fde0ef"
            ],
            [
             0.5,
             "#f7f7f7"
            ],
            [
             0.6,
             "#e6f5d0"
            ],
            [
             0.7,
             "#b8e186"
            ],
            [
             0.8,
             "#7fbc41"
            ],
            [
             0.9,
             "#4d9221"
            ],
            [
             1,
             "#276419"
            ]
           ],
           "sequential": [
            [
             0,
             "#0d0887"
            ],
            [
             0.1111111111111111,
             "#46039f"
            ],
            [
             0.2222222222222222,
             "#7201a8"
            ],
            [
             0.3333333333333333,
             "#9c179e"
            ],
            [
             0.4444444444444444,
             "#bd3786"
            ],
            [
             0.5555555555555556,
             "#d8576b"
            ],
            [
             0.6666666666666666,
             "#ed7953"
            ],
            [
             0.7777777777777778,
             "#fb9f3a"
            ],
            [
             0.8888888888888888,
             "#fdca26"
            ],
            [
             1,
             "#f0f921"
            ]
           ],
           "sequentialminus": [
            [
             0,
             "#0d0887"
            ],
            [
             0.1111111111111111,
             "#46039f"
            ],
            [
             0.2222222222222222,
             "#7201a8"
            ],
            [
             0.3333333333333333,
             "#9c179e"
            ],
            [
             0.4444444444444444,
             "#bd3786"
            ],
            [
             0.5555555555555556,
             "#d8576b"
            ],
            [
             0.6666666666666666,
             "#ed7953"
            ],
            [
             0.7777777777777778,
             "#fb9f3a"
            ],
            [
             0.8888888888888888,
             "#fdca26"
            ],
            [
             1,
             "#f0f921"
            ]
           ]
          },
          "colorway": [
           "#636efa",
           "#EF553B",
           "#00cc96",
           "#ab63fa",
           "#FFA15A",
           "#19d3f3",
           "#FF6692",
           "#B6E880",
           "#FF97FF",
           "#FECB52"
          ],
          "font": {
           "color": "#2a3f5f"
          },
          "geo": {
           "bgcolor": "white",
           "lakecolor": "white",
           "landcolor": "#E5ECF6",
           "showlakes": true,
           "showland": true,
           "subunitcolor": "white"
          },
          "hoverlabel": {
           "align": "left"
          },
          "hovermode": "closest",
          "mapbox": {
           "style": "light"
          },
          "paper_bgcolor": "white",
          "plot_bgcolor": "#E5ECF6",
          "polar": {
           "angularaxis": {
            "gridcolor": "white",
            "linecolor": "white",
            "ticks": ""
           },
           "bgcolor": "#E5ECF6",
           "radialaxis": {
            "gridcolor": "white",
            "linecolor": "white",
            "ticks": ""
           }
          },
          "scene": {
           "xaxis": {
            "backgroundcolor": "#E5ECF6",
            "gridcolor": "white",
            "gridwidth": 2,
            "linecolor": "white",
            "showbackground": true,
            "ticks": "",
            "zerolinecolor": "white"
           },
           "yaxis": {
            "backgroundcolor": "#E5ECF6",
            "gridcolor": "white",
            "gridwidth": 2,
            "linecolor": "white",
            "showbackground": true,
            "ticks": "",
            "zerolinecolor": "white"
           },
           "zaxis": {
            "backgroundcolor": "#E5ECF6",
            "gridcolor": "white",
            "gridwidth": 2,
            "linecolor": "white",
            "showbackground": true,
            "ticks": "",
            "zerolinecolor": "white"
           }
          },
          "shapedefaults": {
           "line": {
            "color": "#2a3f5f"
           }
          },
          "ternary": {
           "aaxis": {
            "gridcolor": "white",
            "linecolor": "white",
            "ticks": ""
           },
           "baxis": {
            "gridcolor": "white",
            "linecolor": "white",
            "ticks": ""
           },
           "bgcolor": "#E5ECF6",
           "caxis": {
            "gridcolor": "white",
            "linecolor": "white",
            "ticks": ""
           }
          },
          "title": {
           "x": 0.05
          },
          "xaxis": {
           "automargin": true,
           "gridcolor": "white",
           "linecolor": "white",
           "ticks": "",
           "zerolinecolor": "white",
           "zerolinewidth": 2
          },
          "yaxis": {
           "automargin": true,
           "gridcolor": "white",
           "linecolor": "white",
           "ticks": "",
           "zerolinecolor": "white",
           "zerolinewidth": 2
          }
         }
        },
        "title": {
         "text": "Comparison of CV MSE After Leaving Out Single Features"
        },
        "xaxis": {
         "title": {
          "text": "Feature Left Out"
         }
        },
        "yaxis": {
         "title": {
          "text": "CV MSE"
         }
        }
       }
      },
      "text/html": [
       "<div>\n",
       "        \n",
       "        \n",
       "            <div id=\"a1611de9-219f-48b1-971c-5ae80e4e2549\" class=\"plotly-graph-div\" style=\"height:525px; width:100%;\"></div>\n",
       "            <script type=\"text/javascript\">\n",
       "                require([\"plotly\"], function(Plotly) {\n",
       "                    window.PLOTLYENV=window.PLOTLYENV || {};\n",
       "                    \n",
       "                if (document.getElementById(\"a1611de9-219f-48b1-971c-5ae80e4e2549\")) {\n",
       "                    Plotly.newPlot(\n",
       "                        'a1611de9-219f-48b1-971c-5ae80e4e2549',\n",
       "                        [{\"name\": \"Left Out Feature\", \"type\": \"bar\", \"x\": [\"Stay Home UTC\", \"Smokers_Percentage\", \"MedianAge2010\", \"RespMortalityRate2014\", \"dem_to_rep_ratio\", \"SVIPercentile\", \"Hospitals Per Capita\", \"First Confirmed Case UTC\", \"Stay Home Confirmed Diff\"], \"y\": [6.991985655075685e-06, 6.981439456500111e-06, 6.955165829791508e-06, 7.013676477132989e-06, 6.4617698578228865e-06, 7.054804885658868e-06, 6.984083747627618e-06, 6.99198565507558e-06, 6.9919856550755065e-06]}, {\"name\": \"All Features\", \"type\": \"bar\", \"x\": [\"Stay Home UTC\", \"Smokers_Percentage\", \"MedianAge2010\", \"RespMortalityRate2014\", \"dem_to_rep_ratio\", \"SVIPercentile\", \"Hospitals Per Capita\", \"First Confirmed Case UTC\", \"Stay Home Confirmed Diff\"], \"y\": [6.991985655093228e-06, 6.991985655093228e-06, 6.991985655093228e-06, 6.991985655093228e-06, 6.991985655093228e-06, 6.991985655093228e-06, 6.991985655093228e-06, 6.991985655093228e-06, 6.991985655093228e-06]}],\n",
       "                        {\"template\": {\"data\": {\"bar\": [{\"error_x\": {\"color\": \"#2a3f5f\"}, \"error_y\": {\"color\": \"#2a3f5f\"}, \"marker\": {\"line\": {\"color\": \"#E5ECF6\", \"width\": 0.5}}, \"type\": \"bar\"}], \"barpolar\": [{\"marker\": {\"line\": {\"color\": \"#E5ECF6\", \"width\": 0.5}}, \"type\": \"barpolar\"}], \"carpet\": [{\"aaxis\": {\"endlinecolor\": \"#2a3f5f\", \"gridcolor\": \"white\", \"linecolor\": \"white\", \"minorgridcolor\": \"white\", \"startlinecolor\": \"#2a3f5f\"}, \"baxis\": {\"endlinecolor\": \"#2a3f5f\", \"gridcolor\": \"white\", \"linecolor\": \"white\", \"minorgridcolor\": \"white\", \"startlinecolor\": \"#2a3f5f\"}, \"type\": \"carpet\"}], \"choropleth\": [{\"colorbar\": {\"outlinewidth\": 0, \"ticks\": \"\"}, \"type\": \"choropleth\"}], \"contour\": [{\"colorbar\": {\"outlinewidth\": 0, \"ticks\": \"\"}, \"colorscale\": [[0.0, \"#0d0887\"], [0.1111111111111111, \"#46039f\"], [0.2222222222222222, \"#7201a8\"], [0.3333333333333333, \"#9c179e\"], [0.4444444444444444, \"#bd3786\"], [0.5555555555555556, \"#d8576b\"], [0.6666666666666666, \"#ed7953\"], [0.7777777777777778, \"#fb9f3a\"], [0.8888888888888888, \"#fdca26\"], [1.0, \"#f0f921\"]], \"type\": \"contour\"}], \"contourcarpet\": [{\"colorbar\": {\"outlinewidth\": 0, \"ticks\": \"\"}, \"type\": \"contourcarpet\"}], \"heatmap\": [{\"colorbar\": {\"outlinewidth\": 0, \"ticks\": \"\"}, \"colorscale\": [[0.0, \"#0d0887\"], [0.1111111111111111, \"#46039f\"], [0.2222222222222222, \"#7201a8\"], [0.3333333333333333, \"#9c179e\"], [0.4444444444444444, \"#bd3786\"], [0.5555555555555556, \"#d8576b\"], [0.6666666666666666, \"#ed7953\"], [0.7777777777777778, \"#fb9f3a\"], [0.8888888888888888, \"#fdca26\"], [1.0, \"#f0f921\"]], \"type\": \"heatmap\"}], \"heatmapgl\": [{\"colorbar\": {\"outlinewidth\": 0, \"ticks\": \"\"}, \"colorscale\": [[0.0, \"#0d0887\"], [0.1111111111111111, \"#46039f\"], [0.2222222222222222, \"#7201a8\"], [0.3333333333333333, \"#9c179e\"], [0.4444444444444444, \"#bd3786\"], [0.5555555555555556, \"#d8576b\"], [0.6666666666666666, \"#ed7953\"], [0.7777777777777778, \"#fb9f3a\"], [0.8888888888888888, \"#fdca26\"], [1.0, \"#f0f921\"]], \"type\": \"heatmapgl\"}], \"histogram\": [{\"marker\": {\"colorbar\": {\"outlinewidth\": 0, \"ticks\": \"\"}}, \"type\": \"histogram\"}], \"histogram2d\": [{\"colorbar\": {\"outlinewidth\": 0, \"ticks\": \"\"}, \"colorscale\": [[0.0, \"#0d0887\"], [0.1111111111111111, \"#46039f\"], [0.2222222222222222, \"#7201a8\"], [0.3333333333333333, \"#9c179e\"], [0.4444444444444444, \"#bd3786\"], [0.5555555555555556, \"#d8576b\"], [0.6666666666666666, \"#ed7953\"], [0.7777777777777778, \"#fb9f3a\"], [0.8888888888888888, \"#fdca26\"], [1.0, \"#f0f921\"]], \"type\": \"histogram2d\"}], \"histogram2dcontour\": [{\"colorbar\": {\"outlinewidth\": 0, \"ticks\": \"\"}, \"colorscale\": [[0.0, \"#0d0887\"], [0.1111111111111111, \"#46039f\"], [0.2222222222222222, \"#7201a8\"], [0.3333333333333333, \"#9c179e\"], [0.4444444444444444, \"#bd3786\"], [0.5555555555555556, \"#d8576b\"], [0.6666666666666666, \"#ed7953\"], [0.7777777777777778, \"#fb9f3a\"], [0.8888888888888888, \"#fdca26\"], [1.0, \"#f0f921\"]], \"type\": \"histogram2dcontour\"}], \"mesh3d\": [{\"colorbar\": {\"outlinewidth\": 0, \"ticks\": \"\"}, \"type\": \"mesh3d\"}], \"parcoords\": [{\"line\": {\"colorbar\": {\"outlinewidth\": 0, \"ticks\": \"\"}}, \"type\": \"parcoords\"}], \"scatter\": [{\"marker\": {\"colorbar\": {\"outlinewidth\": 0, \"ticks\": \"\"}}, \"type\": \"scatter\"}], \"scatter3d\": [{\"line\": {\"colorbar\": {\"outlinewidth\": 0, \"ticks\": \"\"}}, \"marker\": {\"colorbar\": {\"outlinewidth\": 0, \"ticks\": \"\"}}, \"type\": \"scatter3d\"}], \"scattercarpet\": [{\"marker\": {\"colorbar\": {\"outlinewidth\": 0, \"ticks\": \"\"}}, \"type\": \"scattercarpet\"}], \"scattergeo\": [{\"marker\": {\"colorbar\": {\"outlinewidth\": 0, \"ticks\": \"\"}}, \"type\": \"scattergeo\"}], \"scattergl\": [{\"marker\": {\"colorbar\": {\"outlinewidth\": 0, \"ticks\": \"\"}}, \"type\": \"scattergl\"}], \"scattermapbox\": [{\"marker\": {\"colorbar\": {\"outlinewidth\": 0, \"ticks\": \"\"}}, \"type\": \"scattermapbox\"}], \"scatterpolar\": [{\"marker\": {\"colorbar\": {\"outlinewidth\": 0, \"ticks\": \"\"}}, \"type\": \"scatterpolar\"}], \"scatterpolargl\": [{\"marker\": {\"colorbar\": {\"outlinewidth\": 0, \"ticks\": \"\"}}, \"type\": \"scatterpolargl\"}], \"scatterternary\": [{\"marker\": {\"colorbar\": {\"outlinewidth\": 0, \"ticks\": \"\"}}, \"type\": \"scatterternary\"}], \"surface\": [{\"colorbar\": {\"outlinewidth\": 0, \"ticks\": \"\"}, \"colorscale\": [[0.0, \"#0d0887\"], [0.1111111111111111, \"#46039f\"], [0.2222222222222222, \"#7201a8\"], [0.3333333333333333, \"#9c179e\"], [0.4444444444444444, \"#bd3786\"], [0.5555555555555556, \"#d8576b\"], [0.6666666666666666, \"#ed7953\"], [0.7777777777777778, \"#fb9f3a\"], [0.8888888888888888, \"#fdca26\"], [1.0, \"#f0f921\"]], \"type\": \"surface\"}], \"table\": [{\"cells\": {\"fill\": {\"color\": \"#EBF0F8\"}, \"line\": {\"color\": \"white\"}}, \"header\": {\"fill\": {\"color\": \"#C8D4E3\"}, \"line\": {\"color\": \"white\"}}, \"type\": \"table\"}]}, \"layout\": {\"annotationdefaults\": {\"arrowcolor\": \"#2a3f5f\", \"arrowhead\": 0, \"arrowwidth\": 1}, \"colorscale\": {\"diverging\": [[0, \"#8e0152\"], [0.1, \"#c51b7d\"], [0.2, \"#de77ae\"], [0.3, \"#f1b6da\"], [0.4, \"#fde0ef\"], [0.5, \"#f7f7f7\"], [0.6, \"#e6f5d0\"], [0.7, \"#b8e186\"], [0.8, \"#7fbc41\"], [0.9, \"#4d9221\"], [1, \"#276419\"]], \"sequential\": [[0.0, \"#0d0887\"], [0.1111111111111111, \"#46039f\"], [0.2222222222222222, \"#7201a8\"], [0.3333333333333333, \"#9c179e\"], [0.4444444444444444, \"#bd3786\"], [0.5555555555555556, \"#d8576b\"], [0.6666666666666666, \"#ed7953\"], [0.7777777777777778, \"#fb9f3a\"], [0.8888888888888888, \"#fdca26\"], [1.0, \"#f0f921\"]], \"sequentialminus\": [[0.0, \"#0d0887\"], [0.1111111111111111, \"#46039f\"], [0.2222222222222222, \"#7201a8\"], [0.3333333333333333, \"#9c179e\"], [0.4444444444444444, \"#bd3786\"], [0.5555555555555556, \"#d8576b\"], [0.6666666666666666, \"#ed7953\"], [0.7777777777777778, \"#fb9f3a\"], [0.8888888888888888, \"#fdca26\"], [1.0, \"#f0f921\"]]}, \"colorway\": [\"#636efa\", \"#EF553B\", \"#00cc96\", \"#ab63fa\", \"#FFA15A\", \"#19d3f3\", \"#FF6692\", \"#B6E880\", \"#FF97FF\", \"#FECB52\"], \"font\": {\"color\": \"#2a3f5f\"}, \"geo\": {\"bgcolor\": \"white\", \"lakecolor\": \"white\", \"landcolor\": \"#E5ECF6\", \"showlakes\": true, \"showland\": true, \"subunitcolor\": \"white\"}, \"hoverlabel\": {\"align\": \"left\"}, \"hovermode\": \"closest\", \"mapbox\": {\"style\": \"light\"}, \"paper_bgcolor\": \"white\", \"plot_bgcolor\": \"#E5ECF6\", \"polar\": {\"angularaxis\": {\"gridcolor\": \"white\", \"linecolor\": \"white\", \"ticks\": \"\"}, \"bgcolor\": \"#E5ECF6\", \"radialaxis\": {\"gridcolor\": \"white\", \"linecolor\": \"white\", \"ticks\": \"\"}}, \"scene\": {\"xaxis\": {\"backgroundcolor\": \"#E5ECF6\", \"gridcolor\": \"white\", \"gridwidth\": 2, \"linecolor\": \"white\", \"showbackground\": true, \"ticks\": \"\", \"zerolinecolor\": \"white\"}, \"yaxis\": {\"backgroundcolor\": \"#E5ECF6\", \"gridcolor\": \"white\", \"gridwidth\": 2, \"linecolor\": \"white\", \"showbackground\": true, \"ticks\": \"\", \"zerolinecolor\": \"white\"}, \"zaxis\": {\"backgroundcolor\": \"#E5ECF6\", \"gridcolor\": \"white\", \"gridwidth\": 2, \"linecolor\": \"white\", \"showbackground\": true, \"ticks\": \"\", \"zerolinecolor\": \"white\"}}, \"shapedefaults\": {\"line\": {\"color\": \"#2a3f5f\"}}, \"ternary\": {\"aaxis\": {\"gridcolor\": \"white\", \"linecolor\": \"white\", \"ticks\": \"\"}, \"baxis\": {\"gridcolor\": \"white\", \"linecolor\": \"white\", \"ticks\": \"\"}, \"bgcolor\": \"#E5ECF6\", \"caxis\": {\"gridcolor\": \"white\", \"linecolor\": \"white\", \"ticks\": \"\"}}, \"title\": {\"x\": 0.05}, \"xaxis\": {\"automargin\": true, \"gridcolor\": \"white\", \"linecolor\": \"white\", \"ticks\": \"\", \"zerolinecolor\": \"white\", \"zerolinewidth\": 2}, \"yaxis\": {\"automargin\": true, \"gridcolor\": \"white\", \"linecolor\": \"white\", \"ticks\": \"\", \"zerolinecolor\": \"white\", \"zerolinewidth\": 2}}}, \"title\": {\"text\": \"Comparison of CV MSE After Leaving Out Single Features\"}, \"xaxis\": {\"title\": {\"text\": \"Feature Left Out\"}}, \"yaxis\": {\"title\": {\"text\": \"CV MSE\"}}},\n",
       "                        {\"responsive\": true}\n",
       "                    ).then(function(){\n",
       "                            \n",
       "var gd = document.getElementById('a1611de9-219f-48b1-971c-5ae80e4e2549');\n",
       "var x = new MutationObserver(function (mutations, observer) {{\n",
       "        var display = window.getComputedStyle(gd).display;\n",
       "        if (!display || display === 'none') {{\n",
       "            console.log([gd, 'removed!']);\n",
       "            Plotly.purge(gd);\n",
       "            observer.disconnect();\n",
       "        }}\n",
       "}});\n",
       "\n",
       "// Listen for the removal of the full notebook cells\n",
       "var notebookContainer = gd.closest('#notebook-container');\n",
       "if (notebookContainer) {{\n",
       "    x.observe(notebookContainer, {childList: true});\n",
       "}}\n",
       "\n",
       "// Listen for the clearing of the current output cell\n",
       "var outputEl = gd.closest('.output');\n",
       "if (outputEl) {{\n",
       "    x.observe(outputEl, {childList: true});\n",
       "}}\n",
       "\n",
       "                        })\n",
       "                };\n",
       "                });\n",
       "            </script>\n",
       "        </div>"
      ]
     },
     "metadata": {},
     "output_type": "display_data"
    }
   ],
   "source": [
    "#losses is a dictionary where keys = features of the model, value = mean squared error of the model\n",
    "all_loss = {}\n",
    "for feature in usable_features:\n",
    "    all_loss[feature] = combo_0_loss_cv\n",
    "    \n",
    "fig = compareModels(losses_cv, \"Left Out Feature\", all_loss, \"All Features\")\n",
    "fig.update_layout(\n",
    "    title=\"Comparison of CV MSE After Leaving Out Single Features\",\n",
    "    xaxis_title=\"Feature Left Out\",\n",
    "    yaxis_title=\"CV MSE\")\n",
    "fig.show()"
   ]
  },
  {
   "cell_type": "markdown",
   "metadata": {},
   "source": [
    "From the visualization above, we can see that certain features are more valuable to the linear regression model than others. It appears that First Confirmed Case UTC is valuable to predicting the Max Percent of Confirmed Cases since error increased when it was left out which makes sense since later first infection dates will have slower growth and have a lower proportion of the infected. Leaving out dem_to_rep_ratio seems to do the most in reducing model error which makes sense since compared to the other features, this one is the least health related though we were curious of the higher proportion of Republicans protesting stay-at-home orders influenced confirmed cases. "
   ]
  },
  {
   "cell_type": "markdown",
   "metadata": {},
   "source": [
    "Repeating the process above to visualize and compare all possible combinations of n features would be tedious and inefficient. I found a sklearn tool called `Recursive Feature Elimination` that efficiently takes the number of features you wish to have and recursively selects the best feature for the model until the number of features selected equals the number we indicated we wanted. This tool was used for all possible numbers of features and each optimal combination is output below."
   ]
  },
  {
   "cell_type": "markdown",
   "metadata": {},
   "source": [
    "### Selecting Top 3 Features"
   ]
  },
  {
   "cell_type": "code",
   "execution_count": 51,
   "metadata": {},
   "outputs": [
    {
     "name": "stdout",
     "output_type": "stream",
     "text": [
      "Possible Features: \n",
      "['Stay Home UTC', 'Smokers_Percentage', 'MedianAge2010', 'RespMortalityRate2014', 'SVIPercentile', 'Hospitals Per Capita', 'First Confirmed Case UTC', 'Stay Home Confirmed Diff']\n",
      "\n",
      "Num Features: 5\n",
      "Selected Features: \n",
      "['Stay Home UTC', 'SVIPercentile', 'Hospitals Per Capita', 'First Confirmed Case UTC', 'Stay Home Confirmed Diff']\n"
     ]
    }
   ],
   "source": [
    "from sklearn.feature_selection import RFE\n",
    "\n",
    "# Prevent mutations to usable_features\n",
    "copy = usable_features.copy()\n",
    "copy.remove(\"dem_to_rep_ratio\")\n",
    "print(\"Possible Features: \")\n",
    "print(copy)\n",
    "print()\n",
    "\n",
    "# Initialize training_data and model\n",
    "training_data = train[copy]\n",
    "\n",
    "model = LinearRegression()\n",
    "best_combos = {}\n",
    "\n",
    "# Iteration through all possible number of features\n",
    "rfe = RFE(model, 5)\n",
    "fit = rfe.fit(training_data, y)\n",
    "print(\"Num Features: %d\" % fit.n_features_)\n",
    "print(\"Selected Features: \")\n",
    "feats = []\n",
    "for j in range(len(copy)):\n",
    "    if fit.ranking_[j] == 1:\n",
    "        feats.append(copy[j])\n",
    "print(feats)"
   ]
  },
  {
   "cell_type": "markdown",
   "metadata": {},
   "source": [
    "### Visualizations"
   ]
  },
  {
   "cell_type": "code",
   "execution_count": null,
   "metadata": {},
   "outputs": [],
   "source": []
  },
  {
   "cell_type": "markdown",
   "metadata": {},
   "source": [
    "# Conclusions"
   ]
  },
  {
   "cell_type": "markdown",
   "metadata": {},
   "source": [
    "Our RFE suggests that the top features in predicting higher proportions of cases are the date of the first confirmed case and the date of the stay home order, the SVI Percentile, and the number of hospitals per capita. \n",
    "\n",
    "From these conclusions, we'd advise counties to mandate stay home orders as soon as possible, and in counties that have fewer hospitals per capita and higher SVI percentiles, to strictly enforce these orders.\n",
    "\n",
    "-----\n",
    "\n",
    "Above are the results of running sklearn's Recursive Feature Elimination tool, with the number of features we want to fit our model to and the combination of highest-ranked features that would produce the \"best-fit\" model. According to RFE, `stay at home` is not as high ranking of a feature and is never selected. The plot shows the cross validation MSE for each of the best combinations for 1 to (n - 1) features and compares to the best error we got from manually sampling (n - 1) features from the total n features we have to see which performed better. RFE and manual sampling returned different a different set of (n - 1) features so we compare the MSE between the two methods to cross-check."
   ]
  },
  {
   "cell_type": "markdown",
   "metadata": {},
   "source": [
    "# Other Things We Tried"
   ]
  },
  {
   "cell_type": "markdown",
   "metadata": {},
   "source": [
    "### Feature Selection"
   ]
  },
  {
   "cell_type": "markdown",
   "metadata": {},
   "source": [
    "We tried running through different combinations of the features, testing on both `LinearRegression` and `DecisionTreeRegressor` models, and see which ones work best. This wasn't useful because the models with more features always performed better in cross-validation."
   ]
  },
  {
   "cell_type": "code",
   "execution_count": null,
   "metadata": {},
   "outputs": [],
   "source": [
    "# Indices of the usable_features\n",
    "# 0, 1, 2 means we use Stay Home UTC, Smokers_Percentage, MedianAge2010\n",
    "combinations = [\n",
    "    [0, 1, 2, 3, 4, 5, 6, 7],\n",
    "    [0, 1, 2, 3, 4],\n",
    "    [0, 1, 2],\n",
    "]\n",
    "\n",
    "#Save losses for visualization purposes\n",
    "tree_losses = {}\n",
    "lin_losses = {}\n",
    "\n",
    "y = train['Max_Percent_Confirmed']\n",
    "best_combination = 0\n",
    "min_loss = math.inf\n",
    "best_model_is_linear = True\n",
    "for i in range(len(combinations)):\n",
    "    print('TESTING COMBINATION: {}'.format(i))\n",
    "    combination = combinations[i]\n",
    "    features = [usable_features[j] for j in combination]\n",
    "    training_data = train[features]\n",
    "    linear_error = crossValidateMSE(LinearRegression(), training_data, y)\n",
    "    tree_error = crossValidateMSE(tree.DecisionTreeRegressor(), training_data, y)\n",
    "    tree_losses[i] = tree_error\n",
    "    lin_losses[i] = linear_error\n",
    "    loss = min(linear_error, tree_error)\n",
    "    print('LINEAR ERROR: {}'.format(linear_error))\n",
    "    print('TREE ERROR: {}'.format(tree_error))\n",
    "    print()\n",
    "    #Saving the loss from using all 6 features for use in comparisons later\n",
    "#     if i == 0:\n",
    "#         combo_0_loss_cv = loss\n",
    "#         combo_0_loss_tr = mse(LinearRegression(), training_data, y)\n",
    "    if loss < min_loss:\n",
    "        min_loss = loss\n",
    "        best_combination = i\n",
    "        best_model_is_linear = linear_error < tree_error\n",
    "\n",
    "print('SUMMARY')\n",
    "print('BEST COMBINATION: {} WITH LOSS OF {}'.format(best_combination, min_loss))"
   ]
  },
  {
   "cell_type": "code",
   "execution_count": null,
   "metadata": {},
   "outputs": [],
   "source": [
    "losses = {}\n",
    "for combo in best_combos.keys():\n",
    "    feats = best_combos[combo]\n",
    "    training_data = train[feats]\n",
    "    cv_linear_error = crossValidateMSE(LinearRegression(), training_data, y)\n",
    "    losses[combo] = cv_linear_error\n",
    "\n",
    "\n",
    "fig = compareModels(losses, \"CV MSE\", {}, \"\")\n",
    "fig.add_trace(go.Scatter(\n",
    "    x=list(best_combos.keys()),\n",
    "    y=[best_loss[1] for _ in list(losses.keys())],\n",
    "    name=\"Best CV MSE from Manual Combo Selection\"\n",
    "))\n",
    "fig.update_layout(\n",
    "    title=\"Comparison of CV MSE Over All Best Feature Combos Found From RFE\",\n",
    "    xaxis_title=\"Best Feature Combination for n Features\",\n",
    "    yaxis_title=\"CV MSE\")\n",
    "fig.show()"
   ]
  },
  {
   "cell_type": "markdown",
   "metadata": {},
   "source": []
  },
  {
   "cell_type": "code",
   "execution_count": null,
   "metadata": {},
   "outputs": [],
   "source": [
    "best_features = best_combos[min(losses, key = losses.get)]\n",
    "print(\"THE BEST FEATURES FOR OUR \")"
   ]
  },
  {
   "cell_type": "code",
   "execution_count": null,
   "metadata": {},
   "outputs": [],
   "source": [
    "#once finalized model, train on test data and plot results"
   ]
  },
  {
   "cell_type": "code",
   "execution_count": null,
   "metadata": {},
   "outputs": [],
   "source": [
    "def mse(model, train, y):\n",
    "    model.fit(train, y)\n",
    "    return mean_squared_error(y, model.predict(train))"
   ]
  }
 ],
 "metadata": {
  "kernelspec": {
   "display_name": "Python 3",
   "language": "python",
   "name": "python3"
  },
  "language_info": {
   "codemirror_mode": {
    "name": "ipython",
    "version": 3
   },
   "file_extension": ".py",
   "mimetype": "text/x-python",
   "name": "python",
   "nbconvert_exporter": "python",
   "pygments_lexer": "ipython3",
   "version": "3.6.9"
  }
 },
 "nbformat": 4,
 "nbformat_minor": 2
}
